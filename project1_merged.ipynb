{
 "cells": [
  {
   "cell_type": "code",
   "execution_count": 1,
   "id": "51b8998d",
   "metadata": {},
   "outputs": [],
   "source": [
    "%matplotlib notebook\n",
    "%matplotlib inline"
   ]
  },
  {
   "cell_type": "code",
   "execution_count": 2,
   "id": "5baf2efc",
   "metadata": {},
   "outputs": [],
   "source": [
    "import warnings\n",
    "warnings.filterwarnings('ignore')"
   ]
  },
  {
   "cell_type": "code",
   "execution_count": 3,
   "id": "44e01058",
   "metadata": {},
   "outputs": [],
   "source": [
    "#dependencies\n",
    "import pandas as pd\n",
    "import matplotlib.pyplot as plt\n",
    "import matplotlib as mpl\n",
    "import numpy as np\n",
    "import sklearn.datasets as dta\n",
    "import scipy.stats as st\n",
    "from scipy.stats import sem"
   ]
  },
  {
   "cell_type": "code",
   "execution_count": 4,
   "id": "c314b200",
   "metadata": {},
   "outputs": [],
   "source": [
    "# reading file content\n",
    "df = pd.read_csv('./Resources/cleaned_df.csv')"
   ]
  },
  {
   "cell_type": "markdown",
   "id": "ac5f21cd",
   "metadata": {},
   "source": [
    "### Cleaning Row Data"
   ]
  },
  {
   "cell_type": "code",
   "execution_count": 5,
   "id": "4664395d",
   "metadata": {},
   "outputs": [
    {
     "name": "stdout",
     "output_type": "stream",
     "text": [
      "<class 'pandas.core.frame.DataFrame'>\n",
      "RangeIndex: 307122 entries, 0 to 307121\n",
      "Data columns (total 10 columns):\n",
      " #   Column              Non-Null Count   Dtype \n",
      "---  ------              --------------   ----- \n",
      " 0   dateCrawled         307122 non-null  object\n",
      " 1   name                307122 non-null  object\n",
      " 2   price               307122 non-null  int64 \n",
      " 3   vehicleType         307122 non-null  object\n",
      " 4   yearOfRegistration  307122 non-null  int64 \n",
      " 5   model               307122 non-null  object\n",
      " 6   kilometer           307122 non-null  int64 \n",
      " 7   fuelType            307122 non-null  object\n",
      " 8   brand               307122 non-null  object\n",
      " 9   lastSeen            307122 non-null  object\n",
      "dtypes: int64(3), object(7)\n",
      "memory usage: 23.4+ MB\n"
     ]
    }
   ],
   "source": [
    "# The structure of the dataset\n",
    "df.info()\n",
    "# total 10 columns. All non-null, 307122 rows. "
   ]
  },
  {
   "cell_type": "code",
   "execution_count": 6,
   "id": "1c9f6be1",
   "metadata": {},
   "outputs": [
    {
     "data": {
      "text/html": [
       "<div>\n",
       "<style scoped>\n",
       "    .dataframe tbody tr th:only-of-type {\n",
       "        vertical-align: middle;\n",
       "    }\n",
       "\n",
       "    .dataframe tbody tr th {\n",
       "        vertical-align: top;\n",
       "    }\n",
       "\n",
       "    .dataframe thead th {\n",
       "        text-align: right;\n",
       "    }\n",
       "</style>\n",
       "<table border=\"1\" class=\"dataframe\">\n",
       "  <thead>\n",
       "    <tr style=\"text-align: right;\">\n",
       "      <th></th>\n",
       "      <th>price</th>\n",
       "      <th>yearOfRegistration</th>\n",
       "      <th>kilometer</th>\n",
       "    </tr>\n",
       "  </thead>\n",
       "  <tbody>\n",
       "    <tr>\n",
       "      <th>count</th>\n",
       "      <td>3.071220e+05</td>\n",
       "      <td>307122.000000</td>\n",
       "      <td>307122.000000</td>\n",
       "    </tr>\n",
       "    <tr>\n",
       "      <th>mean</th>\n",
       "      <td>9.404320e+03</td>\n",
       "      <td>2002.903706</td>\n",
       "      <td>125391.180052</td>\n",
       "    </tr>\n",
       "    <tr>\n",
       "      <th>std</th>\n",
       "      <td>5.192426e+05</td>\n",
       "      <td>6.597030</td>\n",
       "      <td>39347.308065</td>\n",
       "    </tr>\n",
       "    <tr>\n",
       "      <th>min</th>\n",
       "      <td>0.000000e+00</td>\n",
       "      <td>1910.000000</td>\n",
       "      <td>5000.000000</td>\n",
       "    </tr>\n",
       "    <tr>\n",
       "      <th>25%</th>\n",
       "      <td>1.399000e+03</td>\n",
       "      <td>1999.000000</td>\n",
       "      <td>100000.000000</td>\n",
       "    </tr>\n",
       "    <tr>\n",
       "      <th>50%</th>\n",
       "      <td>3.450000e+03</td>\n",
       "      <td>2003.000000</td>\n",
       "      <td>150000.000000</td>\n",
       "    </tr>\n",
       "    <tr>\n",
       "      <th>75%</th>\n",
       "      <td>7.980000e+03</td>\n",
       "      <td>2007.000000</td>\n",
       "      <td>150000.000000</td>\n",
       "    </tr>\n",
       "    <tr>\n",
       "      <th>max</th>\n",
       "      <td>1.000000e+08</td>\n",
       "      <td>2018.000000</td>\n",
       "      <td>150000.000000</td>\n",
       "    </tr>\n",
       "  </tbody>\n",
       "</table>\n",
       "</div>"
      ],
      "text/plain": [
       "              price  yearOfRegistration      kilometer\n",
       "count  3.071220e+05       307122.000000  307122.000000\n",
       "mean   9.404320e+03         2002.903706  125391.180052\n",
       "std    5.192426e+05            6.597030   39347.308065\n",
       "min    0.000000e+00         1910.000000    5000.000000\n",
       "25%    1.399000e+03         1999.000000  100000.000000\n",
       "50%    3.450000e+03         2003.000000  150000.000000\n",
       "75%    7.980000e+03         2007.000000  150000.000000\n",
       "max    1.000000e+08         2018.000000  150000.000000"
      ]
     },
     "execution_count": 6,
     "metadata": {},
     "output_type": "execute_result"
    }
   ],
   "source": [
    "df.describe()\n",
    "\n",
    "# Interquartile distribution "
   ]
  },
  {
   "cell_type": "code",
   "execution_count": 7,
   "id": "1ec2e074",
   "metadata": {},
   "outputs": [
    {
     "data": {
      "text/plain": [
       "(307122, 10)"
      ]
     },
     "execution_count": 7,
     "metadata": {},
     "output_type": "execute_result"
    }
   ],
   "source": [
    "# Getting the dimensions\n",
    "df.shape"
   ]
  },
  {
   "cell_type": "code",
   "execution_count": 8,
   "id": "4f0ce982",
   "metadata": {},
   "outputs": [
    {
     "data": {
      "text/plain": [
       "Index(['offeringDate', 'name', 'price', 'vehicleType', 'yearOfRegistration',\n",
       "       'model', 'kilometer', 'fuelType', 'brand', 'lastSeen'],\n",
       "      dtype='object')"
      ]
     },
     "execution_count": 8,
     "metadata": {},
     "output_type": "execute_result"
    }
   ],
   "source": [
    "# Renaming dateCrawled to offeringDate\n",
    "df.rename(columns={'dateCrawled': 'offeringDate'}, inplace=True)\n",
    "# Listing out the columns\n",
    "df.columns"
   ]
  },
  {
   "cell_type": "code",
   "execution_count": 9,
   "id": "9ca5e2a9",
   "metadata": {},
   "outputs": [
    {
     "data": {
      "text/html": [
       "<div>\n",
       "<style scoped>\n",
       "    .dataframe tbody tr th:only-of-type {\n",
       "        vertical-align: middle;\n",
       "    }\n",
       "\n",
       "    .dataframe tbody tr th {\n",
       "        vertical-align: top;\n",
       "    }\n",
       "\n",
       "    .dataframe thead th {\n",
       "        text-align: right;\n",
       "    }\n",
       "</style>\n",
       "<table border=\"1\" class=\"dataframe\">\n",
       "  <thead>\n",
       "    <tr style=\"text-align: right;\">\n",
       "      <th></th>\n",
       "      <th>offeringDate</th>\n",
       "      <th>name</th>\n",
       "      <th>price</th>\n",
       "      <th>vehicleType</th>\n",
       "      <th>yearOfRegistration</th>\n",
       "      <th>model</th>\n",
       "      <th>kilometer</th>\n",
       "      <th>fuelType</th>\n",
       "      <th>brand</th>\n",
       "      <th>lastSeen</th>\n",
       "    </tr>\n",
       "  </thead>\n",
       "  <tbody>\n",
       "    <tr>\n",
       "      <th>0</th>\n",
       "      <td>2016-03-14 12:52:21</td>\n",
       "      <td>Jeep_Grand_Cherokee_\"Overland\"</td>\n",
       "      <td>9800</td>\n",
       "      <td>suv</td>\n",
       "      <td>2004</td>\n",
       "      <td>grand</td>\n",
       "      <td>125000</td>\n",
       "      <td>diesel</td>\n",
       "      <td>jeep</td>\n",
       "      <td>2016-04-05 12:47:46</td>\n",
       "    </tr>\n",
       "    <tr>\n",
       "      <th>1</th>\n",
       "      <td>2016-03-17 16:54:04</td>\n",
       "      <td>GOLF_4_1_4__3TÜRER</td>\n",
       "      <td>1500</td>\n",
       "      <td>kleinwagen</td>\n",
       "      <td>2001</td>\n",
       "      <td>golf</td>\n",
       "      <td>150000</td>\n",
       "      <td>benzin</td>\n",
       "      <td>volkswagen</td>\n",
       "      <td>2016-03-17 17:40:17</td>\n",
       "    </tr>\n",
       "    <tr>\n",
       "      <th>2</th>\n",
       "      <td>2016-03-31 17:25:20</td>\n",
       "      <td>Skoda_Fabia_1.4_TDI_PD_Classic</td>\n",
       "      <td>3600</td>\n",
       "      <td>kleinwagen</td>\n",
       "      <td>2008</td>\n",
       "      <td>fabia</td>\n",
       "      <td>90000</td>\n",
       "      <td>diesel</td>\n",
       "      <td>skoda</td>\n",
       "      <td>2016-04-06 10:17:21</td>\n",
       "    </tr>\n",
       "    <tr>\n",
       "      <th>3</th>\n",
       "      <td>2016-04-04 17:36:23</td>\n",
       "      <td>BMW_316i___e36_Limousine___Bastlerfahrzeug__Ex...</td>\n",
       "      <td>650</td>\n",
       "      <td>limousine</td>\n",
       "      <td>1995</td>\n",
       "      <td>3er</td>\n",
       "      <td>150000</td>\n",
       "      <td>benzin</td>\n",
       "      <td>bmw</td>\n",
       "      <td>2016-04-06 19:17:07</td>\n",
       "    </tr>\n",
       "    <tr>\n",
       "      <th>4</th>\n",
       "      <td>2016-04-01 20:48:51</td>\n",
       "      <td>Peugeot_206_CC_110_Platinum</td>\n",
       "      <td>2200</td>\n",
       "      <td>cabrio</td>\n",
       "      <td>2004</td>\n",
       "      <td>2_reihe</td>\n",
       "      <td>150000</td>\n",
       "      <td>benzin</td>\n",
       "      <td>peugeot</td>\n",
       "      <td>2016-04-05 18:18:39</td>\n",
       "    </tr>\n",
       "    <tr>\n",
       "      <th>5</th>\n",
       "      <td>2016-03-21 18:54:38</td>\n",
       "      <td>VW_Derby_Bj_80__Scheunenfund</td>\n",
       "      <td>0</td>\n",
       "      <td>limousine</td>\n",
       "      <td>1980</td>\n",
       "      <td>andere</td>\n",
       "      <td>40000</td>\n",
       "      <td>benzin</td>\n",
       "      <td>volkswagen</td>\n",
       "      <td>2016-03-25 16:47:58</td>\n",
       "    </tr>\n",
       "    <tr>\n",
       "      <th>6</th>\n",
       "      <td>2016-04-04 23:42:13</td>\n",
       "      <td>Ford_C___Max_Titanium_1_0_L_EcoBoost</td>\n",
       "      <td>14500</td>\n",
       "      <td>bus</td>\n",
       "      <td>2014</td>\n",
       "      <td>c_max</td>\n",
       "      <td>30000</td>\n",
       "      <td>benzin</td>\n",
       "      <td>ford</td>\n",
       "      <td>2016-04-04 23:42:13</td>\n",
       "    </tr>\n",
       "    <tr>\n",
       "      <th>7</th>\n",
       "      <td>2016-03-26 19:54:18</td>\n",
       "      <td>Mazda_3_1.6_Sport</td>\n",
       "      <td>2000</td>\n",
       "      <td>limousine</td>\n",
       "      <td>2004</td>\n",
       "      <td>3_reihe</td>\n",
       "      <td>150000</td>\n",
       "      <td>benzin</td>\n",
       "      <td>mazda</td>\n",
       "      <td>2016-04-06 10:45:34</td>\n",
       "    </tr>\n",
       "    <tr>\n",
       "      <th>8</th>\n",
       "      <td>2016-04-07 10:06:22</td>\n",
       "      <td>Volkswagen_Passat_Variant_2.0_TDI_Comfortline</td>\n",
       "      <td>2799</td>\n",
       "      <td>kombi</td>\n",
       "      <td>2005</td>\n",
       "      <td>passat</td>\n",
       "      <td>150000</td>\n",
       "      <td>diesel</td>\n",
       "      <td>volkswagen</td>\n",
       "      <td>2016-04-07 10:25:17</td>\n",
       "    </tr>\n",
       "    <tr>\n",
       "      <th>9</th>\n",
       "      <td>2016-03-15 22:49:09</td>\n",
       "      <td>VW_Passat_Facelift_35i__\"7Sitzer\"</td>\n",
       "      <td>999</td>\n",
       "      <td>kombi</td>\n",
       "      <td>1995</td>\n",
       "      <td>passat</td>\n",
       "      <td>150000</td>\n",
       "      <td>benzin</td>\n",
       "      <td>volkswagen</td>\n",
       "      <td>2016-04-01 13:16:16</td>\n",
       "    </tr>\n",
       "  </tbody>\n",
       "</table>\n",
       "</div>"
      ],
      "text/plain": [
       "          offeringDate                                               name  \\\n",
       "0  2016-03-14 12:52:21                     Jeep_Grand_Cherokee_\"Overland\"   \n",
       "1  2016-03-17 16:54:04                                 GOLF_4_1_4__3TÜRER   \n",
       "2  2016-03-31 17:25:20                     Skoda_Fabia_1.4_TDI_PD_Classic   \n",
       "3  2016-04-04 17:36:23  BMW_316i___e36_Limousine___Bastlerfahrzeug__Ex...   \n",
       "4  2016-04-01 20:48:51                        Peugeot_206_CC_110_Platinum   \n",
       "5  2016-03-21 18:54:38                       VW_Derby_Bj_80__Scheunenfund   \n",
       "6  2016-04-04 23:42:13               Ford_C___Max_Titanium_1_0_L_EcoBoost   \n",
       "7  2016-03-26 19:54:18                                  Mazda_3_1.6_Sport   \n",
       "8  2016-04-07 10:06:22      Volkswagen_Passat_Variant_2.0_TDI_Comfortline   \n",
       "9  2016-03-15 22:49:09                  VW_Passat_Facelift_35i__\"7Sitzer\"   \n",
       "\n",
       "   price vehicleType  yearOfRegistration    model  kilometer fuelType  \\\n",
       "0   9800         suv                2004    grand     125000   diesel   \n",
       "1   1500  kleinwagen                2001     golf     150000   benzin   \n",
       "2   3600  kleinwagen                2008    fabia      90000   diesel   \n",
       "3    650   limousine                1995      3er     150000   benzin   \n",
       "4   2200      cabrio                2004  2_reihe     150000   benzin   \n",
       "5      0   limousine                1980   andere      40000   benzin   \n",
       "6  14500         bus                2014    c_max      30000   benzin   \n",
       "7   2000   limousine                2004  3_reihe     150000   benzin   \n",
       "8   2799       kombi                2005   passat     150000   diesel   \n",
       "9    999       kombi                1995   passat     150000   benzin   \n",
       "\n",
       "        brand             lastSeen  \n",
       "0        jeep  2016-04-05 12:47:46  \n",
       "1  volkswagen  2016-03-17 17:40:17  \n",
       "2       skoda  2016-04-06 10:17:21  \n",
       "3         bmw  2016-04-06 19:17:07  \n",
       "4     peugeot  2016-04-05 18:18:39  \n",
       "5  volkswagen  2016-03-25 16:47:58  \n",
       "6        ford  2016-04-04 23:42:13  \n",
       "7       mazda  2016-04-06 10:45:34  \n",
       "8  volkswagen  2016-04-07 10:25:17  \n",
       "9  volkswagen  2016-04-01 13:16:16  "
      ]
     },
     "execution_count": 9,
     "metadata": {},
     "output_type": "execute_result"
    }
   ],
   "source": [
    "df.head(10)"
   ]
  },
  {
   "cell_type": "markdown",
   "id": "6178ffee",
   "metadata": {},
   "source": [
    "###### Some entries for vehicleType are in German, converting them to English. "
   ]
  },
  {
   "cell_type": "code",
   "execution_count": 10,
   "id": "23c2c344",
   "metadata": {},
   "outputs": [
    {
     "data": {
      "text/plain": [
       "array(['suv', 'sedan', 'luxury', 'convertable', 'bus', 'station', 'coupe',\n",
       "       'other'], dtype=object)"
      ]
     },
     "execution_count": 10,
     "metadata": {},
     "output_type": "execute_result"
    }
   ],
   "source": [
    "df['vehicleType'] = df['vehicleType'].replace({'andere' : 'other','kombi' : 'station','kleinwagen': 'sedan',\n",
    "                                               'cabrio': 'convertable','limousine': 'luxury'})\n",
    "df.vehicleType.unique()\n"
   ]
  },
  {
   "cell_type": "code",
   "execution_count": 11,
   "id": "96440f53",
   "metadata": {},
   "outputs": [
    {
     "data": {
      "text/html": [
       "<div>\n",
       "<style scoped>\n",
       "    .dataframe tbody tr th:only-of-type {\n",
       "        vertical-align: middle;\n",
       "    }\n",
       "\n",
       "    .dataframe tbody tr th {\n",
       "        vertical-align: top;\n",
       "    }\n",
       "\n",
       "    .dataframe thead th {\n",
       "        text-align: right;\n",
       "    }\n",
       "</style>\n",
       "<table border=\"1\" class=\"dataframe\">\n",
       "  <thead>\n",
       "    <tr style=\"text-align: right;\">\n",
       "      <th></th>\n",
       "      <th>offeringDate</th>\n",
       "      <th>name</th>\n",
       "      <th>price</th>\n",
       "      <th>vehicleType</th>\n",
       "      <th>yearOfRegistration</th>\n",
       "      <th>model</th>\n",
       "      <th>kilometer</th>\n",
       "      <th>fuelType</th>\n",
       "      <th>brand</th>\n",
       "      <th>lastSeen</th>\n",
       "    </tr>\n",
       "  </thead>\n",
       "  <tbody>\n",
       "    <tr>\n",
       "      <th>129403</th>\n",
       "      <td>2016-03-07 12:00:46</td>\n",
       "      <td>Golf_7_Variant__184_PS__Erstzulassung_2013__53...</td>\n",
       "      <td>10000</td>\n",
       "      <td>station</td>\n",
       "      <td>2013</td>\n",
       "      <td>golf</td>\n",
       "      <td>60000</td>\n",
       "      <td>diesel</td>\n",
       "      <td>volkswagen</td>\n",
       "      <td>2016-03-20 12:49:27</td>\n",
       "    </tr>\n",
       "    <tr>\n",
       "      <th>148340</th>\n",
       "      <td>2016-03-08 18:42:48</td>\n",
       "      <td>Mercedes_Benz_CLK_Coupe_230_Kompressor_Sport</td>\n",
       "      <td>1799</td>\n",
       "      <td>coupe</td>\n",
       "      <td>1999</td>\n",
       "      <td>clk</td>\n",
       "      <td>20000</td>\n",
       "      <td>benzin</td>\n",
       "      <td>mercedes_benz</td>\n",
       "      <td>2016-03-09 09:46:57</td>\n",
       "    </tr>\n",
       "    <tr>\n",
       "      <th>200383</th>\n",
       "      <td>2016-03-28 00:56:10</td>\n",
       "      <td>Suzuki_Ignis</td>\n",
       "      <td>1000</td>\n",
       "      <td>sedan</td>\n",
       "      <td>2002</td>\n",
       "      <td>andere</td>\n",
       "      <td>150000</td>\n",
       "      <td>benzin</td>\n",
       "      <td>suzuki</td>\n",
       "      <td>2016-03-28 08:46:21</td>\n",
       "    </tr>\n",
       "    <tr>\n",
       "      <th>223758</th>\n",
       "      <td>2016-04-03 09:01:15</td>\n",
       "      <td>Mercedes_Benz_CLK_320_W209</td>\n",
       "      <td>4699</td>\n",
       "      <td>coupe</td>\n",
       "      <td>2003</td>\n",
       "      <td>clk</td>\n",
       "      <td>125000</td>\n",
       "      <td>benzin</td>\n",
       "      <td>mercedes_benz</td>\n",
       "      <td>2016-04-07 09:44:54</td>\n",
       "    </tr>\n",
       "    <tr>\n",
       "      <th>282289</th>\n",
       "      <td>2016-03-18 18:46:15</td>\n",
       "      <td>Volkswagen_Passat_Variant_1.9_TDI_Highline</td>\n",
       "      <td>1999</td>\n",
       "      <td>station</td>\n",
       "      <td>2001</td>\n",
       "      <td>passat</td>\n",
       "      <td>150000</td>\n",
       "      <td>diesel</td>\n",
       "      <td>volkswagen</td>\n",
       "      <td>2016-03-18 18:46:15</td>\n",
       "    </tr>\n",
       "  </tbody>\n",
       "</table>\n",
       "</div>"
      ],
      "text/plain": [
       "               offeringDate  \\\n",
       "129403  2016-03-07 12:00:46   \n",
       "148340  2016-03-08 18:42:48   \n",
       "200383  2016-03-28 00:56:10   \n",
       "223758  2016-04-03 09:01:15   \n",
       "282289  2016-03-18 18:46:15   \n",
       "\n",
       "                                                     name  price vehicleType  \\\n",
       "129403  Golf_7_Variant__184_PS__Erstzulassung_2013__53...  10000     station   \n",
       "148340       Mercedes_Benz_CLK_Coupe_230_Kompressor_Sport   1799       coupe   \n",
       "200383                                       Suzuki_Ignis   1000       sedan   \n",
       "223758                         Mercedes_Benz_CLK_320_W209   4699       coupe   \n",
       "282289         Volkswagen_Passat_Variant_1.9_TDI_Highline   1999     station   \n",
       "\n",
       "        yearOfRegistration   model  kilometer fuelType          brand  \\\n",
       "129403                2013    golf      60000   diesel     volkswagen   \n",
       "148340                1999     clk      20000   benzin  mercedes_benz   \n",
       "200383                2002  andere     150000   benzin         suzuki   \n",
       "223758                2003     clk     125000   benzin  mercedes_benz   \n",
       "282289                2001  passat     150000   diesel     volkswagen   \n",
       "\n",
       "                   lastSeen  \n",
       "129403  2016-03-20 12:49:27  \n",
       "148340  2016-03-09 09:46:57  \n",
       "200383  2016-03-28 08:46:21  \n",
       "223758  2016-04-07 09:44:54  \n",
       "282289  2016-03-18 18:46:15  "
      ]
     },
     "execution_count": 11,
     "metadata": {},
     "output_type": "execute_result"
    }
   ],
   "source": [
    "# Getting rid of Duplicates\n",
    " \n",
    "duplicate_rows = df[df.duplicated()]\n",
    "\n",
    "duplicate_rows "
   ]
  },
  {
   "cell_type": "code",
   "execution_count": 12,
   "id": "fc5f1c8e",
   "metadata": {},
   "outputs": [],
   "source": [
    "# No more duplicates\n",
    "df = df.drop_duplicates() \n"
   ]
  },
  {
   "cell_type": "markdown",
   "id": "e8f3f8fb",
   "metadata": {},
   "source": [
    "----------------------------"
   ]
  },
  {
   "cell_type": "markdown",
   "id": "0d2edb27",
   "metadata": {},
   "source": [
    "# Research Questions to Answer"
   ]
  },
  {
   "cell_type": "markdown",
   "id": "f23b7fb9",
   "metadata": {},
   "source": [
    "____________________________________________________"
   ]
  },
  {
   "cell_type": "markdown",
   "id": "87e98fcb",
   "metadata": {},
   "source": [
    "##  Prices Distribution \n",
    "##### Finding outliers those could deviate mean and median prices"
   ]
  },
  {
   "cell_type": "code",
   "execution_count": 13,
   "id": "a4486550",
   "metadata": {},
   "outputs": [
    {
     "data": {
      "text/plain": [
       "99999999"
      ]
     },
     "execution_count": 13,
     "metadata": {},
     "output_type": "execute_result"
    }
   ],
   "source": [
    "df['price'].max()"
   ]
  },
  {
   "cell_type": "code",
   "execution_count": 14,
   "id": "f39a78b1",
   "metadata": {},
   "outputs": [
    {
     "data": {
      "image/png": "[encoded data removed]",
      "text/plain": [
       "<Figure size 640x480 with 1 Axes>"
      ]
     },
     "metadata": {},
     "output_type": "display_data"
    }
   ],
   "source": [
    "fig1, ax1 = plt.subplots()\n",
    "ax1.set_title('Prices Distribution',color='b')\n",
    "ax1.set_ylabel('Price x 10^8',color='b')\n",
    "ax1.boxplot(df['price'])\n",
    "plt.show()"
   ]
  },
  {
   "cell_type": "code",
   "execution_count": 15,
   "id": "04eacb8b",
   "metadata": {},
   "outputs": [
    {
     "data": {
      "text/plain": [
       "(293131, 10)"
      ]
     },
     "execution_count": 15,
     "metadata": {},
     "output_type": "execute_result"
    }
   ],
   "source": [
    "df2 = df.loc[(df['price'] < 100*1000)&(df['price']>300),:]\n",
    "df2.shape"
   ]
  },
  {
   "cell_type": "code",
   "execution_count": 16,
   "id": "67bdabcc",
   "metadata": {},
   "outputs": [
    {
     "data": {
      "text/plain": [
       "301"
      ]
     },
     "execution_count": 16,
     "metadata": {},
     "output_type": "execute_result"
    }
   ],
   "source": [
    "df2['price'].min()"
   ]
  },
  {
   "cell_type": "code",
   "execution_count": 17,
   "id": "429e115f",
   "metadata": {},
   "outputs": [
    {
     "data": {
      "text/html": [
       "<div>\n",
       "<style scoped>\n",
       "    .dataframe tbody tr th:only-of-type {\n",
       "        vertical-align: middle;\n",
       "    }\n",
       "\n",
       "    .dataframe tbody tr th {\n",
       "        vertical-align: top;\n",
       "    }\n",
       "\n",
       "    .dataframe thead th {\n",
       "        text-align: right;\n",
       "    }\n",
       "</style>\n",
       "<table border=\"1\" class=\"dataframe\">\n",
       "  <thead>\n",
       "    <tr style=\"text-align: right;\">\n",
       "      <th></th>\n",
       "      <th>offeringDate</th>\n",
       "      <th>name</th>\n",
       "      <th>price</th>\n",
       "      <th>vehicleType</th>\n",
       "      <th>yearOfRegistration</th>\n",
       "      <th>model</th>\n",
       "      <th>kilometer</th>\n",
       "      <th>fuelType</th>\n",
       "      <th>brand</th>\n",
       "      <th>lastSeen</th>\n",
       "    </tr>\n",
       "  </thead>\n",
       "  <tbody>\n",
       "    <tr>\n",
       "      <th>0</th>\n",
       "      <td>2016-03-14 12:52:21</td>\n",
       "      <td>Jeep_Grand_Cherokee_\"Overland\"</td>\n",
       "      <td>9800</td>\n",
       "      <td>suv</td>\n",
       "      <td>2004</td>\n",
       "      <td>grand</td>\n",
       "      <td>125000</td>\n",
       "      <td>diesel</td>\n",
       "      <td>jeep</td>\n",
       "      <td>2016-04-05 12:47:46</td>\n",
       "    </tr>\n",
       "    <tr>\n",
       "      <th>1</th>\n",
       "      <td>2016-03-17 16:54:04</td>\n",
       "      <td>GOLF_4_1_4__3TÜRER</td>\n",
       "      <td>1500</td>\n",
       "      <td>sedan</td>\n",
       "      <td>2001</td>\n",
       "      <td>golf</td>\n",
       "      <td>150000</td>\n",
       "      <td>benzin</td>\n",
       "      <td>volkswagen</td>\n",
       "      <td>2016-03-17 17:40:17</td>\n",
       "    </tr>\n",
       "    <tr>\n",
       "      <th>2</th>\n",
       "      <td>2016-03-31 17:25:20</td>\n",
       "      <td>Skoda_Fabia_1.4_TDI_PD_Classic</td>\n",
       "      <td>3600</td>\n",
       "      <td>sedan</td>\n",
       "      <td>2008</td>\n",
       "      <td>fabia</td>\n",
       "      <td>90000</td>\n",
       "      <td>diesel</td>\n",
       "      <td>skoda</td>\n",
       "      <td>2016-04-06 10:17:21</td>\n",
       "    </tr>\n",
       "    <tr>\n",
       "      <th>3</th>\n",
       "      <td>2016-04-04 17:36:23</td>\n",
       "      <td>BMW_316i___e36_Limousine___Bastlerfahrzeug__Ex...</td>\n",
       "      <td>650</td>\n",
       "      <td>luxury</td>\n",
       "      <td>1995</td>\n",
       "      <td>3er</td>\n",
       "      <td>150000</td>\n",
       "      <td>benzin</td>\n",
       "      <td>bmw</td>\n",
       "      <td>2016-04-06 19:17:07</td>\n",
       "    </tr>\n",
       "    <tr>\n",
       "      <th>4</th>\n",
       "      <td>2016-04-01 20:48:51</td>\n",
       "      <td>Peugeot_206_CC_110_Platinum</td>\n",
       "      <td>2200</td>\n",
       "      <td>convertable</td>\n",
       "      <td>2004</td>\n",
       "      <td>2_reihe</td>\n",
       "      <td>150000</td>\n",
       "      <td>benzin</td>\n",
       "      <td>peugeot</td>\n",
       "      <td>2016-04-05 18:18:39</td>\n",
       "    </tr>\n",
       "  </tbody>\n",
       "</table>\n",
       "</div>"
      ],
      "text/plain": [
       "          offeringDate                                               name  \\\n",
       "0  2016-03-14 12:52:21                     Jeep_Grand_Cherokee_\"Overland\"   \n",
       "1  2016-03-17 16:54:04                                 GOLF_4_1_4__3TÜRER   \n",
       "2  2016-03-31 17:25:20                     Skoda_Fabia_1.4_TDI_PD_Classic   \n",
       "3  2016-04-04 17:36:23  BMW_316i___e36_Limousine___Bastlerfahrzeug__Ex...   \n",
       "4  2016-04-01 20:48:51                        Peugeot_206_CC_110_Platinum   \n",
       "\n",
       "   price  vehicleType  yearOfRegistration    model  kilometer fuelType  \\\n",
       "0   9800          suv                2004    grand     125000   diesel   \n",
       "1   1500        sedan                2001     golf     150000   benzin   \n",
       "2   3600        sedan                2008    fabia      90000   diesel   \n",
       "3    650       luxury                1995      3er     150000   benzin   \n",
       "4   2200  convertable                2004  2_reihe     150000   benzin   \n",
       "\n",
       "        brand             lastSeen  \n",
       "0        jeep  2016-04-05 12:47:46  \n",
       "1  volkswagen  2016-03-17 17:40:17  \n",
       "2       skoda  2016-04-06 10:17:21  \n",
       "3         bmw  2016-04-06 19:17:07  \n",
       "4     peugeot  2016-04-05 18:18:39  "
      ]
     },
     "execution_count": 17,
     "metadata": {},
     "output_type": "execute_result"
    }
   ],
   "source": [
    "df2.head()"
   ]
  },
  {
   "cell_type": "code",
   "execution_count": 18,
   "id": "a961c89a",
   "metadata": {},
   "outputs": [
    {
     "data": {
      "image/png": "[encoded data removed]",
      "text/plain": [
       "<Figure size 640x480 with 1 Axes>"
      ]
     },
     "metadata": {},
     "output_type": "display_data"
    }
   ],
   "source": [
    "fig1, ax1 = plt.subplots()\n",
    "ax1.set_title('Prices Distribution',fontsize= 20,color='b')\n",
    "ax1.set_ylabel('Prices',fontsize= 15,color='b')\n",
    "ax1.boxplot(df2['price'])\n",
    "plt.savefig(\"./image/Price Distribution (box plot).png\")\n",
    "plt.show()"
   ]
  },
  {
   "cell_type": "code",
   "execution_count": 19,
   "id": "8a6da666",
   "metadata": {
    "scrolled": true
   },
   "outputs": [
    {
     "name": "stdout",
     "output_type": "stream",
     "text": [
      "The lower quartile of prices is: 1550.0\n",
      "The upper quartile of prices is: 8250.0\n",
      "\n",
      "The interquartile range of prices is: 6700.0\n",
      "\n",
      "The the min of prices is: 301\n",
      "The the max of prices is: 99999\n",
      "The the mean of prices is: 6385.723505872801\n",
      "The the median of prices is: 3650.0 \n",
      "The the mode of prices is: 0    1500\n",
      "Name: price, dtype: int64\n",
      "\n",
      "Values below -8500.0 could be outliers.\n",
      "Values above 18300.0 could be outliers.\n"
     ]
    }
   ],
   "source": [
    "quartiles = df2['price'].quantile([.25,.5,.75])\n",
    "lowerq = quartiles[0.25]\n",
    "upperq = quartiles[0.75]\n",
    "iqr = upperq-lowerq\n",
    "\n",
    "print(f\"The lower quartile of prices is: {lowerq}\")\n",
    "print(f\"The upper quartile of prices is: {upperq}\")\n",
    "print(f\"\")\n",
    "print(f\"The interquartile range of prices is: {iqr}\")\n",
    "print(f\"\")\n",
    "print(f\"The the min of prices is: {df2['price'].min()}\")\n",
    "print(f\"The the max of prices is: {df2['price'].max()}\")\n",
    "print(f\"The the mean of prices is: {df2['price'].mean()}\")\n",
    "print(f\"The the median of prices is: {quartiles[0.5]} \")\n",
    "print(f\"The the mode of prices is: {df2['price'].mode()}\")\n",
    "print(f\"\")\n",
    "\n",
    "lower_bound = lowerq - (1.5*iqr)\n",
    "upper_bound = upperq + (1.5*iqr)\n",
    "print(f\"Values below {lower_bound} could be outliers.\")\n",
    "print(f\"Values above {upper_bound} could be outliers.\")\n",
    "\n"
   ]
  },
  {
   "cell_type": "code",
   "execution_count": 20,
   "id": "0a0cde6a",
   "metadata": {},
   "outputs": [
    {
     "data": {
      "image/png": "[encoded data removed]",
      "text/plain": [
       "<Figure size 640x480 with 1 Axes>"
      ]
     },
     "metadata": {},
     "output_type": "display_data"
    },
    {
     "name": "stdout",
     "output_type": "stream",
     "text": [
      "NormaltestResult(statistic=3400.5152350464928, pvalue=0.0)\n",
      "NormaltestResult(statistic=72452.05769688683, pvalue=0.0)\n"
     ]
    }
   ],
   "source": [
    "# Determine if the auto prices are normally distributed using a small and large sample size. \n",
    "plt.hist(df2['price'])\n",
    "plt.title('Price Distribution',fontsize=15,color='b')\n",
    "plt.xlabel('price',color='b')\n",
    "plt.ylabel('Counts',color='b')\n",
    "plt.xticks(np.arange(0,100000,10000),rotation=45)\n",
    "plt.savefig(\"./image/Price Distribution (hist plot).png\")\n",
    "plt.show()\n",
    "print(st.normaltest(df2['price'].sample(5000)))\n",
    "print(st.normaltest(df2['price'].sample(100000)))"
   ]
  },
  {
   "cell_type": "code",
   "execution_count": 21,
   "id": "8fd673f9",
   "metadata": {},
   "outputs": [],
   "source": [
    "# so pvalue is below 0.05 therefore its not normal "
   ]
  },
  {
   "cell_type": "markdown",
   "id": "0ca15535",
   "metadata": {},
   "source": [
    "## Using price range, what is the median selling price for each car type?\n",
    "###      -   Creating Bins\n",
    "###      -   Number of Sales to Price"
   ]
  },
  {
   "cell_type": "code",
   "execution_count": 22,
   "id": "173ff457",
   "metadata": {},
   "outputs": [],
   "source": [
    "# converting df2 into dataframe to avoid error in next step\n",
    "df2 = pd.DataFrame(df2)"
   ]
  },
  {
   "cell_type": "code",
   "execution_count": 23,
   "id": "0bebc88c",
   "metadata": {},
   "outputs": [
    {
     "data": {
      "text/plain": [
       "0             7500+\n",
       "1             <1500\n",
       "2         3000-4500\n",
       "3             <1500\n",
       "4         1500-3000\n",
       "            ...    \n",
       "307117        <1500\n",
       "307118        <1500\n",
       "307119        7500+\n",
       "307120    3000-4500\n",
       "307121        7500+\n",
       "Name: priceRange, Length: 293131, dtype: category\n",
       "Categories (6, object): ['<1500' < '1500-3000' < '3000-4500' < '4500-6000' < '6000-7500' < '7500+']"
      ]
     },
     "execution_count": 23,
     "metadata": {},
     "output_type": "execute_result"
    }
   ],
   "source": [
    "# Bins\n",
    "bins = [0, 1500, 3000, 4500, 6000, 7500, float('inf')]\n",
    "labels = ['<1500', '1500-3000', '3000-4500', '4500-6000', '6000-7500', '7500+']\n",
    "\n",
    "# Assign range as per bins on price column. \n",
    "# Group by vehicleType & priceRange. Number of sales, typical selling price/each group. \n",
    "df2['priceRange'] = pd.cut(df2['price'], bins=bins, labels=labels) # range stored in priceRange.\n",
    "df2['priceRange']"
   ]
  },
  {
   "cell_type": "code",
   "execution_count": 24,
   "id": "9776701c",
   "metadata": {},
   "outputs": [
    {
     "data": {
      "text/html": [
       "<div>\n",
       "<style scoped>\n",
       "    .dataframe tbody tr th:only-of-type {\n",
       "        vertical-align: middle;\n",
       "    }\n",
       "\n",
       "    .dataframe tbody tr th {\n",
       "        vertical-align: top;\n",
       "    }\n",
       "\n",
       "    .dataframe thead th {\n",
       "        text-align: right;\n",
       "    }\n",
       "</style>\n",
       "<table border=\"1\" class=\"dataframe\">\n",
       "  <thead>\n",
       "    <tr style=\"text-align: right;\">\n",
       "      <th></th>\n",
       "      <th>vehicleType</th>\n",
       "      <th>priceRange</th>\n",
       "      <th>salesCount</th>\n",
       "      <th>medianPrice</th>\n",
       "    </tr>\n",
       "  </thead>\n",
       "  <tbody>\n",
       "    <tr>\n",
       "      <th>0</th>\n",
       "      <td>bus</td>\n",
       "      <td>&lt;1500</td>\n",
       "      <td>3833</td>\n",
       "      <td>1000.0</td>\n",
       "    </tr>\n",
       "    <tr>\n",
       "      <th>1</th>\n",
       "      <td>bus</td>\n",
       "      <td>1500-3000</td>\n",
       "      <td>5434</td>\n",
       "      <td>2350.0</td>\n",
       "    </tr>\n",
       "    <tr>\n",
       "      <th>2</th>\n",
       "      <td>bus</td>\n",
       "      <td>3000-4500</td>\n",
       "      <td>4334</td>\n",
       "      <td>3800.0</td>\n",
       "    </tr>\n",
       "    <tr>\n",
       "      <th>3</th>\n",
       "      <td>bus</td>\n",
       "      <td>4500-6000</td>\n",
       "      <td>3461</td>\n",
       "      <td>5300.0</td>\n",
       "    </tr>\n",
       "    <tr>\n",
       "      <th>4</th>\n",
       "      <td>bus</td>\n",
       "      <td>6000-7500</td>\n",
       "      <td>2363</td>\n",
       "      <td>6899.0</td>\n",
       "    </tr>\n",
       "    <tr>\n",
       "      <th>5</th>\n",
       "      <td>bus</td>\n",
       "      <td>7500+</td>\n",
       "      <td>8384</td>\n",
       "      <td>12150.0</td>\n",
       "    </tr>\n",
       "    <tr>\n",
       "      <th>6</th>\n",
       "      <td>convertable</td>\n",
       "      <td>&lt;1500</td>\n",
       "      <td>1686</td>\n",
       "      <td>1000.0</td>\n",
       "    </tr>\n",
       "    <tr>\n",
       "      <th>7</th>\n",
       "      <td>convertable</td>\n",
       "      <td>1500-3000</td>\n",
       "      <td>3046</td>\n",
       "      <td>2400.0</td>\n",
       "    </tr>\n",
       "    <tr>\n",
       "      <th>8</th>\n",
       "      <td>convertable</td>\n",
       "      <td>3000-4500</td>\n",
       "      <td>2766</td>\n",
       "      <td>3800.0</td>\n",
       "    </tr>\n",
       "    <tr>\n",
       "      <th>9</th>\n",
       "      <td>convertable</td>\n",
       "      <td>4500-6000</td>\n",
       "      <td>2179</td>\n",
       "      <td>5400.0</td>\n",
       "    </tr>\n",
       "    <tr>\n",
       "      <th>10</th>\n",
       "      <td>convertable</td>\n",
       "      <td>6000-7500</td>\n",
       "      <td>1730</td>\n",
       "      <td>6900.0</td>\n",
       "    </tr>\n",
       "    <tr>\n",
       "      <th>11</th>\n",
       "      <td>convertable</td>\n",
       "      <td>7500+</td>\n",
       "      <td>9242</td>\n",
       "      <td>14390.0</td>\n",
       "    </tr>\n",
       "    <tr>\n",
       "      <th>12</th>\n",
       "      <td>coupe</td>\n",
       "      <td>&lt;1500</td>\n",
       "      <td>2712</td>\n",
       "      <td>950.0</td>\n",
       "    </tr>\n",
       "    <tr>\n",
       "      <th>13</th>\n",
       "      <td>coupe</td>\n",
       "      <td>1500-3000</td>\n",
       "      <td>2618</td>\n",
       "      <td>2298.5</td>\n",
       "    </tr>\n",
       "    <tr>\n",
       "      <th>14</th>\n",
       "      <td>coupe</td>\n",
       "      <td>3000-4500</td>\n",
       "      <td>1705</td>\n",
       "      <td>3800.0</td>\n",
       "    </tr>\n",
       "    <tr>\n",
       "      <th>15</th>\n",
       "      <td>coupe</td>\n",
       "      <td>4500-6000</td>\n",
       "      <td>1307</td>\n",
       "      <td>5300.0</td>\n",
       "    </tr>\n",
       "    <tr>\n",
       "      <th>16</th>\n",
       "      <td>coupe</td>\n",
       "      <td>6000-7500</td>\n",
       "      <td>881</td>\n",
       "      <td>6900.0</td>\n",
       "    </tr>\n",
       "    <tr>\n",
       "      <th>17</th>\n",
       "      <td>coupe</td>\n",
       "      <td>7500+</td>\n",
       "      <td>7025</td>\n",
       "      <td>16500.0</td>\n",
       "    </tr>\n",
       "    <tr>\n",
       "      <th>18</th>\n",
       "      <td>luxury</td>\n",
       "      <td>&lt;1500</td>\n",
       "      <td>20728</td>\n",
       "      <td>950.0</td>\n",
       "    </tr>\n",
       "    <tr>\n",
       "      <th>19</th>\n",
       "      <td>luxury</td>\n",
       "      <td>1500-3000</td>\n",
       "      <td>18115</td>\n",
       "      <td>2200.0</td>\n",
       "    </tr>\n",
       "    <tr>\n",
       "      <th>20</th>\n",
       "      <td>luxury</td>\n",
       "      <td>3000-4500</td>\n",
       "      <td>10241</td>\n",
       "      <td>3800.0</td>\n",
       "    </tr>\n",
       "    <tr>\n",
       "      <th>21</th>\n",
       "      <td>luxury</td>\n",
       "      <td>4500-6000</td>\n",
       "      <td>7246</td>\n",
       "      <td>5300.0</td>\n",
       "    </tr>\n",
       "    <tr>\n",
       "      <th>22</th>\n",
       "      <td>luxury</td>\n",
       "      <td>6000-7500</td>\n",
       "      <td>5777</td>\n",
       "      <td>6899.0</td>\n",
       "    </tr>\n",
       "    <tr>\n",
       "      <th>23</th>\n",
       "      <td>luxury</td>\n",
       "      <td>7500+</td>\n",
       "      <td>23755</td>\n",
       "      <td>12500.0</td>\n",
       "    </tr>\n",
       "    <tr>\n",
       "      <th>24</th>\n",
       "      <td>other</td>\n",
       "      <td>&lt;1500</td>\n",
       "      <td>724</td>\n",
       "      <td>900.0</td>\n",
       "    </tr>\n",
       "    <tr>\n",
       "      <th>25</th>\n",
       "      <td>other</td>\n",
       "      <td>1500-3000</td>\n",
       "      <td>555</td>\n",
       "      <td>2200.0</td>\n",
       "    </tr>\n",
       "    <tr>\n",
       "      <th>26</th>\n",
       "      <td>other</td>\n",
       "      <td>3000-4500</td>\n",
       "      <td>339</td>\n",
       "      <td>3888.0</td>\n",
       "    </tr>\n",
       "    <tr>\n",
       "      <th>27</th>\n",
       "      <td>other</td>\n",
       "      <td>4500-6000</td>\n",
       "      <td>212</td>\n",
       "      <td>5200.0</td>\n",
       "    </tr>\n",
       "    <tr>\n",
       "      <th>28</th>\n",
       "      <td>other</td>\n",
       "      <td>6000-7500</td>\n",
       "      <td>121</td>\n",
       "      <td>6900.0</td>\n",
       "    </tr>\n",
       "    <tr>\n",
       "      <th>29</th>\n",
       "      <td>other</td>\n",
       "      <td>7500+</td>\n",
       "      <td>409</td>\n",
       "      <td>11500.0</td>\n",
       "    </tr>\n",
       "    <tr>\n",
       "      <th>30</th>\n",
       "      <td>sedan</td>\n",
       "      <td>&lt;1500</td>\n",
       "      <td>28815</td>\n",
       "      <td>890.0</td>\n",
       "    </tr>\n",
       "    <tr>\n",
       "      <th>31</th>\n",
       "      <td>sedan</td>\n",
       "      <td>1500-3000</td>\n",
       "      <td>15453</td>\n",
       "      <td>2199.0</td>\n",
       "    </tr>\n",
       "    <tr>\n",
       "      <th>32</th>\n",
       "      <td>sedan</td>\n",
       "      <td>3000-4500</td>\n",
       "      <td>8040</td>\n",
       "      <td>3799.0</td>\n",
       "    </tr>\n",
       "    <tr>\n",
       "      <th>33</th>\n",
       "      <td>sedan</td>\n",
       "      <td>4500-6000</td>\n",
       "      <td>5186</td>\n",
       "      <td>5290.0</td>\n",
       "    </tr>\n",
       "    <tr>\n",
       "      <th>34</th>\n",
       "      <td>sedan</td>\n",
       "      <td>6000-7500</td>\n",
       "      <td>3252</td>\n",
       "      <td>6800.0</td>\n",
       "    </tr>\n",
       "    <tr>\n",
       "      <th>35</th>\n",
       "      <td>sedan</td>\n",
       "      <td>7500+</td>\n",
       "      <td>5868</td>\n",
       "      <td>9990.0</td>\n",
       "    </tr>\n",
       "    <tr>\n",
       "      <th>36</th>\n",
       "      <td>station</td>\n",
       "      <td>&lt;1500</td>\n",
       "      <td>13863</td>\n",
       "      <td>950.0</td>\n",
       "    </tr>\n",
       "    <tr>\n",
       "      <th>37</th>\n",
       "      <td>station</td>\n",
       "      <td>1500-3000</td>\n",
       "      <td>12358</td>\n",
       "      <td>2250.0</td>\n",
       "    </tr>\n",
       "    <tr>\n",
       "      <th>38</th>\n",
       "      <td>station</td>\n",
       "      <td>3000-4500</td>\n",
       "      <td>7367</td>\n",
       "      <td>3800.0</td>\n",
       "    </tr>\n",
       "    <tr>\n",
       "      <th>39</th>\n",
       "      <td>station</td>\n",
       "      <td>4500-6000</td>\n",
       "      <td>5317</td>\n",
       "      <td>5300.0</td>\n",
       "    </tr>\n",
       "    <tr>\n",
       "      <th>40</th>\n",
       "      <td>station</td>\n",
       "      <td>6000-7500</td>\n",
       "      <td>4187</td>\n",
       "      <td>6900.0</td>\n",
       "    </tr>\n",
       "    <tr>\n",
       "      <th>41</th>\n",
       "      <td>station</td>\n",
       "      <td>7500+</td>\n",
       "      <td>17190</td>\n",
       "      <td>11999.0</td>\n",
       "    </tr>\n",
       "    <tr>\n",
       "      <th>42</th>\n",
       "      <td>suv</td>\n",
       "      <td>&lt;1500</td>\n",
       "      <td>505</td>\n",
       "      <td>1000.0</td>\n",
       "    </tr>\n",
       "    <tr>\n",
       "      <th>43</th>\n",
       "      <td>suv</td>\n",
       "      <td>1500-3000</td>\n",
       "      <td>1005</td>\n",
       "      <td>2444.0</td>\n",
       "    </tr>\n",
       "    <tr>\n",
       "      <th>44</th>\n",
       "      <td>suv</td>\n",
       "      <td>3000-4500</td>\n",
       "      <td>1073</td>\n",
       "      <td>3850.0</td>\n",
       "    </tr>\n",
       "    <tr>\n",
       "      <th>45</th>\n",
       "      <td>suv</td>\n",
       "      <td>4500-6000</td>\n",
       "      <td>1076</td>\n",
       "      <td>5400.0</td>\n",
       "    </tr>\n",
       "    <tr>\n",
       "      <th>46</th>\n",
       "      <td>suv</td>\n",
       "      <td>6000-7500</td>\n",
       "      <td>917</td>\n",
       "      <td>6850.0</td>\n",
       "    </tr>\n",
       "    <tr>\n",
       "      <th>47</th>\n",
       "      <td>suv</td>\n",
       "      <td>7500+</td>\n",
       "      <td>8731</td>\n",
       "      <td>15500.0</td>\n",
       "    </tr>\n",
       "  </tbody>\n",
       "</table>\n",
       "</div>"
      ],
      "text/plain": [
       "    vehicleType priceRange  salesCount  medianPrice\n",
       "0           bus      <1500        3833       1000.0\n",
       "1           bus  1500-3000        5434       2350.0\n",
       "2           bus  3000-4500        4334       3800.0\n",
       "3           bus  4500-6000        3461       5300.0\n",
       "4           bus  6000-7500        2363       6899.0\n",
       "5           bus      7500+        8384      12150.0\n",
       "6   convertable      <1500        1686       1000.0\n",
       "7   convertable  1500-3000        3046       2400.0\n",
       "8   convertable  3000-4500        2766       3800.0\n",
       "9   convertable  4500-6000        2179       5400.0\n",
       "10  convertable  6000-7500        1730       6900.0\n",
       "11  convertable      7500+        9242      14390.0\n",
       "12        coupe      <1500        2712        950.0\n",
       "13        coupe  1500-3000        2618       2298.5\n",
       "14        coupe  3000-4500        1705       3800.0\n",
       "15        coupe  4500-6000        1307       5300.0\n",
       "16        coupe  6000-7500         881       6900.0\n",
       "17        coupe      7500+        7025      16500.0\n",
       "18       luxury      <1500       20728        950.0\n",
       "19       luxury  1500-3000       18115       2200.0\n",
       "20       luxury  3000-4500       10241       3800.0\n",
       "21       luxury  4500-6000        7246       5300.0\n",
       "22       luxury  6000-7500        5777       6899.0\n",
       "23       luxury      7500+       23755      12500.0\n",
       "24        other      <1500         724        900.0\n",
       "25        other  1500-3000         555       2200.0\n",
       "26        other  3000-4500         339       3888.0\n",
       "27        other  4500-6000         212       5200.0\n",
       "28        other  6000-7500         121       6900.0\n",
       "29        other      7500+         409      11500.0\n",
       "30        sedan      <1500       28815        890.0\n",
       "31        sedan  1500-3000       15453       2199.0\n",
       "32        sedan  3000-4500        8040       3799.0\n",
       "33        sedan  4500-6000        5186       5290.0\n",
       "34        sedan  6000-7500        3252       6800.0\n",
       "35        sedan      7500+        5868       9990.0\n",
       "36      station      <1500       13863        950.0\n",
       "37      station  1500-3000       12358       2250.0\n",
       "38      station  3000-4500        7367       3800.0\n",
       "39      station  4500-6000        5317       5300.0\n",
       "40      station  6000-7500        4187       6900.0\n",
       "41      station      7500+       17190      11999.0\n",
       "42          suv      <1500         505       1000.0\n",
       "43          suv  1500-3000        1005       2444.0\n",
       "44          suv  3000-4500        1073       3850.0\n",
       "45          suv  4500-6000        1076       5400.0\n",
       "46          suv  6000-7500         917       6850.0\n",
       "47          suv      7500+        8731      15500.0"
      ]
     },
     "execution_count": 24,
     "metadata": {},
     "output_type": "execute_result"
    }
   ],
   "source": [
    "# grouping by price range\n",
    "category_df = df2.groupby(['vehicleType', 'priceRange']).agg({'price': ['count', 'median']}).reset_index()\n",
    "#renaming for clarity\n",
    "category_df.columns =  ['vehicleType', 'priceRange', 'salesCount', 'medianPrice']\n",
    "\n",
    "category_df.head(100)"
   ]
  },
  {
   "cell_type": "markdown",
   "id": "2e7ad7d3",
   "metadata": {},
   "source": [
    "---------------------------------"
   ]
  },
  {
   "cell_type": "markdown",
   "id": "fd0aed84",
   "metadata": {},
   "source": [
    "## Visualizing Median Price and Sales Count to Price"
   ]
  },
  {
   "cell_type": "code",
   "execution_count": 25,
   "id": "da4c4093",
   "metadata": {
    "scrolled": true
   },
   "outputs": [
    {
     "data": {
      "text/plain": [
       "0             bus\n",
       "1             bus\n",
       "2             bus\n",
       "3             bus\n",
       "4             bus\n",
       "5             bus\n",
       "6     convertable\n",
       "7     convertable\n",
       "8     convertable\n",
       "9     convertable\n",
       "10    convertable\n",
       "11    convertable\n",
       "12          coupe\n",
       "13          coupe\n",
       "14          coupe\n",
       "15          coupe\n",
       "16          coupe\n",
       "17          coupe\n",
       "18         luxury\n",
       "19         luxury\n",
       "20         luxury\n",
       "21         luxury\n",
       "22         luxury\n",
       "23         luxury\n",
       "24          other\n",
       "25          other\n",
       "26          other\n",
       "27          other\n",
       "28          other\n",
       "29          other\n",
       "30          sedan\n",
       "31          sedan\n",
       "32          sedan\n",
       "33          sedan\n",
       "34          sedan\n",
       "35          sedan\n",
       "36        station\n",
       "37        station\n",
       "38        station\n",
       "39        station\n",
       "40        station\n",
       "41        station\n",
       "42            suv\n",
       "43            suv\n",
       "44            suv\n",
       "45            suv\n",
       "46            suv\n",
       "47            suv\n",
       "Name: vehicleType, dtype: object"
      ]
     },
     "execution_count": 25,
     "metadata": {},
     "output_type": "execute_result"
    }
   ],
   "source": [
    "x_axis = category_df['vehicleType']\n",
    "x_axis"
   ]
  },
  {
   "cell_type": "code",
   "execution_count": 26,
   "id": "605c0606",
   "metadata": {},
   "outputs": [
    {
     "data": {
      "text/plain": [
       "0      3833\n",
       "1      5434\n",
       "2      4334\n",
       "3      3461\n",
       "4      2363\n",
       "5      8384\n",
       "6      1686\n",
       "7      3046\n",
       "8      2766\n",
       "9      2179\n",
       "10     1730\n",
       "11     9242\n",
       "12     2712\n",
       "13     2618\n",
       "14     1705\n",
       "15     1307\n",
       "16      881\n",
       "17     7025\n",
       "18    20728\n",
       "19    18115\n",
       "20    10241\n",
       "21     7246\n",
       "22     5777\n",
       "23    23755\n",
       "24      724\n",
       "25      555\n",
       "26      339\n",
       "27      212\n",
       "28      121\n",
       "29      409\n",
       "30    28815\n",
       "31    15453\n",
       "32     8040\n",
       "33     5186\n",
       "34     3252\n",
       "35     5868\n",
       "36    13863\n",
       "37    12358\n",
       "38     7367\n",
       "39     5317\n",
       "40     4187\n",
       "41    17190\n",
       "42      505\n",
       "43     1005\n",
       "44     1073\n",
       "45     1076\n",
       "46      917\n",
       "47     8731\n",
       "Name: salesCount, dtype: int64"
      ]
     },
     "execution_count": 26,
     "metadata": {},
     "output_type": "execute_result"
    }
   ],
   "source": [
    "y_axis = category_df['salesCount']\n",
    "y_axis"
   ]
  },
  {
   "cell_type": "code",
   "execution_count": 27,
   "id": "fce1c310",
   "metadata": {},
   "outputs": [
    {
     "data": {
      "text/plain": [
       "[1500, 3000, 4500, 6000, 7500, 100000]"
      ]
     },
     "execution_count": 27,
     "metadata": {},
     "output_type": "execute_result"
    }
   ],
   "source": [
    "labels2 = [1500,3000,4500,6000,7500,100000]\n",
    "color_range = list(labels2)\n",
    "color_range"
   ]
  },
  {
   "cell_type": "code",
   "execution_count": 28,
   "id": "8cfc4b2b",
   "metadata": {},
   "outputs": [
    {
     "data": {
      "image/png": "[encoded data removed]",
      "text/plain": [
       "<Figure size 640x480 with 1 Axes>"
      ]
     },
     "metadata": {},
     "output_type": "display_data"
    },
    {
     "data": {
      "image/png": "[encoded data removed]",
      "text/plain": [
       "<Figure size 700x100 with 1 Axes>"
      ]
     },
     "metadata": {},
     "output_type": "display_data"
    }
   ],
   "source": [
    "# Bar plot for sales to price \n",
    "\n",
    "fig = plt.figure()\n",
    "my_cmap = plt.colormaps.get_cmap('summer')\n",
    "rescale = lambda y: (y_axis - min(y_axis)) / (max(y_axis) - min(y_axis))\n",
    "plt.bar(x_axis, y_axis, color=my_cmap(rescale(y_axis)), alpha = .5)\n",
    "plt.title('Number of Sales for Each Car Type within Price Ranges',fontsize=20,color='b')\n",
    "plt.xlabel('Car Type',fontsize=15,color='g')\n",
    "plt.ylabel('Number of Sales',fontsize=15,color='g')\n",
    "plt.xticks(rotation = \"vertical\")\n",
    "\n",
    "fig, ax = plt.subplots(figsize=(7, 1))\n",
    "fig.subplots_adjust(bottom=0.5)\n",
    "\n",
    "cmap = plt.cm.summer\n",
    "bounds = color_range\n",
    "norm = mpl.colors.BoundaryNorm(bounds, cmap.N, extend='both')\n",
    "\n",
    "fig.colorbar(plt.cm.ScalarMappable(norm=norm, cmap=cmap),\n",
    "             cax=ax, orientation='horizontal',\n",
    "             label=\"Price Range\")\n",
    "\n",
    "plt.savefig(\"./image/Number of Sales for Each Car Type within Price Ranges.png\")\n",
    "plt.show()\n"
   ]
  },
  {
   "cell_type": "code",
   "execution_count": 29,
   "id": "57629f63",
   "metadata": {},
   "outputs": [
    {
     "data": {
      "text/plain": [
       "0    9800\n",
       "1    1500\n",
       "2    3600\n",
       "3     650\n",
       "4    2200\n",
       "Name: price, dtype: int64"
      ]
     },
     "execution_count": 29,
     "metadata": {},
     "output_type": "execute_result"
    }
   ],
   "source": [
    "df2 = pd.DataFrame(df2)\n",
    "df2['price'].head()"
   ]
  },
  {
   "cell_type": "code",
   "execution_count": 30,
   "id": "ed5f7055",
   "metadata": {},
   "outputs": [
    {
     "data": {
      "text/html": [
       "<div>\n",
       "<style scoped>\n",
       "    .dataframe tbody tr th:only-of-type {\n",
       "        vertical-align: middle;\n",
       "    }\n",
       "\n",
       "    .dataframe tbody tr th {\n",
       "        vertical-align: top;\n",
       "    }\n",
       "\n",
       "    .dataframe thead th {\n",
       "        text-align: right;\n",
       "    }\n",
       "</style>\n",
       "<table border=\"1\" class=\"dataframe\">\n",
       "  <thead>\n",
       "    <tr style=\"text-align: right;\">\n",
       "      <th></th>\n",
       "      <th>offeringDate</th>\n",
       "      <th>name</th>\n",
       "      <th>vehicleType</th>\n",
       "      <th>yearOfRegistration</th>\n",
       "      <th>model</th>\n",
       "      <th>kilometer</th>\n",
       "      <th>fuelType</th>\n",
       "      <th>brand</th>\n",
       "      <th>lastSeen</th>\n",
       "      <th>priceRange</th>\n",
       "    </tr>\n",
       "    <tr>\n",
       "      <th>price</th>\n",
       "      <th></th>\n",
       "      <th></th>\n",
       "      <th></th>\n",
       "      <th></th>\n",
       "      <th></th>\n",
       "      <th></th>\n",
       "      <th></th>\n",
       "      <th></th>\n",
       "      <th></th>\n",
       "      <th></th>\n",
       "    </tr>\n",
       "  </thead>\n",
       "  <tbody>\n",
       "    <tr>\n",
       "      <th>301</th>\n",
       "      <td>4</td>\n",
       "      <td>4</td>\n",
       "      <td>4</td>\n",
       "      <td>4</td>\n",
       "      <td>4</td>\n",
       "      <td>4</td>\n",
       "      <td>4</td>\n",
       "      <td>4</td>\n",
       "      <td>4</td>\n",
       "      <td>4</td>\n",
       "    </tr>\n",
       "    <tr>\n",
       "      <th>305</th>\n",
       "      <td>1</td>\n",
       "      <td>1</td>\n",
       "      <td>1</td>\n",
       "      <td>1</td>\n",
       "      <td>1</td>\n",
       "      <td>1</td>\n",
       "      <td>1</td>\n",
       "      <td>1</td>\n",
       "      <td>1</td>\n",
       "      <td>1</td>\n",
       "    </tr>\n",
       "    <tr>\n",
       "      <th>308</th>\n",
       "      <td>1</td>\n",
       "      <td>1</td>\n",
       "      <td>1</td>\n",
       "      <td>1</td>\n",
       "      <td>1</td>\n",
       "      <td>1</td>\n",
       "      <td>1</td>\n",
       "      <td>1</td>\n",
       "      <td>1</td>\n",
       "      <td>1</td>\n",
       "    </tr>\n",
       "    <tr>\n",
       "      <th>309</th>\n",
       "      <td>2</td>\n",
       "      <td>2</td>\n",
       "      <td>2</td>\n",
       "      <td>2</td>\n",
       "      <td>2</td>\n",
       "      <td>2</td>\n",
       "      <td>2</td>\n",
       "      <td>2</td>\n",
       "      <td>2</td>\n",
       "      <td>2</td>\n",
       "    </tr>\n",
       "    <tr>\n",
       "      <th>310</th>\n",
       "      <td>7</td>\n",
       "      <td>7</td>\n",
       "      <td>7</td>\n",
       "      <td>7</td>\n",
       "      <td>7</td>\n",
       "      <td>7</td>\n",
       "      <td>7</td>\n",
       "      <td>7</td>\n",
       "      <td>7</td>\n",
       "      <td>7</td>\n",
       "    </tr>\n",
       "    <tr>\n",
       "      <th>...</th>\n",
       "      <td>...</td>\n",
       "      <td>...</td>\n",
       "      <td>...</td>\n",
       "      <td>...</td>\n",
       "      <td>...</td>\n",
       "      <td>...</td>\n",
       "      <td>...</td>\n",
       "      <td>...</td>\n",
       "      <td>...</td>\n",
       "      <td>...</td>\n",
       "    </tr>\n",
       "    <tr>\n",
       "      <th>99500</th>\n",
       "      <td>2</td>\n",
       "      <td>2</td>\n",
       "      <td>2</td>\n",
       "      <td>2</td>\n",
       "      <td>2</td>\n",
       "      <td>2</td>\n",
       "      <td>2</td>\n",
       "      <td>2</td>\n",
       "      <td>2</td>\n",
       "      <td>2</td>\n",
       "    </tr>\n",
       "    <tr>\n",
       "      <th>99900</th>\n",
       "      <td>3</td>\n",
       "      <td>3</td>\n",
       "      <td>3</td>\n",
       "      <td>3</td>\n",
       "      <td>3</td>\n",
       "      <td>3</td>\n",
       "      <td>3</td>\n",
       "      <td>3</td>\n",
       "      <td>3</td>\n",
       "      <td>3</td>\n",
       "    </tr>\n",
       "    <tr>\n",
       "      <th>99911</th>\n",
       "      <td>1</td>\n",
       "      <td>1</td>\n",
       "      <td>1</td>\n",
       "      <td>1</td>\n",
       "      <td>1</td>\n",
       "      <td>1</td>\n",
       "      <td>1</td>\n",
       "      <td>1</td>\n",
       "      <td>1</td>\n",
       "      <td>1</td>\n",
       "    </tr>\n",
       "    <tr>\n",
       "      <th>99990</th>\n",
       "      <td>2</td>\n",
       "      <td>2</td>\n",
       "      <td>2</td>\n",
       "      <td>2</td>\n",
       "      <td>2</td>\n",
       "      <td>2</td>\n",
       "      <td>2</td>\n",
       "      <td>2</td>\n",
       "      <td>2</td>\n",
       "      <td>2</td>\n",
       "    </tr>\n",
       "    <tr>\n",
       "      <th>99999</th>\n",
       "      <td>4</td>\n",
       "      <td>4</td>\n",
       "      <td>4</td>\n",
       "      <td>4</td>\n",
       "      <td>4</td>\n",
       "      <td>4</td>\n",
       "      <td>4</td>\n",
       "      <td>4</td>\n",
       "      <td>4</td>\n",
       "      <td>4</td>\n",
       "    </tr>\n",
       "  </tbody>\n",
       "</table>\n",
       "<p>5026 rows × 10 columns</p>\n",
       "</div>"
      ],
      "text/plain": [
       "       offeringDate  name  vehicleType  yearOfRegistration  model  kilometer  \\\n",
       "price                                                                          \n",
       "301               4     4            4                   4      4          4   \n",
       "305               1     1            1                   1      1          1   \n",
       "308               1     1            1                   1      1          1   \n",
       "309               2     2            2                   2      2          2   \n",
       "310               7     7            7                   7      7          7   \n",
       "...             ...   ...          ...                 ...    ...        ...   \n",
       "99500             2     2            2                   2      2          2   \n",
       "99900             3     3            3                   3      3          3   \n",
       "99911             1     1            1                   1      1          1   \n",
       "99990             2     2            2                   2      2          2   \n",
       "99999             4     4            4                   4      4          4   \n",
       "\n",
       "       fuelType  brand  lastSeen  priceRange  \n",
       "price                                         \n",
       "301           4      4         4           4  \n",
       "305           1      1         1           1  \n",
       "308           1      1         1           1  \n",
       "309           2      2         2           2  \n",
       "310           7      7         7           7  \n",
       "...         ...    ...       ...         ...  \n",
       "99500         2      2         2           2  \n",
       "99900         3      3         3           3  \n",
       "99911         1      1         1           1  \n",
       "99990         2      2         2           2  \n",
       "99999         4      4         4           4  \n",
       "\n",
       "[5026 rows x 10 columns]"
      ]
     },
     "execution_count": 30,
     "metadata": {},
     "output_type": "execute_result"
    }
   ],
   "source": [
    "sales_count_price = df2.groupby('price').count()\n",
    "sales_count_price"
   ]
  },
  {
   "cell_type": "code",
   "execution_count": 31,
   "id": "1748ee47",
   "metadata": {},
   "outputs": [
    {
     "data": {
      "text/plain": [
       "offeringDate          int64\n",
       "name                  int64\n",
       "vehicleType           int64\n",
       "yearOfRegistration    int64\n",
       "model                 int64\n",
       "kilometer             int64\n",
       "fuelType              int64\n",
       "brand                 int64\n",
       "lastSeen              int64\n",
       "priceRange            int64\n",
       "dtype: object"
      ]
     },
     "execution_count": 31,
     "metadata": {},
     "output_type": "execute_result"
    }
   ],
   "source": [
    "sales_count_price.dtypes"
   ]
  },
  {
   "cell_type": "code",
   "execution_count": 32,
   "id": "9589cac8",
   "metadata": {},
   "outputs": [
    {
     "data": {
      "text/plain": [
       "Int64Index([  301,   305,   308,   309,   310,   315,   316,   319,   320,\n",
       "              321,\n",
       "            ...\n",
       "            95964, 97500, 98000, 98500, 99000, 99500, 99900, 99911, 99990,\n",
       "            99999],\n",
       "           dtype='int64', name='price', length=5026)"
      ]
     },
     "execution_count": 32,
     "metadata": {},
     "output_type": "execute_result"
    }
   ],
   "source": [
    "sales_count_price.index"
   ]
  },
  {
   "cell_type": "code",
   "execution_count": 33,
   "id": "b4ca0427",
   "metadata": {
    "scrolled": true
   },
   "outputs": [
    {
     "data": {
      "image/png": "[encoded data removed]",
      "text/plain": [
       "<Figure size 640x480 with 1 Axes>"
      ]
     },
     "metadata": {},
     "output_type": "display_data"
    }
   ],
   "source": [
    "plt.scatter(sales_count_price.index, sales_count_price['lastSeen'])\n",
    "\n",
    "plt.xticks(np.arange(0,100000,10000),rotation=45)\n",
    "plt.vlines(2000,0,4500,alpha=0.5,color='orange')\n",
    "#needs xlim to be setup *************\n",
    "plt.title('Price Popularity',color='b',fontsize=18)\n",
    "plt.xlabel(\"Price\",color='b')\n",
    "plt.ylabel(\"Popularity\",color='b')\n",
    "\n",
    "plt.savefig(\"./image/Price Popularity (scatter plot).png\")\n",
    "plt.show()\n"
   ]
  },
  {
   "cell_type": "code",
   "execution_count": 34,
   "id": "8820ecff",
   "metadata": {
    "scrolled": true
   },
   "outputs": [
    {
     "data": {
      "image/png": "[encoded data removed]",
      "text/plain": [
       "<Figure size 640x480 with 1 Axes>"
      ]
     },
     "metadata": {},
     "output_type": "display_data"
    }
   ],
   "source": [
    "fig1, ax2 = plt.subplots()\n",
    "ax2.set_title('Prices Distribution',fontsize= 20,color='b')\n",
    "ax2.set_ylabel('Prices',fontsize= 15,color='b') \n",
    "ax2.boxplot(sales_count_price['lastSeen'])\n",
    "plt.savefig(\"./image/Price Distribution (box plot).png\")\n",
    "plt.show()"
   ]
  },
  {
   "cell_type": "markdown",
   "id": "61b6dc53",
   "metadata": {},
   "source": [
    "   ------------------------------"
   ]
  },
  {
   "cell_type": "markdown",
   "id": "7635136d",
   "metadata": {},
   "source": [
    "## - What is the least and most popular car type being sold?\n",
    "## - Using date of registration, which model year is most purchased."
   ]
  },
  {
   "cell_type": "markdown",
   "id": "17de8ecd",
   "metadata": {},
   "source": [
    "   "
   ]
  },
  {
   "cell_type": "code",
   "execution_count": 35,
   "id": "289ce3df",
   "metadata": {},
   "outputs": [
    {
     "data": {
      "text/plain": [
       "luxury         85862\n",
       "sedan          66614\n",
       "station        60282\n",
       "bus            27809\n",
       "convertable    20649\n",
       "coupe          16248\n",
       "suv            13307\n",
       "other           2360\n",
       "Name: vehicleType, dtype: int64"
      ]
     },
     "execution_count": 35,
     "metadata": {},
     "output_type": "execute_result"
    }
   ],
   "source": [
    "# Storing \"group by vehicleType\" and its count for each vehicleType in vehTypeCount\n",
    "veh_Type_Count = df2['vehicleType'].value_counts() # vehicleType: the index & counts: the values\n",
    "veh_Type_Count"
   ]
  },
  {
   "cell_type": "code",
   "execution_count": 36,
   "id": "25612051",
   "metadata": {},
   "outputs": [
    {
     "data": {
      "text/plain": [
       "dtype('int64')"
      ]
     },
     "execution_count": 36,
     "metadata": {},
     "output_type": "execute_result"
    }
   ],
   "source": [
    "veh_Type_Count.dtypes"
   ]
  },
  {
   "cell_type": "code",
   "execution_count": 37,
   "id": "d3c78377",
   "metadata": {},
   "outputs": [
    {
     "data": {
      "text/plain": [
       "'luxury'"
      ]
     },
     "execution_count": 37,
     "metadata": {},
     "output_type": "execute_result"
    }
   ],
   "source": [
    "# Most & least popular vehicle\n",
    "most_popular = veh_Type_Count.idxmax()\n",
    "most_popular"
   ]
  },
  {
   "cell_type": "code",
   "execution_count": 38,
   "id": "3b242900",
   "metadata": {},
   "outputs": [
    {
     "data": {
      "text/plain": [
       "'other'"
      ]
     },
     "execution_count": 38,
     "metadata": {},
     "output_type": "execute_result"
    }
   ],
   "source": [
    "least_popular = veh_Type_Count.idxmin()\n",
    "least_popular"
   ]
  },
  {
   "cell_type": "code",
   "execution_count": 39,
   "id": "457e495f",
   "metadata": {},
   "outputs": [
    {
     "data": {
      "text/plain": [
       "2006    18716\n",
       "1999    18655\n",
       "2005    18409\n",
       "2004    18312\n",
       "2003    18243\n",
       "        ...  \n",
       "1910        2\n",
       "1935        1\n",
       "1928        1\n",
       "1948        1\n",
       "1939        1\n",
       "Name: yearOfRegistration, Length: 91, dtype: int64"
      ]
     },
     "execution_count": 39,
     "metadata": {},
     "output_type": "execute_result"
    }
   ],
   "source": [
    "# Model year most purchased based on the date of registration\n",
    "# convert to numeric\n",
    "df2['yearOfRegistration'] = pd.to_numeric(df2['yearOfRegistration'], errors='coerce')\n",
    "\n",
    "# Group by year and count \n",
    "year_counts = df2['yearOfRegistration'].value_counts() \n",
    "year_counts"
   ]
  },
  {
   "cell_type": "code",
   "execution_count": 40,
   "id": "4d4656f1",
   "metadata": {},
   "outputs": [
    {
     "name": "stdout",
     "output_type": "stream",
     "text": [
      "Least popular car type:  other\n",
      "Most popular car type:  luxury\n",
      "Most purchased model year:  2006\n"
     ]
    }
   ],
   "source": [
    "most_purchased_model = year_counts.idxmax()\n",
    "\n",
    "print(\"Least popular car type: \", least_popular)\n",
    "print(\"Most popular car type: \", most_popular)\n",
    "print(\"Most purchased model year: \", most_purchased_model)"
   ]
  },
  {
   "cell_type": "markdown",
   "id": "5253cd11",
   "metadata": {},
   "source": [
    "#### Linregress Year of Registration to price"
   ]
  },
  {
   "cell_type": "code",
   "execution_count": 45,
   "id": "ddfeba88",
   "metadata": {},
   "outputs": [
    {
     "data": {
      "text/html": [
       "<div>\n",
       "<style scoped>\n",
       "    .dataframe tbody tr th:only-of-type {\n",
       "        vertical-align: middle;\n",
       "    }\n",
       "\n",
       "    .dataframe tbody tr th {\n",
       "        vertical-align: top;\n",
       "    }\n",
       "\n",
       "    .dataframe thead th {\n",
       "        text-align: right;\n",
       "    }\n",
       "</style>\n",
       "<table border=\"1\" class=\"dataframe\">\n",
       "  <thead>\n",
       "    <tr style=\"text-align: right;\">\n",
       "      <th></th>\n",
       "      <th>offeringDate</th>\n",
       "      <th>name</th>\n",
       "      <th>price</th>\n",
       "      <th>vehicleType</th>\n",
       "      <th>yearOfRegistration</th>\n",
       "      <th>model</th>\n",
       "      <th>kilometer</th>\n",
       "      <th>fuelType</th>\n",
       "      <th>brand</th>\n",
       "      <th>lastSeen</th>\n",
       "      <th>priceRange</th>\n",
       "    </tr>\n",
       "  </thead>\n",
       "  <tbody>\n",
       "    <tr>\n",
       "      <th>0</th>\n",
       "      <td>2016-03-14 12:52:21</td>\n",
       "      <td>Jeep_Grand_Cherokee_\"Overland\"</td>\n",
       "      <td>9800</td>\n",
       "      <td>suv</td>\n",
       "      <td>2004</td>\n",
       "      <td>grand</td>\n",
       "      <td>125000</td>\n",
       "      <td>diesel</td>\n",
       "      <td>jeep</td>\n",
       "      <td>2016-04-05 12:47:46</td>\n",
       "      <td>7500+</td>\n",
       "    </tr>\n",
       "    <tr>\n",
       "      <th>1</th>\n",
       "      <td>2016-03-17 16:54:04</td>\n",
       "      <td>GOLF_4_1_4__3TÜRER</td>\n",
       "      <td>1500</td>\n",
       "      <td>sedan</td>\n",
       "      <td>2001</td>\n",
       "      <td>golf</td>\n",
       "      <td>150000</td>\n",
       "      <td>benzin</td>\n",
       "      <td>volkswagen</td>\n",
       "      <td>2016-03-17 17:40:17</td>\n",
       "      <td>&lt;1500</td>\n",
       "    </tr>\n",
       "    <tr>\n",
       "      <th>2</th>\n",
       "      <td>2016-03-31 17:25:20</td>\n",
       "      <td>Skoda_Fabia_1.4_TDI_PD_Classic</td>\n",
       "      <td>3600</td>\n",
       "      <td>sedan</td>\n",
       "      <td>2008</td>\n",
       "      <td>fabia</td>\n",
       "      <td>90000</td>\n",
       "      <td>diesel</td>\n",
       "      <td>skoda</td>\n",
       "      <td>2016-04-06 10:17:21</td>\n",
       "      <td>3000-4500</td>\n",
       "    </tr>\n",
       "    <tr>\n",
       "      <th>3</th>\n",
       "      <td>2016-04-04 17:36:23</td>\n",
       "      <td>BMW_316i___e36_Limousine___Bastlerfahrzeug__Ex...</td>\n",
       "      <td>650</td>\n",
       "      <td>luxury</td>\n",
       "      <td>1995</td>\n",
       "      <td>3er</td>\n",
       "      <td>150000</td>\n",
       "      <td>benzin</td>\n",
       "      <td>bmw</td>\n",
       "      <td>2016-04-06 19:17:07</td>\n",
       "      <td>&lt;1500</td>\n",
       "    </tr>\n",
       "    <tr>\n",
       "      <th>4</th>\n",
       "      <td>2016-04-01 20:48:51</td>\n",
       "      <td>Peugeot_206_CC_110_Platinum</td>\n",
       "      <td>2200</td>\n",
       "      <td>convertable</td>\n",
       "      <td>2004</td>\n",
       "      <td>2_reihe</td>\n",
       "      <td>150000</td>\n",
       "      <td>benzin</td>\n",
       "      <td>peugeot</td>\n",
       "      <td>2016-04-05 18:18:39</td>\n",
       "      <td>1500-3000</td>\n",
       "    </tr>\n",
       "  </tbody>\n",
       "</table>\n",
       "</div>"
      ],
      "text/plain": [
       "          offeringDate                                               name  \\\n",
       "0  2016-03-14 12:52:21                     Jeep_Grand_Cherokee_\"Overland\"   \n",
       "1  2016-03-17 16:54:04                                 GOLF_4_1_4__3TÜRER   \n",
       "2  2016-03-31 17:25:20                     Skoda_Fabia_1.4_TDI_PD_Classic   \n",
       "3  2016-04-04 17:36:23  BMW_316i___e36_Limousine___Bastlerfahrzeug__Ex...   \n",
       "4  2016-04-01 20:48:51                        Peugeot_206_CC_110_Platinum   \n",
       "\n",
       "   price  vehicleType  yearOfRegistration    model  kilometer fuelType  \\\n",
       "0   9800          suv                2004    grand     125000   diesel   \n",
       "1   1500        sedan                2001     golf     150000   benzin   \n",
       "2   3600        sedan                2008    fabia      90000   diesel   \n",
       "3    650       luxury                1995      3er     150000   benzin   \n",
       "4   2200  convertable                2004  2_reihe     150000   benzin   \n",
       "\n",
       "        brand             lastSeen priceRange  \n",
       "0        jeep  2016-04-05 12:47:46      7500+  \n",
       "1  volkswagen  2016-03-17 17:40:17      <1500  \n",
       "2       skoda  2016-04-06 10:17:21  3000-4500  \n",
       "3         bmw  2016-04-06 19:17:07      <1500  \n",
       "4     peugeot  2016-04-05 18:18:39  1500-3000  "
      ]
     },
     "execution_count": 45,
     "metadata": {},
     "output_type": "execute_result"
    }
   ],
   "source": [
    "df2.head()"
   ]
  },
  {
   "cell_type": "code",
   "execution_count": 41,
   "id": "7b936019",
   "metadata": {},
   "outputs": [
    {
     "data": {
      "text/plain": [
       "0          9800\n",
       "1          1500\n",
       "2          3600\n",
       "3           650\n",
       "4          2200\n",
       "          ...  \n",
       "280889     8750\n",
       "282787    18250\n",
       "290854     9000\n",
       "291326    20000\n",
       "299894    18900\n",
       "Name: price, Length: 397, dtype: int64"
      ]
     },
     "execution_count": 41,
     "metadata": {},
     "output_type": "execute_result"
    }
   ],
   "source": [
    "x = year_reg_grouped = df2.groupby(['yearOfRegistration'])['price']\n",
    "year_reg_grouped.head()"
   ]
  },
  {
   "cell_type": "code",
   "execution_count": 42,
   "id": "b5177098",
   "metadata": {},
   "outputs": [
    {
     "data": {
      "text/html": [
       "<div>\n",
       "<style scoped>\n",
       "    .dataframe tbody tr th:only-of-type {\n",
       "        vertical-align: middle;\n",
       "    }\n",
       "\n",
       "    .dataframe tbody tr th {\n",
       "        vertical-align: top;\n",
       "    }\n",
       "\n",
       "    .dataframe thead th {\n",
       "        text-align: right;\n",
       "    }\n",
       "</style>\n",
       "<table border=\"1\" class=\"dataframe\">\n",
       "  <thead>\n",
       "    <tr style=\"text-align: right;\">\n",
       "      <th></th>\n",
       "      <th>offeringDate</th>\n",
       "      <th>name</th>\n",
       "      <th>price</th>\n",
       "      <th>vehicleType</th>\n",
       "      <th>model</th>\n",
       "      <th>kilometer</th>\n",
       "      <th>fuelType</th>\n",
       "      <th>brand</th>\n",
       "      <th>lastSeen</th>\n",
       "      <th>priceRange</th>\n",
       "    </tr>\n",
       "    <tr>\n",
       "      <th>yearOfRegistration</th>\n",
       "      <th></th>\n",
       "      <th></th>\n",
       "      <th></th>\n",
       "      <th></th>\n",
       "      <th></th>\n",
       "      <th></th>\n",
       "      <th></th>\n",
       "      <th></th>\n",
       "      <th></th>\n",
       "      <th></th>\n",
       "    </tr>\n",
       "  </thead>\n",
       "  <tbody>\n",
       "    <tr>\n",
       "      <th>1910</th>\n",
       "      <td>2</td>\n",
       "      <td>2</td>\n",
       "      <td>2</td>\n",
       "      <td>2</td>\n",
       "      <td>2</td>\n",
       "      <td>2</td>\n",
       "      <td>2</td>\n",
       "      <td>2</td>\n",
       "      <td>2</td>\n",
       "      <td>2</td>\n",
       "    </tr>\n",
       "    <tr>\n",
       "      <th>1923</th>\n",
       "      <td>2</td>\n",
       "      <td>2</td>\n",
       "      <td>2</td>\n",
       "      <td>2</td>\n",
       "      <td>2</td>\n",
       "      <td>2</td>\n",
       "      <td>2</td>\n",
       "      <td>2</td>\n",
       "      <td>2</td>\n",
       "      <td>2</td>\n",
       "    </tr>\n",
       "    <tr>\n",
       "      <th>1927</th>\n",
       "      <td>2</td>\n",
       "      <td>2</td>\n",
       "      <td>2</td>\n",
       "      <td>2</td>\n",
       "      <td>2</td>\n",
       "      <td>2</td>\n",
       "      <td>2</td>\n",
       "      <td>2</td>\n",
       "      <td>2</td>\n",
       "      <td>2</td>\n",
       "    </tr>\n",
       "    <tr>\n",
       "      <th>1928</th>\n",
       "      <td>1</td>\n",
       "      <td>1</td>\n",
       "      <td>1</td>\n",
       "      <td>1</td>\n",
       "      <td>1</td>\n",
       "      <td>1</td>\n",
       "      <td>1</td>\n",
       "      <td>1</td>\n",
       "      <td>1</td>\n",
       "      <td>1</td>\n",
       "    </tr>\n",
       "    <tr>\n",
       "      <th>1929</th>\n",
       "      <td>3</td>\n",
       "      <td>3</td>\n",
       "      <td>3</td>\n",
       "      <td>3</td>\n",
       "      <td>3</td>\n",
       "      <td>3</td>\n",
       "      <td>3</td>\n",
       "      <td>3</td>\n",
       "      <td>3</td>\n",
       "      <td>3</td>\n",
       "    </tr>\n",
       "    <tr>\n",
       "      <th>...</th>\n",
       "      <td>...</td>\n",
       "      <td>...</td>\n",
       "      <td>...</td>\n",
       "      <td>...</td>\n",
       "      <td>...</td>\n",
       "      <td>...</td>\n",
       "      <td>...</td>\n",
       "      <td>...</td>\n",
       "      <td>...</td>\n",
       "      <td>...</td>\n",
       "    </tr>\n",
       "    <tr>\n",
       "      <th>2014</th>\n",
       "      <td>4542</td>\n",
       "      <td>4542</td>\n",
       "      <td>4542</td>\n",
       "      <td>4542</td>\n",
       "      <td>4542</td>\n",
       "      <td>4542</td>\n",
       "      <td>4542</td>\n",
       "      <td>4542</td>\n",
       "      <td>4542</td>\n",
       "      <td>4542</td>\n",
       "    </tr>\n",
       "    <tr>\n",
       "      <th>2015</th>\n",
       "      <td>2603</td>\n",
       "      <td>2603</td>\n",
       "      <td>2603</td>\n",
       "      <td>2603</td>\n",
       "      <td>2603</td>\n",
       "      <td>2603</td>\n",
       "      <td>2603</td>\n",
       "      <td>2603</td>\n",
       "      <td>2603</td>\n",
       "      <td>2603</td>\n",
       "    </tr>\n",
       "    <tr>\n",
       "      <th>2016</th>\n",
       "      <td>306</td>\n",
       "      <td>306</td>\n",
       "      <td>306</td>\n",
       "      <td>306</td>\n",
       "      <td>306</td>\n",
       "      <td>306</td>\n",
       "      <td>306</td>\n",
       "      <td>306</td>\n",
       "      <td>306</td>\n",
       "      <td>306</td>\n",
       "    </tr>\n",
       "    <tr>\n",
       "      <th>2017</th>\n",
       "      <td>13</td>\n",
       "      <td>13</td>\n",
       "      <td>13</td>\n",
       "      <td>13</td>\n",
       "      <td>13</td>\n",
       "      <td>13</td>\n",
       "      <td>13</td>\n",
       "      <td>13</td>\n",
       "      <td>13</td>\n",
       "      <td>13</td>\n",
       "    </tr>\n",
       "    <tr>\n",
       "      <th>2018</th>\n",
       "      <td>3</td>\n",
       "      <td>3</td>\n",
       "      <td>3</td>\n",
       "      <td>3</td>\n",
       "      <td>3</td>\n",
       "      <td>3</td>\n",
       "      <td>3</td>\n",
       "      <td>3</td>\n",
       "      <td>3</td>\n",
       "      <td>3</td>\n",
       "    </tr>\n",
       "  </tbody>\n",
       "</table>\n",
       "<p>91 rows × 10 columns</p>\n",
       "</div>"
      ],
      "text/plain": [
       "                    offeringDate  name  price  vehicleType  model  kilometer  \\\n",
       "yearOfRegistration                                                             \n",
       "1910                           2     2      2            2      2          2   \n",
       "1923                           2     2      2            2      2          2   \n",
       "1927                           2     2      2            2      2          2   \n",
       "1928                           1     1      1            1      1          1   \n",
       "1929                           3     3      3            3      3          3   \n",
       "...                          ...   ...    ...          ...    ...        ...   \n",
       "2014                        4542  4542   4542         4542   4542       4542   \n",
       "2015                        2603  2603   2603         2603   2603       2603   \n",
       "2016                         306   306    306          306    306        306   \n",
       "2017                          13    13     13           13     13         13   \n",
       "2018                           3     3      3            3      3          3   \n",
       "\n",
       "                    fuelType  brand  lastSeen  priceRange  \n",
       "yearOfRegistration                                         \n",
       "1910                       2      2         2           2  \n",
       "1923                       2      2         2           2  \n",
       "1927                       2      2         2           2  \n",
       "1928                       1      1         1           1  \n",
       "1929                       3      3         3           3  \n",
       "...                      ...    ...       ...         ...  \n",
       "2014                    4542   4542      4542        4542  \n",
       "2015                    2603   2603      2603        2603  \n",
       "2016                     306    306       306         306  \n",
       "2017                      13     13        13          13  \n",
       "2018                       3      3         3           3  \n",
       "\n",
       "[91 rows x 10 columns]"
      ]
     },
     "execution_count": 42,
     "metadata": {},
     "output_type": "execute_result"
    }
   ],
   "source": [
    "y = year_reg_count = df2.groupby('yearOfRegistration').count()\n",
    "year_reg_count"
   ]
  },
  {
   "cell_type": "code",
   "execution_count": 43,
   "id": "363b8187",
   "metadata": {},
   "outputs": [
    {
     "data": {
      "text/plain": [
       "29        12500\n",
       "40         3000\n",
       "45         7000\n",
       "53         6600\n",
       "56         5000\n",
       "          ...  \n",
       "307051     3300\n",
       "307065     9900\n",
       "307072     3000\n",
       "307085     4499\n",
       "307104     5900\n",
       "Name: price, Length: 18716, dtype: int64"
      ]
     },
     "execution_count": 43,
     "metadata": {},
     "output_type": "execute_result"
    }
   ],
   "source": [
    "year = df2.loc[df2[\"yearOfRegistration\"]==2006,\"price\"]\n",
    "year"
   ]
  },
  {
   "cell_type": "code",
   "execution_count": 44,
   "id": "2880fd84",
   "metadata": {},
   "outputs": [
    {
     "ename": "ValueError",
     "evalue": "setting an array element with a sequence. The requested array has an inhomogeneous shape after 2 dimensions. The detected shape was (91, 2) + inhomogeneous part.",
     "output_type": "error",
     "traceback": [
      "\u001b[1;31m---------------------------------------------------------------------------\u001b[0m",
      "\u001b[1;31mValueError\u001b[0m                                Traceback (most recent call last)",
      "Cell \u001b[1;32mIn[44], line 1\u001b[0m\n\u001b[1;32m----> 1\u001b[0m \u001b[43mplt\u001b[49m\u001b[38;5;241;43m.\u001b[39;49m\u001b[43mscatter\u001b[49m\u001b[43m(\u001b[49m\u001b[43myear_reg_grouped\u001b[49m\u001b[43m,\u001b[49m\u001b[43myear_reg_count\u001b[49m\u001b[43m)\u001b[49m\n\u001b[0;32m      3\u001b[0m plt\u001b[38;5;241m.\u001b[39mplot(year,pe_fit,\u001b[38;5;124m\"\u001b[39m\u001b[38;5;124m--\u001b[39m\u001b[38;5;124m\"\u001b[39m)\n\u001b[0;32m      4\u001b[0m plt\u001b[38;5;241m.\u001b[39mxticks(year, rotation\u001b[38;5;241m=\u001b[39m\u001b[38;5;241m90\u001b[39m)\n",
      "File \u001b[1;32m~\\anaconda3\\envs\\dev_class\\lib\\site-packages\\matplotlib\\pyplot.py:2862\u001b[0m, in \u001b[0;36mscatter\u001b[1;34m(x, y, s, c, marker, cmap, norm, vmin, vmax, alpha, linewidths, edgecolors, plotnonfinite, data, **kwargs)\u001b[0m\n\u001b[0;32m   2857\u001b[0m \u001b[38;5;129m@_copy_docstring_and_deprecators\u001b[39m(Axes\u001b[38;5;241m.\u001b[39mscatter)\n\u001b[0;32m   2858\u001b[0m \u001b[38;5;28;01mdef\u001b[39;00m \u001b[38;5;21mscatter\u001b[39m(\n\u001b[0;32m   2859\u001b[0m         x, y, s\u001b[38;5;241m=\u001b[39m\u001b[38;5;28;01mNone\u001b[39;00m, c\u001b[38;5;241m=\u001b[39m\u001b[38;5;28;01mNone\u001b[39;00m, marker\u001b[38;5;241m=\u001b[39m\u001b[38;5;28;01mNone\u001b[39;00m, cmap\u001b[38;5;241m=\u001b[39m\u001b[38;5;28;01mNone\u001b[39;00m, norm\u001b[38;5;241m=\u001b[39m\u001b[38;5;28;01mNone\u001b[39;00m,\n\u001b[0;32m   2860\u001b[0m         vmin\u001b[38;5;241m=\u001b[39m\u001b[38;5;28;01mNone\u001b[39;00m, vmax\u001b[38;5;241m=\u001b[39m\u001b[38;5;28;01mNone\u001b[39;00m, alpha\u001b[38;5;241m=\u001b[39m\u001b[38;5;28;01mNone\u001b[39;00m, linewidths\u001b[38;5;241m=\u001b[39m\u001b[38;5;28;01mNone\u001b[39;00m, \u001b[38;5;241m*\u001b[39m,\n\u001b[0;32m   2861\u001b[0m         edgecolors\u001b[38;5;241m=\u001b[39m\u001b[38;5;28;01mNone\u001b[39;00m, plotnonfinite\u001b[38;5;241m=\u001b[39m\u001b[38;5;28;01mFalse\u001b[39;00m, data\u001b[38;5;241m=\u001b[39m\u001b[38;5;28;01mNone\u001b[39;00m, \u001b[38;5;241m*\u001b[39m\u001b[38;5;241m*\u001b[39mkwargs):\n\u001b[1;32m-> 2862\u001b[0m     __ret \u001b[38;5;241m=\u001b[39m gca()\u001b[38;5;241m.\u001b[39mscatter(\n\u001b[0;32m   2863\u001b[0m         x, y, s\u001b[38;5;241m=\u001b[39ms, c\u001b[38;5;241m=\u001b[39mc, marker\u001b[38;5;241m=\u001b[39mmarker, cmap\u001b[38;5;241m=\u001b[39mcmap, norm\u001b[38;5;241m=\u001b[39mnorm,\n\u001b[0;32m   2864\u001b[0m         vmin\u001b[38;5;241m=\u001b[39mvmin, vmax\u001b[38;5;241m=\u001b[39mvmax, alpha\u001b[38;5;241m=\u001b[39malpha, linewidths\u001b[38;5;241m=\u001b[39mlinewidths,\n\u001b[0;32m   2865\u001b[0m         edgecolors\u001b[38;5;241m=\u001b[39medgecolors, plotnonfinite\u001b[38;5;241m=\u001b[39mplotnonfinite,\n\u001b[0;32m   2866\u001b[0m         \u001b[38;5;241m*\u001b[39m\u001b[38;5;241m*\u001b[39m({\u001b[38;5;124m\"\u001b[39m\u001b[38;5;124mdata\u001b[39m\u001b[38;5;124m\"\u001b[39m: data} \u001b[38;5;28;01mif\u001b[39;00m data \u001b[38;5;129;01mis\u001b[39;00m \u001b[38;5;129;01mnot\u001b[39;00m \u001b[38;5;28;01mNone\u001b[39;00m \u001b[38;5;28;01melse\u001b[39;00m {}), \u001b[38;5;241m*\u001b[39m\u001b[38;5;241m*\u001b[39mkwargs)\n\u001b[0;32m   2867\u001b[0m     sci(__ret)\n\u001b[0;32m   2868\u001b[0m     \u001b[38;5;28;01mreturn\u001b[39;00m __ret\n",
      "File \u001b[1;32m~\\anaconda3\\envs\\dev_class\\lib\\site-packages\\matplotlib\\__init__.py:1442\u001b[0m, in \u001b[0;36m_preprocess_data.<locals>.inner\u001b[1;34m(ax, data, *args, **kwargs)\u001b[0m\n\u001b[0;32m   1439\u001b[0m \u001b[38;5;129m@functools\u001b[39m\u001b[38;5;241m.\u001b[39mwraps(func)\n\u001b[0;32m   1440\u001b[0m \u001b[38;5;28;01mdef\u001b[39;00m \u001b[38;5;21minner\u001b[39m(ax, \u001b[38;5;241m*\u001b[39margs, data\u001b[38;5;241m=\u001b[39m\u001b[38;5;28;01mNone\u001b[39;00m, \u001b[38;5;241m*\u001b[39m\u001b[38;5;241m*\u001b[39mkwargs):\n\u001b[0;32m   1441\u001b[0m     \u001b[38;5;28;01mif\u001b[39;00m data \u001b[38;5;129;01mis\u001b[39;00m \u001b[38;5;28;01mNone\u001b[39;00m:\n\u001b[1;32m-> 1442\u001b[0m         \u001b[38;5;28;01mreturn\u001b[39;00m func(ax, \u001b[38;5;241m*\u001b[39m\u001b[38;5;28mmap\u001b[39m(sanitize_sequence, args), \u001b[38;5;241m*\u001b[39m\u001b[38;5;241m*\u001b[39mkwargs)\n\u001b[0;32m   1444\u001b[0m     bound \u001b[38;5;241m=\u001b[39m new_sig\u001b[38;5;241m.\u001b[39mbind(ax, \u001b[38;5;241m*\u001b[39margs, \u001b[38;5;241m*\u001b[39m\u001b[38;5;241m*\u001b[39mkwargs)\n\u001b[0;32m   1445\u001b[0m     auto_label \u001b[38;5;241m=\u001b[39m (bound\u001b[38;5;241m.\u001b[39marguments\u001b[38;5;241m.\u001b[39mget(label_namer)\n\u001b[0;32m   1446\u001b[0m                   \u001b[38;5;129;01mor\u001b[39;00m bound\u001b[38;5;241m.\u001b[39mkwargs\u001b[38;5;241m.\u001b[39mget(label_namer))\n",
      "File \u001b[1;32m~\\anaconda3\\envs\\dev_class\\lib\\site-packages\\matplotlib\\axes\\_axes.py:4581\u001b[0m, in \u001b[0;36mAxes.scatter\u001b[1;34m(self, x, y, s, c, marker, cmap, norm, vmin, vmax, alpha, linewidths, edgecolors, plotnonfinite, **kwargs)\u001b[0m\n\u001b[0;32m   4578\u001b[0m x, y \u001b[38;5;241m=\u001b[39m \u001b[38;5;28mself\u001b[39m\u001b[38;5;241m.\u001b[39m_process_unit_info([(\u001b[38;5;124m\"\u001b[39m\u001b[38;5;124mx\u001b[39m\u001b[38;5;124m\"\u001b[39m, x), (\u001b[38;5;124m\"\u001b[39m\u001b[38;5;124my\u001b[39m\u001b[38;5;124m\"\u001b[39m, y)], kwargs)\n\u001b[0;32m   4579\u001b[0m \u001b[38;5;66;03m# np.ma.ravel yields an ndarray, not a masked array,\u001b[39;00m\n\u001b[0;32m   4580\u001b[0m \u001b[38;5;66;03m# unless its argument is a masked array.\u001b[39;00m\n\u001b[1;32m-> 4581\u001b[0m x \u001b[38;5;241m=\u001b[39m \u001b[43mnp\u001b[49m\u001b[38;5;241;43m.\u001b[39;49m\u001b[43mma\u001b[49m\u001b[38;5;241;43m.\u001b[39;49m\u001b[43mravel\u001b[49m\u001b[43m(\u001b[49m\u001b[43mx\u001b[49m\u001b[43m)\u001b[49m\n\u001b[0;32m   4582\u001b[0m y \u001b[38;5;241m=\u001b[39m np\u001b[38;5;241m.\u001b[39mma\u001b[38;5;241m.\u001b[39mravel(y)\n\u001b[0;32m   4583\u001b[0m \u001b[38;5;28;01mif\u001b[39;00m x\u001b[38;5;241m.\u001b[39msize \u001b[38;5;241m!=\u001b[39m y\u001b[38;5;241m.\u001b[39msize:\n",
      "File \u001b[1;32m~\\anaconda3\\envs\\dev_class\\lib\\site-packages\\numpy\\ma\\core.py:6852\u001b[0m, in \u001b[0;36m_frommethod.__call__\u001b[1;34m(self, a, *args, **params)\u001b[0m\n\u001b[0;32m   6849\u001b[0m     args \u001b[38;5;241m=\u001b[39m \u001b[38;5;28mlist\u001b[39m(args)\n\u001b[0;32m   6850\u001b[0m     a, args[\u001b[38;5;241m0\u001b[39m] \u001b[38;5;241m=\u001b[39m args[\u001b[38;5;241m0\u001b[39m], a\n\u001b[1;32m-> 6852\u001b[0m marr \u001b[38;5;241m=\u001b[39m \u001b[43masanyarray\u001b[49m\u001b[43m(\u001b[49m\u001b[43ma\u001b[49m\u001b[43m)\u001b[49m\n\u001b[0;32m   6853\u001b[0m method_name \u001b[38;5;241m=\u001b[39m \u001b[38;5;28mself\u001b[39m\u001b[38;5;241m.\u001b[39m\u001b[38;5;18m__name__\u001b[39m\n\u001b[0;32m   6854\u001b[0m method \u001b[38;5;241m=\u001b[39m \u001b[38;5;28mgetattr\u001b[39m(\u001b[38;5;28mtype\u001b[39m(marr), method_name, \u001b[38;5;28;01mNone\u001b[39;00m)\n",
      "File \u001b[1;32m~\\anaconda3\\envs\\dev_class\\lib\\site-packages\\numpy\\ma\\core.py:8132\u001b[0m, in \u001b[0;36masanyarray\u001b[1;34m(a, dtype)\u001b[0m\n\u001b[0;32m   8130\u001b[0m \u001b[38;5;28;01mif\u001b[39;00m \u001b[38;5;28misinstance\u001b[39m(a, MaskedArray) \u001b[38;5;129;01mand\u001b[39;00m (dtype \u001b[38;5;129;01mis\u001b[39;00m \u001b[38;5;28;01mNone\u001b[39;00m \u001b[38;5;129;01mor\u001b[39;00m dtype \u001b[38;5;241m==\u001b[39m a\u001b[38;5;241m.\u001b[39mdtype):\n\u001b[0;32m   8131\u001b[0m     \u001b[38;5;28;01mreturn\u001b[39;00m a\n\u001b[1;32m-> 8132\u001b[0m \u001b[38;5;28;01mreturn\u001b[39;00m \u001b[43mmasked_array\u001b[49m\u001b[43m(\u001b[49m\u001b[43ma\u001b[49m\u001b[43m,\u001b[49m\u001b[43m \u001b[49m\u001b[43mdtype\u001b[49m\u001b[38;5;241;43m=\u001b[39;49m\u001b[43mdtype\u001b[49m\u001b[43m,\u001b[49m\u001b[43m \u001b[49m\u001b[43mcopy\u001b[49m\u001b[38;5;241;43m=\u001b[39;49m\u001b[38;5;28;43;01mFalse\u001b[39;49;00m\u001b[43m,\u001b[49m\u001b[43m \u001b[49m\u001b[43mkeep_mask\u001b[49m\u001b[38;5;241;43m=\u001b[39;49m\u001b[38;5;28;43;01mTrue\u001b[39;49;00m\u001b[43m,\u001b[49m\u001b[43m \u001b[49m\u001b[43msubok\u001b[49m\u001b[38;5;241;43m=\u001b[39;49m\u001b[38;5;28;43;01mTrue\u001b[39;49;00m\u001b[43m)\u001b[49m\n",
      "File \u001b[1;32m~\\anaconda3\\envs\\dev_class\\lib\\site-packages\\numpy\\ma\\core.py:2820\u001b[0m, in \u001b[0;36mMaskedArray.__new__\u001b[1;34m(cls, data, mask, dtype, copy, subok, ndmin, fill_value, keep_mask, hard_mask, shrink, order)\u001b[0m\n\u001b[0;32m   2811\u001b[0m \u001b[38;5;124;03m\"\"\"\u001b[39;00m\n\u001b[0;32m   2812\u001b[0m \u001b[38;5;124;03mCreate a new masked array from scratch.\u001b[39;00m\n\u001b[0;32m   2813\u001b[0m \n\u001b[1;32m   (...)\u001b[0m\n\u001b[0;32m   2817\u001b[0m \n\u001b[0;32m   2818\u001b[0m \u001b[38;5;124;03m\"\"\"\u001b[39;00m\n\u001b[0;32m   2819\u001b[0m \u001b[38;5;66;03m# Process data.\u001b[39;00m\n\u001b[1;32m-> 2820\u001b[0m _data \u001b[38;5;241m=\u001b[39m \u001b[43mnp\u001b[49m\u001b[38;5;241;43m.\u001b[39;49m\u001b[43marray\u001b[49m\u001b[43m(\u001b[49m\u001b[43mdata\u001b[49m\u001b[43m,\u001b[49m\u001b[43m \u001b[49m\u001b[43mdtype\u001b[49m\u001b[38;5;241;43m=\u001b[39;49m\u001b[43mdtype\u001b[49m\u001b[43m,\u001b[49m\u001b[43m \u001b[49m\u001b[43mcopy\u001b[49m\u001b[38;5;241;43m=\u001b[39;49m\u001b[43mcopy\u001b[49m\u001b[43m,\u001b[49m\n\u001b[0;32m   2821\u001b[0m \u001b[43m                 \u001b[49m\u001b[43morder\u001b[49m\u001b[38;5;241;43m=\u001b[39;49m\u001b[43morder\u001b[49m\u001b[43m,\u001b[49m\u001b[43m \u001b[49m\u001b[43msubok\u001b[49m\u001b[38;5;241;43m=\u001b[39;49m\u001b[38;5;28;43;01mTrue\u001b[39;49;00m\u001b[43m,\u001b[49m\u001b[43m \u001b[49m\u001b[43mndmin\u001b[49m\u001b[38;5;241;43m=\u001b[39;49m\u001b[43mndmin\u001b[49m\u001b[43m)\u001b[49m\n\u001b[0;32m   2822\u001b[0m _baseclass \u001b[38;5;241m=\u001b[39m \u001b[38;5;28mgetattr\u001b[39m(data, \u001b[38;5;124m'\u001b[39m\u001b[38;5;124m_baseclass\u001b[39m\u001b[38;5;124m'\u001b[39m, \u001b[38;5;28mtype\u001b[39m(_data))\n\u001b[0;32m   2823\u001b[0m \u001b[38;5;66;03m# Check that we're not erasing the mask.\u001b[39;00m\n",
      "\u001b[1;31mValueError\u001b[0m: setting an array element with a sequence. The requested array has an inhomogeneous shape after 2 dimensions. The detected shape was (91, 2) + inhomogeneous part."
     ]
    },
    {
     "data": {
      "image/png": "[encoded data removed]",
      "text/plain": [
       "<Figure size 640x480 with 1 Axes>"
      ]
     },
     "metadata": {},
     "output_type": "display_data"
    }
   ],
   "source": [
    "plt.scatter(year_reg_grouped,year_reg_count)\n",
    "\n",
    "plt.plot(year,pe_fit,\"--\")\n",
    "plt.xticks(year, rotation=90)\n",
    "plt.xlabel('Year')\n",
    "plt.ylabel('Petrol Electric Cars')\n",
    "plt.show()"
   ]
  },
  {
   "cell_type": "code",
   "execution_count": null,
   "id": "0ff16c98",
   "metadata": {},
   "outputs": [],
   "source": [
    "# Plot the linear model on top of scatter plot \n",
    "year = df2.loc[(df2[\"yearOfRegistration\"]==2006),\"price\"]\n",
    "petrol_electric_cars = vehicle_data.loc[(vehicle_data[\"type\"]==\"Cars\") & (vehicle_data[\"engine\"]==\"Petrol-Electric\"),\"number\"]\n",
    "\n",
    "plt.scatter(year_reg_grouped,year_reg_count)\n",
    "\n",
    "plt.plot(year,pe_fit,\"--\")\n",
    "plt.xticks(year, rotation=90)\n",
    "plt.xlabel('Year')\n",
    "plt.ylabel('Petrol Electric Cars')\n",
    "plt.show()"
   ]
  },
  {
   "cell_type": "code",
   "execution_count": null,
   "id": "63a45fe9",
   "metadata": {},
   "outputs": [],
   "source": []
  },
  {
   "cell_type": "code",
   "execution_count": null,
   "id": "ce52942c",
   "metadata": {},
   "outputs": [],
   "source": []
  },
  {
   "cell_type": "markdown",
   "id": "dfc69e2b",
   "metadata": {},
   "source": [
    "-------------------"
   ]
  },
  {
   "cell_type": "markdown",
   "id": "72da5834",
   "metadata": {},
   "source": [
    "## T test for Registration year per Price"
   ]
  },
  {
   "cell_type": "code",
   "execution_count": null,
   "id": "c689a745",
   "metadata": {},
   "outputs": [],
   "source": [
    "df3 = pd.DataFrame(df2[['yearOfRegistration','price']])\n",
    "df3"
   ]
  },
  {
   "cell_type": "code",
   "execution_count": null,
   "id": "bf9e0457",
   "metadata": {},
   "outputs": [],
   "source": [
    "# Calculate the population mean for Registration year 1999 and 2005 per Price\n",
    "population1 = df3[df3[\"yearOfRegistration\"] == 1999]\n",
    "population1.price.mean()"
   ]
  },
  {
   "cell_type": "code",
   "execution_count": null,
   "id": "5b05e43f",
   "metadata": {},
   "outputs": [],
   "source": [
    "population2 = df3[df3[\"yearOfRegistration\"] == 2006]\n",
    "population2.price.mean()"
   ]
  },
  {
   "cell_type": "code",
   "execution_count": null,
   "id": "190dbd34",
   "metadata": {},
   "outputs": [],
   "source": [
    "# Calculate Independent (Two Sample) t-test\n",
    "st.ttest_ind(population1.price, population2.price, equal_var=False)"
   ]
  },
  {
   "cell_type": "markdown",
   "id": "67f902bb",
   "metadata": {},
   "source": [
    "##### According to pvalue so these 2 samples are normal not different and alternative hypothesis"
   ]
  },
  {
   "cell_type": "code",
   "execution_count": null,
   "id": "2489959b",
   "metadata": {},
   "outputs": [],
   "source": [
    "# Some data to test with\n",
    "def gendata(loc1=0, loc2=0):\n",
    "    \n",
    "    # Scatter Plot of Data\n",
    "    plt.subplot(2, 1, 1)\n",
    "    plt.scatter(range(len(population1)), population1, label=\"population1\")\n",
    "    plt.scatter(range(len(population2)), population2, label=\"population2\")\n",
    "    plt.legend()\n",
    "\n",
    "    # Histogram Plot of Data\n",
    "    plt.subplot(2, 1, 2)\n",
    "    plt.hist(population1, 20, density=True, alpha=0.7, label=\"population1\")\n",
    "    plt.hist(population2, 20, density=True, alpha=0.7, label=\"population2\")\n",
    "    \n",
    "    plt.axvline(population1.mean(), color='k', linestyle='dashed', linewidth=1)\n",
    "    plt.axvline(population2.mean(), color='k', linestyle='dashed', linewidth=1)\n",
    "    plt.legend()  \n",
    "    \n",
    "    return population1, population2"
   ]
  },
  {
   "cell_type": "markdown",
   "id": "312a1ee3",
   "metadata": {},
   "source": [
    "### Independent T-Tests\n",
    "\n",
    "Independent t-tests will compare the means of 2 independent populations.\n",
    "\n",
    "#### Assumptions\n",
    "\n",
    "1. Data is normally distributed\n",
    "2. Data is independent\n",
    "3. Data is homogenous (The standard deviations are roughly equal)"
   ]
  },
  {
   "cell_type": "code",
   "execution_count": null,
   "id": "774738a8",
   "metadata": {},
   "outputs": [],
   "source": [
    "# Generate some data and show the scatter plot\n",
    "population1, population2 = gendata()"
   ]
  },
  {
   "cell_type": "code",
   "execution_count": null,
   "id": "efe24d44",
   "metadata": {},
   "outputs": [],
   "source": [
    "# Note: Setting equal_var=False performs Welch's t-test which does \n",
    "# not assume equal population variance\n",
    "stats.ttest_ind(population1, population2, equal_var=False)"
   ]
  },
  {
   "cell_type": "code",
   "execution_count": null,
   "id": "8dc07ae8",
   "metadata": {},
   "outputs": [],
   "source": [
    "# Generate data with a bigger difference in means\n",
    "population1, population2 = gendata(loc1=0, loc2=1)"
   ]
  },
  {
   "cell_type": "code",
   "execution_count": null,
   "id": "beb43a78",
   "metadata": {},
   "outputs": [],
   "source": [
    "# Run the t-test on the two population samples. \n",
    "st.ttest_ind(population1, population2, equal_var=False)"
   ]
  },
  {
   "cell_type": "markdown",
   "id": "86ac676f",
   "metadata": {},
   "source": [
    "-------------------------------"
   ]
  },
  {
   "cell_type": "markdown",
   "id": "6c8f6379",
   "metadata": {},
   "source": [
    "## Visualizing Vehicle Type Count"
   ]
  },
  {
   "cell_type": "code",
   "execution_count": null,
   "id": "53d178a0",
   "metadata": {},
   "outputs": [],
   "source": [
    "# Using bar plot \n",
    "veh_Type_Count.sort_values(ascending=True).plot.bar()\n",
    "plt.xlabel('Vehicle Type',color='b')\n",
    "plt.ylabel('Count',color='b')\n",
    "plt.title('Count of Each Vehicle Type',fontsize=15,color='b')\n",
    "plt.savefig(\"./image/Count of Each Vehicle Type.png\")\n",
    "plt.show()"
   ]
  },
  {
   "cell_type": "markdown",
   "id": "5b389213",
   "metadata": {},
   "source": [
    "-----------------------------------------------------------"
   ]
  },
  {
   "cell_type": "markdown",
   "id": "4538763f",
   "metadata": {},
   "source": [
    "##  How long does a car stay on the market? \n",
    "   #### - Type of car "
   ]
  },
  {
   "cell_type": "markdown",
   "id": "9b5a95ec",
   "metadata": {},
   "source": [
    "*offeringDate and lastSeen are the columns to be used to determine marketDuration*"
   ]
  },
  {
   "cell_type": "code",
   "execution_count": null,
   "id": "74e3cdb7",
   "metadata": {},
   "outputs": [],
   "source": [
    "# Convert columns to datetime\n",
    "df2['offeringDate'] = pd.to_datetime(df2['offeringDate'])\n",
    "df2['lastSeen'] = pd.to_datetime(df2['lastSeen'])\n",
    "\n",
    "# Calculating duration\n",
    "df2['marketDuration'] = df2['lastSeen'] - df2['offeringDate']\n",
    "\n",
    "# Average duration group by car\n",
    "mkt_Duration_By_Type_mean = df2.groupby('vehicleType')['marketDuration'].mean()\n",
    "\n",
    "print(f\"Car types stay on market on average {mkt_Duration_By_Type_mean.sort_values()}\")"
   ]
  },
  {
   "cell_type": "code",
   "execution_count": null,
   "id": "f443db5f",
   "metadata": {
    "scrolled": true
   },
   "outputs": [],
   "source": [
    "# Plotting a pie chart\n",
    "plt.figure(figsize=(5,5))\n",
    "plt.pie(mkt_Duration_By_Type_mean, labels=mkt_Duration_By_Type_mean.index, autopct='%1.1f%%')\n",
    "plt.title('Market Duration Distribution by Car Type',color='b')\n",
    "plt.tight_layout()\n",
    "plt.savefig(\"./image/Market Duration Distribution by Car Type.png\")\n",
    "plt.show()\n",
    "# there is almost similar distribution of market duration for different vehicle types. "
   ]
  },
  {
   "cell_type": "markdown",
   "id": "7b4bec2e",
   "metadata": {},
   "source": [
    "-------------------------------------------------"
   ]
  },
  {
   "cell_type": "markdown",
   "id": "fde0625d",
   "metadata": {},
   "source": [
    "## How much does mileage affect the car price?"
   ]
  },
  {
   "cell_type": "code",
   "execution_count": null,
   "id": "1ce2c8e0",
   "metadata": {},
   "outputs": [],
   "source": [
    "# group by kilometer and price. \n",
    "kilometer_grouped_df = df2.groupby('kilometer')['price'].mean()\n",
    "\n",
    "# Mileage vs Average Price Visualized in Line Chart\n",
    "plt.plot(kilometer_grouped_df,linewidth=1, marker='+',color='g')\n",
    "plt.title('mileage affect the car price',fontsize=18,color='b')\n",
    "plt.xlabel('Mileage (km)',fontsize=12,color='b')\n",
    "plt.ylabel('Average Price (USD)',fontsize=12,color='b')\n",
    "plt.vlines(10000,0,22000,alpha=0.5,color='orange',linestyle=':')\n",
    "plt.grid()\n",
    "plt.savefig(\"./image/mileage affect the car price.png\")\n",
    "plt.show()"
   ]
  },
  {
   "cell_type": "markdown",
   "id": "411dab48",
   "metadata": {},
   "source": [
    "----------------"
   ]
  },
  {
   "cell_type": "markdown",
   "id": "5a17c812",
   "metadata": {},
   "source": [
    "## Number of sales vs mileage"
   ]
  },
  {
   "cell_type": "code",
   "execution_count": null,
   "id": "127e886f",
   "metadata": {},
   "outputs": [],
   "source": [
    "mileage_Sales_Count = df2.groupby(['kilometer'])['price'].count()\n",
    "mileage_Sales_Count"
   ]
  },
  {
   "cell_type": "code",
   "execution_count": null,
   "id": "dea89eca",
   "metadata": {},
   "outputs": [],
   "source": [
    "x = mileage_Sales_Count.keys()\n",
    "x"
   ]
  },
  {
   "cell_type": "code",
   "execution_count": null,
   "id": "91707b63",
   "metadata": {},
   "outputs": [],
   "source": [
    "y = mileage_Sales_Count.values\n",
    "y"
   ]
  },
  {
   "cell_type": "code",
   "execution_count": null,
   "id": "96d6fb65",
   "metadata": {},
   "outputs": [],
   "source": [
    "# Create a count plot to visualize the number of sales based on mileage\n",
    "plt.scatter(x, y)\n",
    "\n",
    "plt.xlabel('Mileage (in kilometers)',fontsize=15,color='b')\n",
    "plt.ylabel('Number of Sales',fontsize=15,color='b')\n",
    "plt.title('Mileage vs. Number of Sales',fontsize=20,color='b')\n",
    "\n",
    "plt.xticks(rotation=90)  # Rotate x-axis labels if needed\n",
    "\n",
    "plt.savefig(\"./image/Mileage vs. Number of Sales.png\")\n",
    "plt.show()"
   ]
  },
  {
   "cell_type": "code",
   "execution_count": null,
   "id": "6276bea4",
   "metadata": {},
   "outputs": [],
   "source": []
  },
  {
   "cell_type": "code",
   "execution_count": null,
   "id": "936c0d7c",
   "metadata": {},
   "outputs": [],
   "source": []
  }
 ],
 "metadata": {
  "kernelspec": {
   "display_name": "PythonData",
   "language": "python",
   "name": "pythondata"
  },
  "language_info": {
   "codemirror_mode": {
    "name": "ipython",
    "version": 3
   },
   "file_extension": ".py",
   "mimetype": "text/x-python",
   "name": "python",
   "nbconvert_exporter": "python",
   "pygments_lexer": "ipython3",
   "version": "3.10.9"
  }
 },
 "nbformat": 4,
 "nbformat_minor": 5
}
