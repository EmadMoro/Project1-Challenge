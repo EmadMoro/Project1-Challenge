{
 "cells": [
  {
   "cell_type": "code",
   "execution_count": 1,
   "id": "51b8998d",
   "metadata": {},
   "outputs": [],
   "source": [
    "%matplotlib notebook\n",
    "%matplotlib inline"
   ]
  },
  {
   "cell_type": "code",
   "execution_count": 2,
   "id": "44e01058",
   "metadata": {},
   "outputs": [],
   "source": [
    "#dependencies\n",
    "import pandas as pd\n",
    "import matplotlib.pyplot as plt\n",
    "import numpy as np\n",
    "import sklearn.datasets as dta\n",
    "import scipy.stats as st\n",
    "from scipy.stats import sem"
   ]
  },
  {
   "cell_type": "code",
   "execution_count": 3,
   "id": "c314b200",
   "metadata": {},
   "outputs": [],
   "source": [
    "# reading file content\n",
    "df = pd.read_csv('../Project1-Challenge-main/Resources/cleaned_df.csv')"
   ]
  },
  {
   "cell_type": "markdown",
   "id": "ac5f21cd",
   "metadata": {},
   "source": [
    "### Exploring the Cleaning"
   ]
  },
  {
   "cell_type": "code",
   "execution_count": 4,
   "id": "4664395d",
   "metadata": {},
   "outputs": [
    {
     "name": "stdout",
     "output_type": "stream",
     "text": [
      "<class 'pandas.core.frame.DataFrame'>\n",
      "RangeIndex: 307122 entries, 0 to 307121\n",
      "Data columns (total 10 columns):\n",
      " #   Column              Non-Null Count   Dtype \n",
      "---  ------              --------------   ----- \n",
      " 0   dateCrawled         307122 non-null  object\n",
      " 1   name                307122 non-null  object\n",
      " 2   price               307122 non-null  int64 \n",
      " 3   vehicleType         307122 non-null  object\n",
      " 4   yearOfRegistration  307122 non-null  int64 \n",
      " 5   model               307122 non-null  object\n",
      " 6   kilometer           307122 non-null  int64 \n",
      " 7   fuelType            307122 non-null  object\n",
      " 8   brand               307122 non-null  object\n",
      " 9   lastSeen            307122 non-null  object\n",
      "dtypes: int64(3), object(7)\n",
      "memory usage: 23.4+ MB\n"
     ]
    }
   ],
   "source": [
    "# The structure of the dataset\n",
    "df.info()\n",
    "# total 10 columns. All non-null, 307122 rows. "
   ]
  },
  {
   "cell_type": "code",
   "execution_count": 5,
   "id": "1c9f6be1",
   "metadata": {},
   "outputs": [
    {
     "data": {
      "text/html": [
       "<div>\n",
       "<style scoped>\n",
       "    .dataframe tbody tr th:only-of-type {\n",
       "        vertical-align: middle;\n",
       "    }\n",
       "\n",
       "    .dataframe tbody tr th {\n",
       "        vertical-align: top;\n",
       "    }\n",
       "\n",
       "    .dataframe thead th {\n",
       "        text-align: right;\n",
       "    }\n",
       "</style>\n",
       "<table border=\"1\" class=\"dataframe\">\n",
       "  <thead>\n",
       "    <tr style=\"text-align: right;\">\n",
       "      <th></th>\n",
       "      <th>price</th>\n",
       "      <th>yearOfRegistration</th>\n",
       "      <th>kilometer</th>\n",
       "    </tr>\n",
       "  </thead>\n",
       "  <tbody>\n",
       "    <tr>\n",
       "      <th>count</th>\n",
       "      <td>3.071220e+05</td>\n",
       "      <td>307122.000000</td>\n",
       "      <td>307122.000000</td>\n",
       "    </tr>\n",
       "    <tr>\n",
       "      <th>mean</th>\n",
       "      <td>9.404320e+03</td>\n",
       "      <td>2002.903706</td>\n",
       "      <td>125391.180052</td>\n",
       "    </tr>\n",
       "    <tr>\n",
       "      <th>std</th>\n",
       "      <td>5.192426e+05</td>\n",
       "      <td>6.597030</td>\n",
       "      <td>39347.308065</td>\n",
       "    </tr>\n",
       "    <tr>\n",
       "      <th>min</th>\n",
       "      <td>0.000000e+00</td>\n",
       "      <td>1910.000000</td>\n",
       "      <td>5000.000000</td>\n",
       "    </tr>\n",
       "    <tr>\n",
       "      <th>25%</th>\n",
       "      <td>1.399000e+03</td>\n",
       "      <td>1999.000000</td>\n",
       "      <td>100000.000000</td>\n",
       "    </tr>\n",
       "    <tr>\n",
       "      <th>50%</th>\n",
       "      <td>3.450000e+03</td>\n",
       "      <td>2003.000000</td>\n",
       "      <td>150000.000000</td>\n",
       "    </tr>\n",
       "    <tr>\n",
       "      <th>75%</th>\n",
       "      <td>7.980000e+03</td>\n",
       "      <td>2007.000000</td>\n",
       "      <td>150000.000000</td>\n",
       "    </tr>\n",
       "    <tr>\n",
       "      <th>max</th>\n",
       "      <td>1.000000e+08</td>\n",
       "      <td>2018.000000</td>\n",
       "      <td>150000.000000</td>\n",
       "    </tr>\n",
       "  </tbody>\n",
       "</table>\n",
       "</div>"
      ],
      "text/plain": [
       "              price  yearOfRegistration      kilometer\n",
       "count  3.071220e+05       307122.000000  307122.000000\n",
       "mean   9.404320e+03         2002.903706  125391.180052\n",
       "std    5.192426e+05            6.597030   39347.308065\n",
       "min    0.000000e+00         1910.000000    5000.000000\n",
       "25%    1.399000e+03         1999.000000  100000.000000\n",
       "50%    3.450000e+03         2003.000000  150000.000000\n",
       "75%    7.980000e+03         2007.000000  150000.000000\n",
       "max    1.000000e+08         2018.000000  150000.000000"
      ]
     },
     "execution_count": 5,
     "metadata": {},
     "output_type": "execute_result"
    }
   ],
   "source": [
    "df.describe()\n",
    "\n",
    "# Interquartile distribution doesn`t seem satisfactory for now."
   ]
  },
  {
   "cell_type": "code",
   "execution_count": 6,
   "id": "1ec2e074",
   "metadata": {},
   "outputs": [
    {
     "data": {
      "text/plain": [
       "(307122, 10)"
      ]
     },
     "execution_count": 6,
     "metadata": {},
     "output_type": "execute_result"
    }
   ],
   "source": [
    "# Getting the dimensions\n",
    "df.shape"
   ]
  },
  {
   "cell_type": "code",
   "execution_count": 7,
   "id": "4f0ce982",
   "metadata": {},
   "outputs": [
    {
     "data": {
      "text/plain": [
       "Index(['offeringDate', 'name', 'price', 'vehicleType', 'yearOfRegistration',\n",
       "       'model', 'kilometer', 'fuelType', 'brand', 'lastSeen'],\n",
       "      dtype='object')"
      ]
     },
     "execution_count": 7,
     "metadata": {},
     "output_type": "execute_result"
    }
   ],
   "source": [
    "# Renaming dateCrawled to offeringDate\n",
    "df.rename(columns={'dateCrawled': 'offeringDate'}, inplace=True)\n",
    "# Listing out the columns\n",
    "df.columns"
   ]
  },
  {
   "cell_type": "code",
   "execution_count": 8,
   "id": "9ca5e2a9",
   "metadata": {},
   "outputs": [
    {
     "data": {
      "text/html": [
       "<div>\n",
       "<style scoped>\n",
       "    .dataframe tbody tr th:only-of-type {\n",
       "        vertical-align: middle;\n",
       "    }\n",
       "\n",
       "    .dataframe tbody tr th {\n",
       "        vertical-align: top;\n",
       "    }\n",
       "\n",
       "    .dataframe thead th {\n",
       "        text-align: right;\n",
       "    }\n",
       "</style>\n",
       "<table border=\"1\" class=\"dataframe\">\n",
       "  <thead>\n",
       "    <tr style=\"text-align: right;\">\n",
       "      <th></th>\n",
       "      <th>offeringDate</th>\n",
       "      <th>name</th>\n",
       "      <th>price</th>\n",
       "      <th>vehicleType</th>\n",
       "      <th>yearOfRegistration</th>\n",
       "      <th>model</th>\n",
       "      <th>kilometer</th>\n",
       "      <th>fuelType</th>\n",
       "      <th>brand</th>\n",
       "      <th>lastSeen</th>\n",
       "    </tr>\n",
       "  </thead>\n",
       "  <tbody>\n",
       "    <tr>\n",
       "      <th>0</th>\n",
       "      <td>2016-03-14 12:52:21</td>\n",
       "      <td>Jeep_Grand_Cherokee_\"Overland\"</td>\n",
       "      <td>9800</td>\n",
       "      <td>suv</td>\n",
       "      <td>2004</td>\n",
       "      <td>grand</td>\n",
       "      <td>125000</td>\n",
       "      <td>diesel</td>\n",
       "      <td>jeep</td>\n",
       "      <td>2016-04-05 12:47:46</td>\n",
       "    </tr>\n",
       "    <tr>\n",
       "      <th>1</th>\n",
       "      <td>2016-03-17 16:54:04</td>\n",
       "      <td>GOLF_4_1_4__3TÜRER</td>\n",
       "      <td>1500</td>\n",
       "      <td>kleinwagen</td>\n",
       "      <td>2001</td>\n",
       "      <td>golf</td>\n",
       "      <td>150000</td>\n",
       "      <td>benzin</td>\n",
       "      <td>volkswagen</td>\n",
       "      <td>2016-03-17 17:40:17</td>\n",
       "    </tr>\n",
       "    <tr>\n",
       "      <th>2</th>\n",
       "      <td>2016-03-31 17:25:20</td>\n",
       "      <td>Skoda_Fabia_1.4_TDI_PD_Classic</td>\n",
       "      <td>3600</td>\n",
       "      <td>kleinwagen</td>\n",
       "      <td>2008</td>\n",
       "      <td>fabia</td>\n",
       "      <td>90000</td>\n",
       "      <td>diesel</td>\n",
       "      <td>skoda</td>\n",
       "      <td>2016-04-06 10:17:21</td>\n",
       "    </tr>\n",
       "    <tr>\n",
       "      <th>3</th>\n",
       "      <td>2016-04-04 17:36:23</td>\n",
       "      <td>BMW_316i___e36_Limousine___Bastlerfahrzeug__Ex...</td>\n",
       "      <td>650</td>\n",
       "      <td>limousine</td>\n",
       "      <td>1995</td>\n",
       "      <td>3er</td>\n",
       "      <td>150000</td>\n",
       "      <td>benzin</td>\n",
       "      <td>bmw</td>\n",
       "      <td>2016-04-06 19:17:07</td>\n",
       "    </tr>\n",
       "    <tr>\n",
       "      <th>4</th>\n",
       "      <td>2016-04-01 20:48:51</td>\n",
       "      <td>Peugeot_206_CC_110_Platinum</td>\n",
       "      <td>2200</td>\n",
       "      <td>cabrio</td>\n",
       "      <td>2004</td>\n",
       "      <td>2_reihe</td>\n",
       "      <td>150000</td>\n",
       "      <td>benzin</td>\n",
       "      <td>peugeot</td>\n",
       "      <td>2016-04-05 18:18:39</td>\n",
       "    </tr>\n",
       "  </tbody>\n",
       "</table>\n",
       "</div>"
      ],
      "text/plain": [
       "          offeringDate                                               name  \\\n",
       "0  2016-03-14 12:52:21                     Jeep_Grand_Cherokee_\"Overland\"   \n",
       "1  2016-03-17 16:54:04                                 GOLF_4_1_4__3TÜRER   \n",
       "2  2016-03-31 17:25:20                     Skoda_Fabia_1.4_TDI_PD_Classic   \n",
       "3  2016-04-04 17:36:23  BMW_316i___e36_Limousine___Bastlerfahrzeug__Ex...   \n",
       "4  2016-04-01 20:48:51                        Peugeot_206_CC_110_Platinum   \n",
       "\n",
       "   price vehicleType  yearOfRegistration    model  kilometer fuelType  \\\n",
       "0   9800         suv                2004    grand     125000   diesel   \n",
       "1   1500  kleinwagen                2001     golf     150000   benzin   \n",
       "2   3600  kleinwagen                2008    fabia      90000   diesel   \n",
       "3    650   limousine                1995      3er     150000   benzin   \n",
       "4   2200      cabrio                2004  2_reihe     150000   benzin   \n",
       "\n",
       "        brand             lastSeen  \n",
       "0        jeep  2016-04-05 12:47:46  \n",
       "1  volkswagen  2016-03-17 17:40:17  \n",
       "2       skoda  2016-04-06 10:17:21  \n",
       "3         bmw  2016-04-06 19:17:07  \n",
       "4     peugeot  2016-04-05 18:18:39  "
      ]
     },
     "execution_count": 8,
     "metadata": {},
     "output_type": "execute_result"
    }
   ],
   "source": [
    "df.head()"
   ]
  },
  {
   "cell_type": "markdown",
   "id": "6178ffee",
   "metadata": {},
   "source": [
    "Some entries for vehicleType are in German, converting them to English. "
   ]
  },
  {
   "cell_type": "code",
   "execution_count": 9,
   "id": "23c2c344",
   "metadata": {},
   "outputs": [
    {
     "data": {
      "text/plain": [
       "array(['suv', 'sedan', 'luxury', 'convertable', 'bus', 'station', 'coupe',\n",
       "       'other'], dtype=object)"
      ]
     },
     "execution_count": 9,
     "metadata": {},
     "output_type": "execute_result"
    }
   ],
   "source": [
    "df['vehicleType'] = df['vehicleType'].replace({'andere' : 'other','kombi' : 'station','kleinwagen': 'sedan',\n",
    "                                               'cabrio': 'convertable','limousine': 'luxury'})\n",
    "df.vehicleType.unique()\n"
   ]
  },
  {
   "cell_type": "code",
   "execution_count": 10,
   "id": "96440f53",
   "metadata": {},
   "outputs": [
    {
     "data": {
      "text/html": [
       "<div>\n",
       "<style scoped>\n",
       "    .dataframe tbody tr th:only-of-type {\n",
       "        vertical-align: middle;\n",
       "    }\n",
       "\n",
       "    .dataframe tbody tr th {\n",
       "        vertical-align: top;\n",
       "    }\n",
       "\n",
       "    .dataframe thead th {\n",
       "        text-align: right;\n",
       "    }\n",
       "</style>\n",
       "<table border=\"1\" class=\"dataframe\">\n",
       "  <thead>\n",
       "    <tr style=\"text-align: right;\">\n",
       "      <th></th>\n",
       "      <th>offeringDate</th>\n",
       "      <th>name</th>\n",
       "      <th>price</th>\n",
       "      <th>vehicleType</th>\n",
       "      <th>yearOfRegistration</th>\n",
       "      <th>model</th>\n",
       "      <th>kilometer</th>\n",
       "      <th>fuelType</th>\n",
       "      <th>brand</th>\n",
       "      <th>lastSeen</th>\n",
       "    </tr>\n",
       "  </thead>\n",
       "  <tbody>\n",
       "    <tr>\n",
       "      <th>129403</th>\n",
       "      <td>2016-03-07 12:00:46</td>\n",
       "      <td>Golf_7_Variant__184_PS__Erstzulassung_2013__53...</td>\n",
       "      <td>10000</td>\n",
       "      <td>station</td>\n",
       "      <td>2013</td>\n",
       "      <td>golf</td>\n",
       "      <td>60000</td>\n",
       "      <td>diesel</td>\n",
       "      <td>volkswagen</td>\n",
       "      <td>2016-03-20 12:49:27</td>\n",
       "    </tr>\n",
       "    <tr>\n",
       "      <th>148340</th>\n",
       "      <td>2016-03-08 18:42:48</td>\n",
       "      <td>Mercedes_Benz_CLK_Coupe_230_Kompressor_Sport</td>\n",
       "      <td>1799</td>\n",
       "      <td>coupe</td>\n",
       "      <td>1999</td>\n",
       "      <td>clk</td>\n",
       "      <td>20000</td>\n",
       "      <td>benzin</td>\n",
       "      <td>mercedes_benz</td>\n",
       "      <td>2016-03-09 09:46:57</td>\n",
       "    </tr>\n",
       "    <tr>\n",
       "      <th>200383</th>\n",
       "      <td>2016-03-28 00:56:10</td>\n",
       "      <td>Suzuki_Ignis</td>\n",
       "      <td>1000</td>\n",
       "      <td>sedan</td>\n",
       "      <td>2002</td>\n",
       "      <td>andere</td>\n",
       "      <td>150000</td>\n",
       "      <td>benzin</td>\n",
       "      <td>suzuki</td>\n",
       "      <td>2016-03-28 08:46:21</td>\n",
       "    </tr>\n",
       "    <tr>\n",
       "      <th>223758</th>\n",
       "      <td>2016-04-03 09:01:15</td>\n",
       "      <td>Mercedes_Benz_CLK_320_W209</td>\n",
       "      <td>4699</td>\n",
       "      <td>coupe</td>\n",
       "      <td>2003</td>\n",
       "      <td>clk</td>\n",
       "      <td>125000</td>\n",
       "      <td>benzin</td>\n",
       "      <td>mercedes_benz</td>\n",
       "      <td>2016-04-07 09:44:54</td>\n",
       "    </tr>\n",
       "    <tr>\n",
       "      <th>282289</th>\n",
       "      <td>2016-03-18 18:46:15</td>\n",
       "      <td>Volkswagen_Passat_Variant_1.9_TDI_Highline</td>\n",
       "      <td>1999</td>\n",
       "      <td>station</td>\n",
       "      <td>2001</td>\n",
       "      <td>passat</td>\n",
       "      <td>150000</td>\n",
       "      <td>diesel</td>\n",
       "      <td>volkswagen</td>\n",
       "      <td>2016-03-18 18:46:15</td>\n",
       "    </tr>\n",
       "  </tbody>\n",
       "</table>\n",
       "</div>"
      ],
      "text/plain": [
       "               offeringDate  \\\n",
       "129403  2016-03-07 12:00:46   \n",
       "148340  2016-03-08 18:42:48   \n",
       "200383  2016-03-28 00:56:10   \n",
       "223758  2016-04-03 09:01:15   \n",
       "282289  2016-03-18 18:46:15   \n",
       "\n",
       "                                                     name  price vehicleType  \\\n",
       "129403  Golf_7_Variant__184_PS__Erstzulassung_2013__53...  10000     station   \n",
       "148340       Mercedes_Benz_CLK_Coupe_230_Kompressor_Sport   1799       coupe   \n",
       "200383                                       Suzuki_Ignis   1000       sedan   \n",
       "223758                         Mercedes_Benz_CLK_320_W209   4699       coupe   \n",
       "282289         Volkswagen_Passat_Variant_1.9_TDI_Highline   1999     station   \n",
       "\n",
       "        yearOfRegistration   model  kilometer fuelType          brand  \\\n",
       "129403                2013    golf      60000   diesel     volkswagen   \n",
       "148340                1999     clk      20000   benzin  mercedes_benz   \n",
       "200383                2002  andere     150000   benzin         suzuki   \n",
       "223758                2003     clk     125000   benzin  mercedes_benz   \n",
       "282289                2001  passat     150000   diesel     volkswagen   \n",
       "\n",
       "                   lastSeen  \n",
       "129403  2016-03-20 12:49:27  \n",
       "148340  2016-03-09 09:46:57  \n",
       "200383  2016-03-28 08:46:21  \n",
       "223758  2016-04-07 09:44:54  \n",
       "282289  2016-03-18 18:46:15  "
      ]
     },
     "execution_count": 10,
     "metadata": {},
     "output_type": "execute_result"
    }
   ],
   "source": [
    "# Duplicates\n",
    " \n",
    "duplicate_rows = df[df.duplicated()]\n",
    "\n",
    "duplicate_rows # I don`t think there is a need to drop as they are not too much. "
   ]
  },
  {
   "cell_type": "markdown",
   "id": "0d2edb27",
   "metadata": {},
   "source": [
    "## Research Questions to Answer"
   ]
  },
  {
   "cell_type": "markdown",
   "id": "fde0625d",
   "metadata": {},
   "source": [
    "## -How much does mileage affect the car price?"
   ]
  },
  {
   "cell_type": "code",
   "execution_count": 52,
   "id": "1ce2c8e0",
   "metadata": {},
   "outputs": [
    {
     "data": {
      "image/png": "[encoded data removed]",
      "text/plain": [
       "<Figure size 640x480 with 1 Axes>"
      ]
     },
     "metadata": {},
     "output_type": "display_data"
    }
   ],
   "source": [
    "# group by kilometer and price. \n",
    "grouped_df = df.groupby('kilometer')['price'].mean()\n",
    "\n",
    "# Mileage vs Average Price Visualized in Line Chart\n",
    "plt.plot(grouped_df)\n",
    "plt.xlabel('Mileage (km)')\n",
    "plt.ylabel('Average Price (USD)')\n",
    "plt.show()"
   ]
  },
  {
   "cell_type": "markdown",
   "id": "cae0933a",
   "metadata": {},
   "source": [
    "#### Number of sales vs mileage"
   ]
  },
  {
   "cell_type": "code",
   "execution_count": 53,
   "id": "7e91ba21",
   "metadata": {},
   "outputs": [
    {
     "data": {
      "image/png": "[encoded data removed]",
      "text/plain": [
       "<Figure size 640x480 with 1 Axes>"
      ]
     },
     "metadata": {},
     "output_type": "display_data"
    }
   ],
   "source": [
    "mileage_Sales_Count = df.groupby(['kilometer'])['price'].count()\n",
    "# Create a count plot to visualize the number of sales based on mileage\n",
    "plt.plot(df['kilometer'])\n",
    "plt.xlabel('Mileage (in kilometers)')\n",
    "plt.ylabel('Number of Sales')\n",
    "plt.title('Mileage vs. Number of Sales')\n",
    "plt.xticks(rotation=90)  # Rotate x-axis labels if needed\n",
    "plt.show()"
   ]
  },
  {
   "cell_type": "code",
   "execution_count": null,
   "id": "89b1b066",
   "metadata": {},
   "outputs": [],
   "source": []
  }
 ],
 "metadata": {
  "kernelspec": {
   "display_name": "PythonData",
   "language": "python",
   "name": "pythondata"
  },
  "language_info": {
   "codemirror_mode": {
    "name": "ipython",
    "version": 3
   },
   "file_extension": ".py",
   "mimetype": "text/x-python",
   "name": "python",
   "nbconvert_exporter": "python",
   "pygments_lexer": "ipython3",
   "version": "3.10.9"
  }
 },
 "nbformat": 4,
 "nbformat_minor": 5
}
