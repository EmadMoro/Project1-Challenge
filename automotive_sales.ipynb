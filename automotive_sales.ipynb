{
 "cells": [
  {
   "cell_type": "code",

   "execution_count": 1,

   "execution_count": 2,


   "execution_count": 3,


   "execution_count": 4,

    "execution_count": 4,


   "execution_count": 5,

     "execution_count": 5,

   "execution_count": 6,


     "execution_count": 6,

   "execution_count": 7,

     "execution_count": 7,

   "execution_count": 8,

     "execution_count": 8,

   "execution_count": 9,

     "execution_count": 9,

   "attachments": {},

   ]
  },
  {
   "cell_type": "code",
   "execution_count": 10,
   "id": "289ce3df",
   "metadata": {},
   "outputs": [
    {
     "data": {
      "text/plain": [
       "luxury         89153\n",
       "sedan          72663\n",
       "station        62599\n",
       "bus            28348\n",
       "convertable    21076\n",
       "coupe          17157\n",
       "suv            13497\n",
       "other           2629\n",
       "Name: vehicleType, dtype: int64"
      ]
     },
     "execution_count": 10,
     "metadata": {},
     "output_type": "execute_result"
    }
   ],
   "source": [
    "# Storing \"group by vehicleType\" and its count for each vehicleType in vehTypeCount\n",
    "veh_Type_Count = df['vehicleType'].value_counts() # vehicleType: the index & counts: the values\n",
    "veh_Type_Count"

   "execution_count": 11,
   "id": "25612051",
   "metadata": {},
   "outputs": [
    {
     "data": {
      "text/plain": [
       "dtype('int64')"
      ]
     },
     "execution_count": 11,
     "metadata": {},
     "output_type": "execute_result"
    }
   ],
   "source": [
    "veh_Type_Count.dtypes"
   ]
  },
  {
   "cell_type": "code",
   "execution_count": 12,
   "id": "f37a006d",
   "metadata": {},
   "outputs": [
    {
     "data": {
      "text/plain": [
       "other           2629\n",
       "suv            13497\n",
       "coupe          17157\n",
       "convertable    21076\n",
       "bus            28348\n",
       "station        62599\n",
       "sedan          72663\n",
       "luxury         89153\n",
       "Name: vehicleType, dtype: int64"
      ]
     },
     "execution_count": 12,
     "metadata": {},
     "output_type": "execute_result"
    }
   ],
   "source": [
    "# Sorting vehTypeCount in ascending order\n",
    "type_Count_Sorted = veh_Type_Count.sort_values(ascending=True)\n",
    "type_Count_Sorted"
   ]
  },
  {
   "cell_type": "code",
   "execution_count": null,
   "id": "afcf057a",
   "metadata": {},
   "outputs": [],
   "source": []
  },
  {
   "cell_type": "code",
   "execution_count": 13,
   "id": "d3c78377",
   "metadata": {},
   "outputs": [
    {
     "data": {
      "text/plain": [
       "89153"
      ]
     },
     "execution_count": 13,
     "metadata": {},
     "output_type": "execute_result"
    }
   ],
   "source": [
    "# Most & least popular vehicle\n",
    "most_popular = type_Count_Sorted.max()\n",
    "most_popular"
   ]
  },
  {
   "cell_type": "code",
   "execution_count": 14,
   "id": "3b242900",
   "metadata": {},
   "outputs": [
    {
     "data": {
      "text/plain": [
       "2629"
      ]
     },
     "execution_count": 14,
     "metadata": {},
     "output_type": "execute_result"
    }
   ],
   "source": [
    "least_popular = type_Count_Sorted.min()\n",
    "least_popular"
   ]
  },
  {
   "cell_type": "code",
   "execution_count": 15,
   "id": "457e495f",
   "metadata": {},
   "outputs": [
    {
     "data": {
      "text/plain": [
       "1999    20247\n",
       "2006    18872\n",
       "2005    18635\n",
       "2004    18584\n",
       "2003    18542\n",
       "        ...  \n",
       "1939        2\n",
       "1933        2\n",
       "1948        1\n",
       "1919        1\n",
       "1928        1\n",
       "Name: yearOfRegistration, Length: 92, dtype: int64"
      ]
     },
     "execution_count": 15,
     "metadata": {},
     "output_type": "execute_result"
    }
   ],
   "source": [
    "# Model year most purchased based on the date of registration\n",
    "# convert to numeric\n",
    "df['yearOfRegistration'] = pd.to_numeric(df['yearOfRegistration'], errors='coerce')\n",
    "\n",
    "# Group by year and count \n",
    "year_counts = df['yearOfRegistration'].value_counts() \n",
    "year_counts"
   ]
  },
  {
   "cell_type": "code",
   "execution_count": 16,
   "id": "4d4656f1",
   "metadata": {},
   "outputs": [
    {
     "name": "stdout",
     "output_type": "stream",
     "text": [
      "Least popular car type:  2629\n",
      "Most popular car type:  89153\n",
      "Most purchased model year:  20247\n"
     ]
    }
   ],
   "source": [
    "most_purchased_model = year_counts.max()\n",
    "\n",
    "print(\"Least popular car type: \", least_popular)\n",
    "print(\"Most popular car type: \", most_popular)\n",
    "print(\"Most purchased model year: \", most_purchased_model)"
   ]
  },
  {
   "attachments": {},
   "cell_type": "markdown",
   "id": "6c8f6379",
   "metadata": {},
   "source": [
    "##### Visualizing vehicle type count"
   ]
  },
  {
   "cell_type": "code",
   "execution_count": 17,
   "id": "53d178a0",
   "metadata": {},
   "outputs": [
    {
     "data": {
      "image/png": "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",
      "text/plain": [
       "<Figure size 640x480 with 1 Axes>"
      ]
     },
     "metadata": {},
     "output_type": "display_data"
    }
   ],
   "source": [
    "# Using horizontal bar plot \n",
    "type_Count_Sorted.plot.bar()\n",
    "plt.ylabel('Count')\n",
    "plt.xlabel('Vehicle Type')\n",
    "plt.title('Count of Each Vehicle Type')\n",
    "plt.show()"
   ]
  },
  {
   "cell_type": "code",
   "execution_count": 18,
   "id": "6897cc27",

     "execution_count": 18,

   "execution_count": 19,
   "id": "ce9575e8",

     "execution_count": 19,

    "# grouping by price range\n",
    "category_df = df.groupby(['vehicleType', 'priceRange']).agg({'price': ['count', 'median']}).reset_index()\n",
    "#renaming for clarity\n",
    "category_df.columns =  ['vehicleType', 'priceRange', 'salesCount', 'medianPrice']\n",
    "\n",
    "category_df.head(100)"

   "execution_count": 20,
   "id": "d4e3a17a",

     "execution_count": 20,

    "rx_axis = category_df['vehicleType']\n",
    "rx_axis"

   "execution_count": 21,
   "id": "f9da6f56",

     "execution_count": 21,

    "ry_axis = category_df['salesCount']\n",
    "ry_axis"

   "execution_count": 22,
   "id": "ccc8b8f6",

     "execution_count": 22,

   "execution_count": 23,
   "id": "fdb9273d",

    "# Bar plot for sales to price \n",
    "\n",
    "fig = plt.figure()\n",
    "my_cmap = plt.colormaps.get_cmap('summer')\n",
    "rescale = lambda y: (ry_axis - min(ry_axis)) / (max(ry_axis) - min(ry_axis))\n",
    "plt.bar(rx_axis, ry_axis, color=my_cmap(rescale(ry_axis)), alpha = .5)\n",
    "plt.title('Number of Sales for Each Car Type within Price Ranges')\n",
    "plt.xlabel('Car Type')\n",
    "plt.ylabel('Number of Sales')\n",
    "plt.xticks(rotation = \"vertical\")\n",
    "\n",
    "fig, ax = plt.subplots(figsize=(7, 1))\n",
    "fig.subplots_adjust(bottom=0.5)\n",
    "\n",
    "cmap = plt.cm.summer\n",
    "bounds = color_range\n",
    "norm = mpl.colors.BoundaryNorm(bounds, cmap.N, extend='both')\n",
    "\n",
    "fig.colorbar(plt.cm.ScalarMappable(norm=norm, cmap=cmap),\n",
    "             cax=ax, orientation='horizontal',\n",
    "             label=\"Price Range\")\n",
    "\n",
    "\n",
    "plt.show()\n"
   ]
  },
  {
   "cell_type": "code",
   "execution_count": null,
   "id": "ce47e50d",
   "metadata": {},
   "outputs": [],
   "source": []
