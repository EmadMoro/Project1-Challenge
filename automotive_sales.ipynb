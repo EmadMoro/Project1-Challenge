{
 "cells": [
  {
   "cell_type": "code",
   "execution_count": null,
   "id": "02ab537c",
   "metadata": {},
   "outputs": [],
   "source": []
  },
  {
   "cell_type": "markdown",
   "id": "c424df5d",
   "metadata": {},
   "source": [
    "--"
   ]
  },
  {
   "cell_type": "code",
   "execution_count": 1,
   "id": "51b8998d",
   "metadata": {},
   "outputs": [],
   "source": [
    "%matplotlib notebook\n",
    "%matplotlib inline"
   ]
  },
  {
   "cell_type": "code",
   "execution_count": 2,
   "id": "5baf2efc",
   "metadata": {},
   "outputs": [],
   "source": [
    "import warnings\n",
    "warnings.filterwarnings('ignore')"
   ]
  },
  {
   "cell_type": "code",
   "execution_count": 3,
   "id": "44e01058",
   "metadata": {},
   "outputs": [],
   "source": [
    "#dependencies\n",
    "import pandas as pd\n",
    "import matplotlib.pyplot as plt\n",
    "import matplotlib as mpl\n",
    "import numpy as np\n",
    "from scipy.stats import linregress\n",
    "import scipy.stats as st"
   ]
  },
  {
   "cell_type": "code",
   "execution_count": 4,
   "id": "c314b200",
   "metadata": {},
   "outputs": [],
   "source": [
    "# reading file content\n",
    "df = pd.read_csv('./Resources/cleaned_df.csv')"
   ]
  },
  {
   "cell_type": "markdown",
   "id": "ac5f21cd",
   "metadata": {},
   "source": [
    "### Cleaning Row Data"
   ]
  },
  {
   "cell_type": "code",
   "execution_count": 5,
   "id": "4664395d",
   "metadata": {},
   "outputs": [
    {
     "name": "stdout",
     "output_type": "stream",
     "text": [
      "<class 'pandas.core.frame.DataFrame'>\n",
      "RangeIndex: 307122 entries, 0 to 307121\n",
      "Data columns (total 10 columns):\n",
      " #   Column              Non-Null Count   Dtype \n",
      "---  ------              --------------   ----- \n",
      " 0   dateCrawled         307122 non-null  object\n",
      " 1   name                307122 non-null  object\n",
      " 2   price               307122 non-null  int64 \n",
      " 3   vehicleType         307122 non-null  object\n",
      " 4   yearOfRegistration  307122 non-null  int64 \n",
      " 5   model               307122 non-null  object\n",
      " 6   kilometer           307122 non-null  int64 \n",
      " 7   fuelType            307122 non-null  object\n",
      " 8   brand               307122 non-null  object\n",
      " 9   lastSeen            307122 non-null  object\n",
      "dtypes: int64(3), object(7)\n",
      "memory usage: 23.4+ MB\n"
     ]
    }
   ],
   "source": [
    "# The structure of the dataset\n",
    "df.info()\n",
    "# total 10 columns. All non-null, 307122 rows. "
   ]
  },
  {
   "cell_type": "code",
   "execution_count": 6,
   "id": "1c9f6be1",
   "metadata": {},
   "outputs": [
    {
     "data": {
      "text/html": [
       "<div>\n",
       "<style scoped>\n",
       "    .dataframe tbody tr th:only-of-type {\n",
       "        vertical-align: middle;\n",
       "    }\n",
       "\n",
       "    .dataframe tbody tr th {\n",
       "        vertical-align: top;\n",
       "    }\n",
       "\n",
       "    .dataframe thead th {\n",
       "        text-align: right;\n",
       "    }\n",
       "</style>\n",
       "<table border=\"1\" class=\"dataframe\">\n",
       "  <thead>\n",
       "    <tr style=\"text-align: right;\">\n",
       "      <th></th>\n",
       "      <th>price</th>\n",
       "      <th>yearOfRegistration</th>\n",
       "      <th>kilometer</th>\n",
       "    </tr>\n",
       "  </thead>\n",
       "  <tbody>\n",
       "    <tr>\n",
       "      <th>count</th>\n",
       "      <td>3.071220e+05</td>\n",
       "      <td>307122.000000</td>\n",
       "      <td>307122.000000</td>\n",
       "    </tr>\n",
       "    <tr>\n",
       "      <th>mean</th>\n",
       "      <td>9.404320e+03</td>\n",
       "      <td>2002.903706</td>\n",
       "      <td>125391.180052</td>\n",
       "    </tr>\n",
       "    <tr>\n",
       "      <th>std</th>\n",
       "      <td>5.192426e+05</td>\n",
       "      <td>6.597030</td>\n",
       "      <td>39347.308065</td>\n",
       "    </tr>\n",
       "    <tr>\n",
       "      <th>min</th>\n",
       "      <td>0.000000e+00</td>\n",
       "      <td>1910.000000</td>\n",
       "      <td>5000.000000</td>\n",
       "    </tr>\n",
       "    <tr>\n",
       "      <th>25%</th>\n",
       "      <td>1.399000e+03</td>\n",
       "      <td>1999.000000</td>\n",
       "      <td>100000.000000</td>\n",
       "    </tr>\n",
       "    <tr>\n",
       "      <th>50%</th>\n",
       "      <td>3.450000e+03</td>\n",
       "      <td>2003.000000</td>\n",
       "      <td>150000.000000</td>\n",
       "    </tr>\n",
       "    <tr>\n",
       "      <th>75%</th>\n",
       "      <td>7.980000e+03</td>\n",
       "      <td>2007.000000</td>\n",
       "      <td>150000.000000</td>\n",
       "    </tr>\n",
       "    <tr>\n",
       "      <th>max</th>\n",
       "      <td>1.000000e+08</td>\n",
       "      <td>2018.000000</td>\n",
       "      <td>150000.000000</td>\n",
       "    </tr>\n",
       "  </tbody>\n",
       "</table>\n",
       "</div>"
      ],
      "text/plain": [
       "              price  yearOfRegistration      kilometer\n",
       "count  3.071220e+05       307122.000000  307122.000000\n",
       "mean   9.404320e+03         2002.903706  125391.180052\n",
       "std    5.192426e+05            6.597030   39347.308065\n",
       "min    0.000000e+00         1910.000000    5000.000000\n",
       "25%    1.399000e+03         1999.000000  100000.000000\n",
       "50%    3.450000e+03         2003.000000  150000.000000\n",
       "75%    7.980000e+03         2007.000000  150000.000000\n",
       "max    1.000000e+08         2018.000000  150000.000000"
      ]
     },
     "execution_count": 6,
     "metadata": {},
     "output_type": "execute_result"
    }
   ],
   "source": [
    "df.describe()\n",
    "\n",
    "# Interquartile distribution "
   ]
  },
  {
   "cell_type": "code",
   "execution_count": 7,
   "id": "1ec2e074",
   "metadata": {},
   "outputs": [
    {
     "data": {
      "text/plain": [
       "(307122, 10)"
      ]
     },
     "execution_count": 7,
     "metadata": {},
     "output_type": "execute_result"
    }
   ],
   "source": [
    "# Getting the dimensions\n",
    "df.shape"
   ]
  },
  {
   "cell_type": "code",
   "execution_count": 8,
   "id": "4f0ce982",
   "metadata": {},
   "outputs": [
    {
     "data": {
      "text/plain": [
       "Index(['offeringDate', 'name', 'price', 'vehicleType', 'yearOfRegistration',\n",
       "       'model', 'kilometer', 'fuelType', 'brand', 'lastSeen'],\n",
       "      dtype='object')"
      ]
     },
     "execution_count": 8,
     "metadata": {},
     "output_type": "execute_result"
    }
   ],
   "source": [
    "# Renaming dateCrawled to offeringDate\n",
    "df.rename(columns={'dateCrawled': 'offeringDate'}, inplace=True)\n",
    "# Listing out the columns\n",
    "df.columns"
   ]
  },
  {
   "cell_type": "code",
   "execution_count": 9,
   "id": "9ca5e2a9",
   "metadata": {},
   "outputs": [
    {
     "data": {
      "text/html": [
       "<div>\n",
       "<style scoped>\n",
       "    .dataframe tbody tr th:only-of-type {\n",
       "        vertical-align: middle;\n",
       "    }\n",
       "\n",
       "    .dataframe tbody tr th {\n",
       "        vertical-align: top;\n",
       "    }\n",
       "\n",
       "    .dataframe thead th {\n",
       "        text-align: right;\n",
       "    }\n",
       "</style>\n",
       "<table border=\"1\" class=\"dataframe\">\n",
       "  <thead>\n",
       "    <tr style=\"text-align: right;\">\n",
       "      <th></th>\n",
       "      <th>offeringDate</th>\n",
       "      <th>name</th>\n",
       "      <th>price</th>\n",
       "      <th>vehicleType</th>\n",
       "      <th>yearOfRegistration</th>\n",
       "      <th>model</th>\n",
       "      <th>kilometer</th>\n",
       "      <th>fuelType</th>\n",
       "      <th>brand</th>\n",
       "      <th>lastSeen</th>\n",
       "    </tr>\n",
       "  </thead>\n",
       "  <tbody>\n",
       "    <tr>\n",
       "      <th>0</th>\n",
       "      <td>2016-03-14 12:52:21</td>\n",
       "      <td>Jeep_Grand_Cherokee_\"Overland\"</td>\n",
       "      <td>9800</td>\n",
       "      <td>suv</td>\n",
       "      <td>2004</td>\n",
       "      <td>grand</td>\n",
       "      <td>125000</td>\n",
       "      <td>diesel</td>\n",
       "      <td>jeep</td>\n",
       "      <td>2016-04-05 12:47:46</td>\n",
       "    </tr>\n",
       "    <tr>\n",
       "      <th>1</th>\n",
       "      <td>2016-03-17 16:54:04</td>\n",
       "      <td>GOLF_4_1_4__3TÜRER</td>\n",
       "      <td>1500</td>\n",
       "      <td>kleinwagen</td>\n",
       "      <td>2001</td>\n",
       "      <td>golf</td>\n",
       "      <td>150000</td>\n",
       "      <td>benzin</td>\n",
       "      <td>volkswagen</td>\n",
       "      <td>2016-03-17 17:40:17</td>\n",
       "    </tr>\n",
       "    <tr>\n",
       "      <th>2</th>\n",
       "      <td>2016-03-31 17:25:20</td>\n",
       "      <td>Skoda_Fabia_1.4_TDI_PD_Classic</td>\n",
       "      <td>3600</td>\n",
       "      <td>kleinwagen</td>\n",
       "      <td>2008</td>\n",
       "      <td>fabia</td>\n",
       "      <td>90000</td>\n",
       "      <td>diesel</td>\n",
       "      <td>skoda</td>\n",
       "      <td>2016-04-06 10:17:21</td>\n",
       "    </tr>\n",
       "    <tr>\n",
       "      <th>3</th>\n",
       "      <td>2016-04-04 17:36:23</td>\n",
       "      <td>BMW_316i___e36_Limousine___Bastlerfahrzeug__Ex...</td>\n",
       "      <td>650</td>\n",
       "      <td>limousine</td>\n",
       "      <td>1995</td>\n",
       "      <td>3er</td>\n",
       "      <td>150000</td>\n",
       "      <td>benzin</td>\n",
       "      <td>bmw</td>\n",
       "      <td>2016-04-06 19:17:07</td>\n",
       "    </tr>\n",
       "    <tr>\n",
       "      <th>4</th>\n",
       "      <td>2016-04-01 20:48:51</td>\n",
       "      <td>Peugeot_206_CC_110_Platinum</td>\n",
       "      <td>2200</td>\n",
       "      <td>cabrio</td>\n",
       "      <td>2004</td>\n",
       "      <td>2_reihe</td>\n",
       "      <td>150000</td>\n",
       "      <td>benzin</td>\n",
       "      <td>peugeot</td>\n",
       "      <td>2016-04-05 18:18:39</td>\n",
       "    </tr>\n",
       "    <tr>\n",
       "      <th>5</th>\n",
       "      <td>2016-03-21 18:54:38</td>\n",
       "      <td>VW_Derby_Bj_80__Scheunenfund</td>\n",
       "      <td>0</td>\n",
       "      <td>limousine</td>\n",
       "      <td>1980</td>\n",
       "      <td>andere</td>\n",
       "      <td>40000</td>\n",
       "      <td>benzin</td>\n",
       "      <td>volkswagen</td>\n",
       "      <td>2016-03-25 16:47:58</td>\n",
       "    </tr>\n",
       "    <tr>\n",
       "      <th>6</th>\n",
       "      <td>2016-04-04 23:42:13</td>\n",
       "      <td>Ford_C___Max_Titanium_1_0_L_EcoBoost</td>\n",
       "      <td>14500</td>\n",
       "      <td>bus</td>\n",
       "      <td>2014</td>\n",
       "      <td>c_max</td>\n",
       "      <td>30000</td>\n",
       "      <td>benzin</td>\n",
       "      <td>ford</td>\n",
       "      <td>2016-04-04 23:42:13</td>\n",
       "    </tr>\n",
       "    <tr>\n",
       "      <th>7</th>\n",
       "      <td>2016-03-26 19:54:18</td>\n",
       "      <td>Mazda_3_1.6_Sport</td>\n",
       "      <td>2000</td>\n",
       "      <td>limousine</td>\n",
       "      <td>2004</td>\n",
       "      <td>3_reihe</td>\n",
       "      <td>150000</td>\n",
       "      <td>benzin</td>\n",
       "      <td>mazda</td>\n",
       "      <td>2016-04-06 10:45:34</td>\n",
       "    </tr>\n",
       "    <tr>\n",
       "      <th>8</th>\n",
       "      <td>2016-04-07 10:06:22</td>\n",
       "      <td>Volkswagen_Passat_Variant_2.0_TDI_Comfortline</td>\n",
       "      <td>2799</td>\n",
       "      <td>kombi</td>\n",
       "      <td>2005</td>\n",
       "      <td>passat</td>\n",
       "      <td>150000</td>\n",
       "      <td>diesel</td>\n",
       "      <td>volkswagen</td>\n",
       "      <td>2016-04-07 10:25:17</td>\n",
       "    </tr>\n",
       "    <tr>\n",
       "      <th>9</th>\n",
       "      <td>2016-03-15 22:49:09</td>\n",
       "      <td>VW_Passat_Facelift_35i__\"7Sitzer\"</td>\n",
       "      <td>999</td>\n",
       "      <td>kombi</td>\n",
       "      <td>1995</td>\n",
       "      <td>passat</td>\n",
       "      <td>150000</td>\n",
       "      <td>benzin</td>\n",
       "      <td>volkswagen</td>\n",
       "      <td>2016-04-01 13:16:16</td>\n",
       "    </tr>\n",
       "  </tbody>\n",
       "</table>\n",
       "</div>"
      ],
      "text/plain": [
       "          offeringDate                                               name  \\\n",
       "0  2016-03-14 12:52:21                     Jeep_Grand_Cherokee_\"Overland\"   \n",
       "1  2016-03-17 16:54:04                                 GOLF_4_1_4__3TÜRER   \n",
       "2  2016-03-31 17:25:20                     Skoda_Fabia_1.4_TDI_PD_Classic   \n",
       "3  2016-04-04 17:36:23  BMW_316i___e36_Limousine___Bastlerfahrzeug__Ex...   \n",
       "4  2016-04-01 20:48:51                        Peugeot_206_CC_110_Platinum   \n",
       "5  2016-03-21 18:54:38                       VW_Derby_Bj_80__Scheunenfund   \n",
       "6  2016-04-04 23:42:13               Ford_C___Max_Titanium_1_0_L_EcoBoost   \n",
       "7  2016-03-26 19:54:18                                  Mazda_3_1.6_Sport   \n",
       "8  2016-04-07 10:06:22      Volkswagen_Passat_Variant_2.0_TDI_Comfortline   \n",
       "9  2016-03-15 22:49:09                  VW_Passat_Facelift_35i__\"7Sitzer\"   \n",
       "\n",
       "   price vehicleType  yearOfRegistration    model  kilometer fuelType  \\\n",
       "0   9800         suv                2004    grand     125000   diesel   \n",
       "1   1500  kleinwagen                2001     golf     150000   benzin   \n",
       "2   3600  kleinwagen                2008    fabia      90000   diesel   \n",
       "3    650   limousine                1995      3er     150000   benzin   \n",
       "4   2200      cabrio                2004  2_reihe     150000   benzin   \n",
       "5      0   limousine                1980   andere      40000   benzin   \n",
       "6  14500         bus                2014    c_max      30000   benzin   \n",
       "7   2000   limousine                2004  3_reihe     150000   benzin   \n",
       "8   2799       kombi                2005   passat     150000   diesel   \n",
       "9    999       kombi                1995   passat     150000   benzin   \n",
       "\n",
       "        brand             lastSeen  \n",
       "0        jeep  2016-04-05 12:47:46  \n",
       "1  volkswagen  2016-03-17 17:40:17  \n",
       "2       skoda  2016-04-06 10:17:21  \n",
       "3         bmw  2016-04-06 19:17:07  \n",
       "4     peugeot  2016-04-05 18:18:39  \n",
       "5  volkswagen  2016-03-25 16:47:58  \n",
       "6        ford  2016-04-04 23:42:13  \n",
       "7       mazda  2016-04-06 10:45:34  \n",
       "8  volkswagen  2016-04-07 10:25:17  \n",
       "9  volkswagen  2016-04-01 13:16:16  "
      ]
     },
     "execution_count": 9,
     "metadata": {},
     "output_type": "execute_result"
    }
   ],
   "source": [
    "df.head(10)"
   ]
  },
  {
   "cell_type": "markdown",
   "id": "6178ffee",
   "metadata": {},
   "source": [
    "###### Some entries for vehicleType are in German, converting them to English. "
   ]
  },
  {
   "cell_type": "code",
   "execution_count": 10,
   "id": "23c2c344",
   "metadata": {},
   "outputs": [
    {
     "data": {
      "text/plain": [
       "array(['suv', 'sedan', 'luxury', 'convertable', 'bus', 'station wagon',\n",
       "       'coupe', 'other'], dtype=object)"
      ]
     },
     "execution_count": 10,
     "metadata": {},
     "output_type": "execute_result"
    }
   ],
   "source": [
    "df['vehicleType'] = df['vehicleType'].replace({'andere' : 'other','kombi' : 'station wagon','kleinwagen': 'sedan',\n",
    "                                               'cabrio': 'convertable','limousine': 'luxury'})\n",
    "df.vehicleType.unique()\n"
   ]
  },
  {
   "cell_type": "code",
   "execution_count": 11,
   "id": "96440f53",
   "metadata": {
    "scrolled": true
   },
   "outputs": [
    {
     "data": {
      "text/html": [
       "<div>\n",
       "<style scoped>\n",
       "    .dataframe tbody tr th:only-of-type {\n",
       "        vertical-align: middle;\n",
       "    }\n",
       "\n",
       "    .dataframe tbody tr th {\n",
       "        vertical-align: top;\n",
       "    }\n",
       "\n",
       "    .dataframe thead th {\n",
       "        text-align: right;\n",
       "    }\n",
       "</style>\n",
       "<table border=\"1\" class=\"dataframe\">\n",
       "  <thead>\n",
       "    <tr style=\"text-align: right;\">\n",
       "      <th></th>\n",
       "      <th>offeringDate</th>\n",
       "      <th>name</th>\n",
       "      <th>price</th>\n",
       "      <th>vehicleType</th>\n",
       "      <th>yearOfRegistration</th>\n",
       "      <th>model</th>\n",
       "      <th>kilometer</th>\n",
       "      <th>fuelType</th>\n",
       "      <th>brand</th>\n",
       "      <th>lastSeen</th>\n",
       "    </tr>\n",
       "  </thead>\n",
       "  <tbody>\n",
       "    <tr>\n",
       "      <th>129403</th>\n",
       "      <td>2016-03-07 12:00:46</td>\n",
       "      <td>Golf_7_Variant__184_PS__Erstzulassung_2013__53...</td>\n",
       "      <td>10000</td>\n",
       "      <td>station wagon</td>\n",
       "      <td>2013</td>\n",
       "      <td>golf</td>\n",
       "      <td>60000</td>\n",
       "      <td>diesel</td>\n",
       "      <td>volkswagen</td>\n",
       "      <td>2016-03-20 12:49:27</td>\n",
       "    </tr>\n",
       "    <tr>\n",
       "      <th>148340</th>\n",
       "      <td>2016-03-08 18:42:48</td>\n",
       "      <td>Mercedes_Benz_CLK_Coupe_230_Kompressor_Sport</td>\n",
       "      <td>1799</td>\n",
       "      <td>coupe</td>\n",
       "      <td>1999</td>\n",
       "      <td>clk</td>\n",
       "      <td>20000</td>\n",
       "      <td>benzin</td>\n",
       "      <td>mercedes_benz</td>\n",
       "      <td>2016-03-09 09:46:57</td>\n",
       "    </tr>\n",
       "    <tr>\n",
       "      <th>200383</th>\n",
       "      <td>2016-03-28 00:56:10</td>\n",
       "      <td>Suzuki_Ignis</td>\n",
       "      <td>1000</td>\n",
       "      <td>sedan</td>\n",
       "      <td>2002</td>\n",
       "      <td>andere</td>\n",
       "      <td>150000</td>\n",
       "      <td>benzin</td>\n",
       "      <td>suzuki</td>\n",
       "      <td>2016-03-28 08:46:21</td>\n",
       "    </tr>\n",
       "    <tr>\n",
       "      <th>223758</th>\n",
       "      <td>2016-04-03 09:01:15</td>\n",
       "      <td>Mercedes_Benz_CLK_320_W209</td>\n",
       "      <td>4699</td>\n",
       "      <td>coupe</td>\n",
       "      <td>2003</td>\n",
       "      <td>clk</td>\n",
       "      <td>125000</td>\n",
       "      <td>benzin</td>\n",
       "      <td>mercedes_benz</td>\n",
       "      <td>2016-04-07 09:44:54</td>\n",
       "    </tr>\n",
       "    <tr>\n",
       "      <th>282289</th>\n",
       "      <td>2016-03-18 18:46:15</td>\n",
       "      <td>Volkswagen_Passat_Variant_1.9_TDI_Highline</td>\n",
       "      <td>1999</td>\n",
       "      <td>station wagon</td>\n",
       "      <td>2001</td>\n",
       "      <td>passat</td>\n",
       "      <td>150000</td>\n",
       "      <td>diesel</td>\n",
       "      <td>volkswagen</td>\n",
       "      <td>2016-03-18 18:46:15</td>\n",
       "    </tr>\n",
       "  </tbody>\n",
       "</table>\n",
       "</div>"
      ],
      "text/plain": [
       "               offeringDate  \\\n",
       "129403  2016-03-07 12:00:46   \n",
       "148340  2016-03-08 18:42:48   \n",
       "200383  2016-03-28 00:56:10   \n",
       "223758  2016-04-03 09:01:15   \n",
       "282289  2016-03-18 18:46:15   \n",
       "\n",
       "                                                     name  price  \\\n",
       "129403  Golf_7_Variant__184_PS__Erstzulassung_2013__53...  10000   \n",
       "148340       Mercedes_Benz_CLK_Coupe_230_Kompressor_Sport   1799   \n",
       "200383                                       Suzuki_Ignis   1000   \n",
       "223758                         Mercedes_Benz_CLK_320_W209   4699   \n",
       "282289         Volkswagen_Passat_Variant_1.9_TDI_Highline   1999   \n",
       "\n",
       "          vehicleType  yearOfRegistration   model  kilometer fuelType  \\\n",
       "129403  station wagon                2013    golf      60000   diesel   \n",
       "148340          coupe                1999     clk      20000   benzin   \n",
       "200383          sedan                2002  andere     150000   benzin   \n",
       "223758          coupe                2003     clk     125000   benzin   \n",
       "282289  station wagon                2001  passat     150000   diesel   \n",
       "\n",
       "                brand             lastSeen  \n",
       "129403     volkswagen  2016-03-20 12:49:27  \n",
       "148340  mercedes_benz  2016-03-09 09:46:57  \n",
       "200383         suzuki  2016-03-28 08:46:21  \n",
       "223758  mercedes_benz  2016-04-07 09:44:54  \n",
       "282289     volkswagen  2016-03-18 18:46:15  "
      ]
     },
     "execution_count": 11,
     "metadata": {},
     "output_type": "execute_result"
    }
   ],
   "source": [
    "# Getting rid of Duplicates\n",
    " \n",
    "duplicate_rows = df[df.duplicated()]\n",
    "\n",
    "duplicate_rows "
   ]
  },
  {
   "cell_type": "code",
   "execution_count": 12,
   "id": "fc5f1c8e",
   "metadata": {},
   "outputs": [],
   "source": [
    "# No more duplicates\n",
    "df = df.drop_duplicates() \n"
   ]
  },
  {
   "cell_type": "markdown",
   "id": "e8f3f8fb",
   "metadata": {},
   "source": [
    "----------------------------"
   ]
  },
  {
   "cell_type": "markdown",
   "id": "0d2edb27",
   "metadata": {},
   "source": [
    "# Research Questions to Answer"
   ]
  },
  {
   "cell_type": "markdown",
   "id": "f23b7fb9",
   "metadata": {},
   "source": [
    "____________________________________________________"
   ]
  },
  {
   "cell_type": "markdown",
   "id": "87e98fcb",
   "metadata": {},
   "source": [
    "##  Prices Distribution \n",
    "##### Finding outliers those could deviate mean and median prices"
   ]
  },
  {
   "cell_type": "code",
   "execution_count": 13,
   "id": "a4486550",
   "metadata": {},
   "outputs": [
    {
     "data": {
      "text/plain": [
       "99999999"
      ]
     },
     "execution_count": 13,
     "metadata": {},
     "output_type": "execute_result"
    }
   ],
   "source": [
    "df['price'].max() # There are some cars priced for $100 mil and $40 mil"
   ]
  },
  {
   "cell_type": "code",
   "execution_count": 14,
   "id": "f39a78b1",
   "metadata": {
    "scrolled": true
   },
   "outputs": [
    {
     "data": {
      "image/png": "[encoded data removed]",
      "text/plain": [
       "<Figure size 640x480 with 1 Axes>"
      ]
     },
     "metadata": {},
     "output_type": "display_data"
    }
   ],
   "source": [
    "# Using box plot to see price distribution with outliers \n",
    "fig1, ax1 = plt.subplots()\n",
    "ax1.set_title('Prices Distribution',color='b')\n",
    "ax1.set_ylabel('Price in $100 Million',color='b')\n",
    "ax1.boxplot(df['price'])\n",
    "plt.show()"
   ]
  },
  {
   "cell_type": "code",
   "execution_count": 15,
   "id": "04eacb8b",
   "metadata": {},
   "outputs": [
    {
     "data": {
      "text/plain": [
       "(291050, 10)"
      ]
     },
     "execution_count": 15,
     "metadata": {},
     "output_type": "execute_result"
    }
   ],
   "source": [
    "# Filtering out cars those priced for anything above $40,000 and filtering out cars those with $0 price tag \n",
    "# We pick cars price range to be some thing more reasonable so filter cars those below $300 and keep any thing below $40,000\n",
    "df2 = df.loc[(df['price'] < 40*1000)&(df['price']>300),:]\n",
    "df2.shape"
   ]
  },
  {
   "cell_type": "code",
   "execution_count": 16,
   "id": "67bdabcc",
   "metadata": {},
   "outputs": [
    {
     "data": {
      "text/plain": [
       "301"
      ]
     },
     "execution_count": 16,
     "metadata": {},
     "output_type": "execute_result"
    }
   ],
   "source": [
    "df2['price'].min() #checking the minimum price"
   ]
  },
  {
   "cell_type": "code",
   "execution_count": 17,
   "id": "429e115f",
   "metadata": {},
   "outputs": [
    {
     "data": {
      "text/html": [
       "<div>\n",
       "<style scoped>\n",
       "    .dataframe tbody tr th:only-of-type {\n",
       "        vertical-align: middle;\n",
       "    }\n",
       "\n",
       "    .dataframe tbody tr th {\n",
       "        vertical-align: top;\n",
       "    }\n",
       "\n",
       "    .dataframe thead th {\n",
       "        text-align: right;\n",
       "    }\n",
       "</style>\n",
       "<table border=\"1\" class=\"dataframe\">\n",
       "  <thead>\n",
       "    <tr style=\"text-align: right;\">\n",
       "      <th></th>\n",
       "      <th>offeringDate</th>\n",
       "      <th>name</th>\n",
       "      <th>price</th>\n",
       "      <th>vehicleType</th>\n",
       "      <th>yearOfRegistration</th>\n",
       "      <th>model</th>\n",
       "      <th>kilometer</th>\n",
       "      <th>fuelType</th>\n",
       "      <th>brand</th>\n",
       "      <th>lastSeen</th>\n",
       "    </tr>\n",
       "  </thead>\n",
       "  <tbody>\n",
       "    <tr>\n",
       "      <th>0</th>\n",
       "      <td>2016-03-14 12:52:21</td>\n",
       "      <td>Jeep_Grand_Cherokee_\"Overland\"</td>\n",
       "      <td>9800</td>\n",
       "      <td>suv</td>\n",
       "      <td>2004</td>\n",
       "      <td>grand</td>\n",
       "      <td>125000</td>\n",
       "      <td>diesel</td>\n",
       "      <td>jeep</td>\n",
       "      <td>2016-04-05 12:47:46</td>\n",
       "    </tr>\n",
       "    <tr>\n",
       "      <th>1</th>\n",
       "      <td>2016-03-17 16:54:04</td>\n",
       "      <td>GOLF_4_1_4__3TÜRER</td>\n",
       "      <td>1500</td>\n",
       "      <td>sedan</td>\n",
       "      <td>2001</td>\n",
       "      <td>golf</td>\n",
       "      <td>150000</td>\n",
       "      <td>benzin</td>\n",
       "      <td>volkswagen</td>\n",
       "      <td>2016-03-17 17:40:17</td>\n",
       "    </tr>\n",
       "    <tr>\n",
       "      <th>2</th>\n",
       "      <td>2016-03-31 17:25:20</td>\n",
       "      <td>Skoda_Fabia_1.4_TDI_PD_Classic</td>\n",
       "      <td>3600</td>\n",
       "      <td>sedan</td>\n",
       "      <td>2008</td>\n",
       "      <td>fabia</td>\n",
       "      <td>90000</td>\n",
       "      <td>diesel</td>\n",
       "      <td>skoda</td>\n",
       "      <td>2016-04-06 10:17:21</td>\n",
       "    </tr>\n",
       "    <tr>\n",
       "      <th>3</th>\n",
       "      <td>2016-04-04 17:36:23</td>\n",
       "      <td>BMW_316i___e36_Limousine___Bastlerfahrzeug__Ex...</td>\n",
       "      <td>650</td>\n",
       "      <td>luxury</td>\n",
       "      <td>1995</td>\n",
       "      <td>3er</td>\n",
       "      <td>150000</td>\n",
       "      <td>benzin</td>\n",
       "      <td>bmw</td>\n",
       "      <td>2016-04-06 19:17:07</td>\n",
       "    </tr>\n",
       "    <tr>\n",
       "      <th>4</th>\n",
       "      <td>2016-04-01 20:48:51</td>\n",
       "      <td>Peugeot_206_CC_110_Platinum</td>\n",
       "      <td>2200</td>\n",
       "      <td>convertable</td>\n",
       "      <td>2004</td>\n",
       "      <td>2_reihe</td>\n",
       "      <td>150000</td>\n",
       "      <td>benzin</td>\n",
       "      <td>peugeot</td>\n",
       "      <td>2016-04-05 18:18:39</td>\n",
       "    </tr>\n",
       "  </tbody>\n",
       "</table>\n",
       "</div>"
      ],
      "text/plain": [
       "          offeringDate                                               name  \\\n",
       "0  2016-03-14 12:52:21                     Jeep_Grand_Cherokee_\"Overland\"   \n",
       "1  2016-03-17 16:54:04                                 GOLF_4_1_4__3TÜRER   \n",
       "2  2016-03-31 17:25:20                     Skoda_Fabia_1.4_TDI_PD_Classic   \n",
       "3  2016-04-04 17:36:23  BMW_316i___e36_Limousine___Bastlerfahrzeug__Ex...   \n",
       "4  2016-04-01 20:48:51                        Peugeot_206_CC_110_Platinum   \n",
       "\n",
       "   price  vehicleType  yearOfRegistration    model  kilometer fuelType  \\\n",
       "0   9800          suv                2004    grand     125000   diesel   \n",
       "1   1500        sedan                2001     golf     150000   benzin   \n",
       "2   3600        sedan                2008    fabia      90000   diesel   \n",
       "3    650       luxury                1995      3er     150000   benzin   \n",
       "4   2200  convertable                2004  2_reihe     150000   benzin   \n",
       "\n",
       "        brand             lastSeen  \n",
       "0        jeep  2016-04-05 12:47:46  \n",
       "1  volkswagen  2016-03-17 17:40:17  \n",
       "2       skoda  2016-04-06 10:17:21  \n",
       "3         bmw  2016-04-06 19:17:07  \n",
       "4     peugeot  2016-04-05 18:18:39  "
      ]
     },
     "execution_count": 17,
     "metadata": {},
     "output_type": "execute_result"
    }
   ],
   "source": [
    "df2.head()"
   ]
  },
  {
   "cell_type": "code",
   "execution_count": 18,
   "id": "a961c89a",
   "metadata": {},
   "outputs": [
    {
     "data": {
      "image/png": "[encoded data removed]",
      "text/plain": [
       "<Figure size 640x480 with 1 Axes>"
      ]
     },
     "metadata": {},
     "output_type": "display_data"
    }
   ],
   "source": [
    "# Now this is how prices are distributed with median, upper quartile, lower quartile, upper bound, lower bound and outliers\n",
    "fig1, ax1 = plt.subplots()\n",
    "ax1.set_title('Prices Distribution',fontsize= 20,color='b')\n",
    "ax1.set_ylabel('Prices',fontsize= 15,color='b')\n",
    "ax1.boxplot(df2['price'])\n",
    "plt.savefig(\"./image/Price Distribution (box plot).png\")\n",
    "plt.show()"
   ]
  },
  {
   "cell_type": "code",
   "execution_count": 19,
   "id": "8a6da666",
   "metadata": {
    "scrolled": true
   },
   "outputs": [
    {
     "name": "stdout",
     "output_type": "stream",
     "text": [
      "The lower quartile of prices is: 1500.0\n",
      "The upper quartile of prices is: 8000.0\n",
      "\n",
      "The interquartile range of prices is: 6500.0\n",
      "\n",
      "The the min of prices is: 301\n",
      "The the max of prices is: 39999\n",
      "The the mean of prices is: 6041.802463494245\n",
      "The the median of prices is: 3600.0 \n",
      "The the mode of prices is: 0    1500\n",
      "Name: price, dtype: int64\n",
      "\n",
      "Values below -8250.0 could be outliers.\n",
      "Values above 17750.0 could be outliers.\n"
     ]
    }
   ],
   "source": [
    "#Calculating upper,lower quartiles, upper,lower bounds,min,max,mean,median, and mode values of car prices\n",
    "quartiles = df2['price'].quantile([.25,.5,.75])\n",
    "lowerq = quartiles[0.25]\n",
    "upperq = quartiles[0.75]\n",
    "iqr = upperq-lowerq\n",
    "\n",
    "print(f\"The lower quartile of prices is: {lowerq}\")\n",
    "print(f\"The upper quartile of prices is: {upperq}\")\n",
    "print(f\"\")\n",
    "print(f\"The interquartile range of prices is: {iqr}\")\n",
    "print(f\"\")\n",
    "print(f\"The the min of prices is: {df2['price'].min()}\")\n",
    "print(f\"The the max of prices is: {df2['price'].max()}\")\n",
    "print(f\"The the mean of prices is: {df2['price'].mean()}\")\n",
    "print(f\"The the median of prices is: {quartiles[0.5]} \")\n",
    "print(f\"The the mode of prices is: {df2['price'].mode()}\")\n",
    "print(f\"\")\n",
    "\n",
    "lower_bound = lowerq - (1.5*iqr)\n",
    "upper_bound = upperq + (1.5*iqr)\n",
    "print(f\"Values below {lower_bound} could be outliers.\")\n",
    "print(f\"Values above {upper_bound} could be outliers.\")\n"
   ]
  },
  {
   "cell_type": "code",
   "execution_count": 20,
   "id": "95dbcb91",
   "metadata": {},
   "outputs": [
    {
     "data": {
      "text/plain": [
       "19371"
      ]
     },
     "execution_count": 20,
     "metadata": {},
     "output_type": "execute_result"
    }
   ],
   "source": [
    "# Number of car prices those are outliers\n",
    "outlier_count = df2.loc[df2['price'] > upper_bound, :].count()\n",
    "outlier_count['price']"
   ]
  },
  {
   "cell_type": "code",
   "execution_count": 21,
   "id": "52556317",
   "metadata": {},
   "outputs": [
    {
     "name": "stdout",
     "output_type": "stream",
     "text": [
      "Number of cars with outliers prices is  19371 \n"
     ]
    }
   ],
   "source": [
    "# Print the number of outlier prices\n",
    "print(f\"Number of cars with outliers prices is  {outlier_count['price']} \")"
   ]
  },
  {
   "cell_type": "code",
   "execution_count": 22,
   "id": "0a0cde6a",
   "metadata": {},
   "outputs": [
    {
     "data": {
      "image/png": "[encoded data removed]",
      "text/plain": [
       "<Figure size 640x480 with 1 Axes>"
      ]
     },
     "metadata": {},
     "output_type": "display_data"
    },
    {
     "name": "stdout",
     "output_type": "stream",
     "text": [
      "NormaltestResult(statistic=2012.5014926494482, pvalue=0.0)\n",
      "NormaltestResult(statistic=39439.686890060526, pvalue=0.0)\n"
     ]
    }
   ],
   "source": [
    "# Determine if the auto prices are normally distributed using a small and large sample size. \n",
    "#Also showing which prices are the most purchased in car market\n",
    "plt.hist(df2['price'])\n",
    "plt.title('Price Popularity',fontsize=15,color='b')\n",
    "plt.xlabel('price',color='b')\n",
    "plt.ylabel('Counts',color='b')\n",
    "plt.xticks(np.arange(0,40000,4000),rotation=45)\n",
    "plt.savefig(\"./image/Price Popularity (hist plot).png\")\n",
    "plt.show()\n",
    "print(st.normaltest(df2['price'].sample(5000)))\n",
    "print(st.normaltest(df2['price'].sample(100000)))"
   ]
  },
  {
   "cell_type": "markdown",
   "id": "ec11543e",
   "metadata": {},
   "source": [
    "So pvalue is below 0.05 therefore its not normal they're different and we reject null hypothesis and its alternate hypothsis"
   ]
  },
  {
   "cell_type": "markdown",
   "id": "0ca15535",
   "metadata": {},
   "source": [
    "## Using price range, what is the median selling price for each car type?\n",
    "###      -   Creating Bins\n",
    "###      -   Number of Sales to Price"
   ]
  },
  {
   "cell_type": "code",
   "execution_count": 23,
   "id": "173ff457",
   "metadata": {},
   "outputs": [],
   "source": [
    "# converting df2 into dataframe to avoid error in next step\n",
    "df2 = pd.DataFrame(df2)"
   ]
  },
  {
   "cell_type": "code",
   "execution_count": 24,
   "id": "0bebc88c",
   "metadata": {},
   "outputs": [
    {
     "data": {
      "text/plain": [
       "0             7500+\n",
       "1             <1500\n",
       "2         3000-4500\n",
       "3             <1500\n",
       "4         1500-3000\n",
       "            ...    \n",
       "307117        <1500\n",
       "307118        <1500\n",
       "307119        7500+\n",
       "307120    3000-4500\n",
       "307121        7500+\n",
       "Name: priceRange, Length: 291050, dtype: category\n",
       "Categories (6, object): ['<1500' < '1500-3000' < '3000-4500' < '4500-6000' < '6000-7500' < '7500+']"
      ]
     },
     "execution_count": 24,
     "metadata": {},
     "output_type": "execute_result"
    }
   ],
   "source": [
    "# Bins\n",
    "bins = [0, 1500, 3000, 4500, 6000, 7500, float('inf')]\n",
    "labels = ['<1500', '1500-3000', '3000-4500', '4500-6000', '6000-7500', '7500+']\n",
    "\n",
    "# Assign range as per bins on price column. \n",
    "# Group by vehicleType & priceRange. Number of sales, typical selling price/each group. \n",
    "df2['priceRange'] = pd.cut(df2['price'], bins=bins, labels=labels) # range stored in priceRange.\n",
    "df2['priceRange']"
   ]
  },
  {
   "cell_type": "code",
   "execution_count": 25,
   "id": "9776701c",
   "metadata": {},
   "outputs": [
    {
     "data": {
      "text/html": [
       "<div>\n",
       "<style scoped>\n",
       "    .dataframe tbody tr th:only-of-type {\n",
       "        vertical-align: middle;\n",
       "    }\n",
       "\n",
       "    .dataframe tbody tr th {\n",
       "        vertical-align: top;\n",
       "    }\n",
       "\n",
       "    .dataframe thead th {\n",
       "        text-align: right;\n",
       "    }\n",
       "</style>\n",
       "<table border=\"1\" class=\"dataframe\">\n",
       "  <thead>\n",
       "    <tr style=\"text-align: right;\">\n",
       "      <th></th>\n",
       "      <th>vehicleType</th>\n",
       "      <th>priceRange</th>\n",
       "      <th>salesCount</th>\n",
       "      <th>medianPrice</th>\n",
       "    </tr>\n",
       "  </thead>\n",
       "  <tbody>\n",
       "    <tr>\n",
       "      <th>0</th>\n",
       "      <td>bus</td>\n",
       "      <td>&lt;1500</td>\n",
       "      <td>3833</td>\n",
       "      <td>1000.0</td>\n",
       "    </tr>\n",
       "    <tr>\n",
       "      <th>1</th>\n",
       "      <td>bus</td>\n",
       "      <td>1500-3000</td>\n",
       "      <td>5434</td>\n",
       "      <td>2350.0</td>\n",
       "    </tr>\n",
       "    <tr>\n",
       "      <th>2</th>\n",
       "      <td>bus</td>\n",
       "      <td>3000-4500</td>\n",
       "      <td>4334</td>\n",
       "      <td>3800.0</td>\n",
       "    </tr>\n",
       "    <tr>\n",
       "      <th>3</th>\n",
       "      <td>bus</td>\n",
       "      <td>4500-6000</td>\n",
       "      <td>3461</td>\n",
       "      <td>5300.0</td>\n",
       "    </tr>\n",
       "    <tr>\n",
       "      <th>4</th>\n",
       "      <td>bus</td>\n",
       "      <td>6000-7500</td>\n",
       "      <td>2363</td>\n",
       "      <td>6899.0</td>\n",
       "    </tr>\n",
       "    <tr>\n",
       "      <th>5</th>\n",
       "      <td>bus</td>\n",
       "      <td>7500+</td>\n",
       "      <td>8240</td>\n",
       "      <td>12000.0</td>\n",
       "    </tr>\n",
       "    <tr>\n",
       "      <th>6</th>\n",
       "      <td>convertable</td>\n",
       "      <td>&lt;1500</td>\n",
       "      <td>1686</td>\n",
       "      <td>1000.0</td>\n",
       "    </tr>\n",
       "    <tr>\n",
       "      <th>7</th>\n",
       "      <td>convertable</td>\n",
       "      <td>1500-3000</td>\n",
       "      <td>3046</td>\n",
       "      <td>2400.0</td>\n",
       "    </tr>\n",
       "    <tr>\n",
       "      <th>8</th>\n",
       "      <td>convertable</td>\n",
       "      <td>3000-4500</td>\n",
       "      <td>2766</td>\n",
       "      <td>3800.0</td>\n",
       "    </tr>\n",
       "    <tr>\n",
       "      <th>9</th>\n",
       "      <td>convertable</td>\n",
       "      <td>4500-6000</td>\n",
       "      <td>2179</td>\n",
       "      <td>5400.0</td>\n",
       "    </tr>\n",
       "  </tbody>\n",
       "</table>\n",
       "</div>"
      ],
      "text/plain": [
       "   vehicleType priceRange  salesCount  medianPrice\n",
       "0          bus      <1500        3833       1000.0\n",
       "1          bus  1500-3000        5434       2350.0\n",
       "2          bus  3000-4500        4334       3800.0\n",
       "3          bus  4500-6000        3461       5300.0\n",
       "4          bus  6000-7500        2363       6899.0\n",
       "5          bus      7500+        8240      12000.0\n",
       "6  convertable      <1500        1686       1000.0\n",
       "7  convertable  1500-3000        3046       2400.0\n",
       "8  convertable  3000-4500        2766       3800.0\n",
       "9  convertable  4500-6000        2179       5400.0"
      ]
     },
     "execution_count": 25,
     "metadata": {},
     "output_type": "execute_result"
    }
   ],
   "source": [
    "# grouping by price range\n",
    "category_df = df2.groupby(['vehicleType', 'priceRange']).agg({'price': ['count', 'median']}).reset_index()\n",
    "#renaming for clarity\n",
    "category_df.columns =  ['vehicleType', 'priceRange', 'salesCount', 'medianPrice']\n",
    "\n",
    "category_df.head(10)"
   ]
  },
  {
   "cell_type": "markdown",
   "id": "2e7ad7d3",
   "metadata": {},
   "source": [
    "---------------------------------"
   ]
  },
  {
   "cell_type": "markdown",
   "id": "fd0aed84",
   "metadata": {},
   "source": [
    "## Visualizing Sales Count to Median Price per Car Type"
   ]
  },
  {
   "cell_type": "code",
   "execution_count": 26,
   "id": "da4c4093",
   "metadata": {
    "scrolled": true
   },
   "outputs": [
    {
     "data": {
      "text/plain": [
       "0    bus\n",
       "1    bus\n",
       "2    bus\n",
       "Name: vehicleType, dtype: object"
      ]
     },
     "execution_count": 26,
     "metadata": {},
     "output_type": "execute_result"
    }
   ],
   "source": [
    "#Assigning x_axis values to be charted\n",
    "x_axis = category_df['vehicleType']\n",
    "x_axis.head(3)"
   ]
  },
  {
   "cell_type": "code",
   "execution_count": 27,
   "id": "605c0606",
   "metadata": {},
   "outputs": [
    {
     "data": {
      "text/plain": [
       "0    3833\n",
       "1    5434\n",
       "2    4334\n",
       "Name: salesCount, dtype: int64"
      ]
     },
     "execution_count": 27,
     "metadata": {},
     "output_type": "execute_result"
    }
   ],
   "source": [
    "#Assigning y_axis values to be charted\n",
    "y_axis = category_df['salesCount']\n",
    "y_axis.head(3)"
   ]
  },
  {
   "cell_type": "code",
   "execution_count": 28,
   "id": "fce1c310",
   "metadata": {},
   "outputs": [
    {
     "data": {
      "text/plain": [
       "[1500, 3000, 4500, 6000, 7500, 40000]"
      ]
     },
     "execution_count": 28,
     "metadata": {},
     "output_type": "execute_result"
    }
   ],
   "source": [
    "# Labels need to be integers not obj(string)\n",
    "labels2 = [1500,3000,4500,6000,7500,40000]\n",
    "color_range = list(labels2)\n",
    "color_range"
   ]
  },
  {
   "cell_type": "code",
   "execution_count": 29,
   "id": "8cfc4b2b",
   "metadata": {},
   "outputs": [
    {
     "data": {
      "image/png": "[encoded data removed]",
      "text/plain": [
       "<Figure size 640x480 with 1 Axes>"
      ]
     },
     "metadata": {},
     "output_type": "display_data"
    },
    {
     "data": {
      "image/png": "[encoded data removed]",
      "text/plain": [
       "<Figure size 700x100 with 1 Axes>"
      ]
     },
     "metadata": {},
     "output_type": "display_data"
    }
   ],
   "source": [
    "# Bar plot for sales to price \n",
    "\n",
    "fig = plt.figure()\n",
    "my_cmap = plt.colormaps.get_cmap('summer')\n",
    "rescale = lambda y: (y_axis - min(y_axis)) / (max(y_axis) - min(y_axis))\n",
    "plt.bar(x_axis, y_axis, color=my_cmap(rescale(y_axis)), alpha = .5)\n",
    "plt.title('Number of Sales for Each Car Type within Price Ranges',fontsize=20,color='b')\n",
    "plt.xlabel('Car Type',fontsize=15,color='g')\n",
    "plt.ylabel('Number of Sales',fontsize=15,color='g')\n",
    "plt.xticks(rotation = \"vertical\")\n",
    "plt.savefig(\"./image/Number of Sales for Each Car Type within Price Ranges1.png\")\n",
    "fig, ax = plt.subplots(figsize=(7, 1))\n",
    "fig.subplots_adjust(bottom=0.5)\n",
    "\n",
    "cmap = plt.cm.summer\n",
    "bounds = color_range\n",
    "norm = mpl.colors.BoundaryNorm(bounds, cmap.N, extend='both')\n",
    "\n",
    "fig.colorbar(plt.cm.ScalarMappable(norm=norm, cmap=cmap),\n",
    "             cax=ax, orientation='horizontal',\n",
    "             label=\"Price Range\")\n",
    "\n",
    "plt.savefig(\"./image/Number of Sales for Each Car Type within Price Ranges2.png\")\n",
    "plt.show()\n"
   ]
  },
  {
   "cell_type": "markdown",
   "id": "752888e7",
   "metadata": {},
   "source": [
    "---------------------"
   ]
  },
  {
   "cell_type": "markdown",
   "id": "7635136d",
   "metadata": {},
   "source": [
    "## - What is the least and most popular car type being sold?\n",
    "## - Using date of registration, which model year is most purchased."
   ]
  },
  {
   "cell_type": "markdown",
   "id": "17de8ecd",
   "metadata": {},
   "source": [
    "   "
   ]
  },
  {
   "cell_type": "code",
   "execution_count": 30,
   "id": "289ce3df",
   "metadata": {},
   "outputs": [
    {
     "data": {
      "text/plain": [
       "luxury           85518\n",
       "sedan            66612\n",
       "station wagon    60130\n",
       "bus              27665\n",
       "convertable      20161\n",
       "coupe            15671\n",
       "suv              12937\n",
       "other             2356\n",
       "Name: vehicleType, dtype: int64"
      ]
     },
     "execution_count": 30,
     "metadata": {},
     "output_type": "execute_result"
    }
   ],
   "source": [
    "# Storing \"group by vehicleType\" and its count for each vehicleType in vehTypeCount\n",
    "veh_Type_Count = df2['vehicleType'].value_counts() # vehicleType: the index & counts: the values\n",
    "veh_Type_Count"
   ]
  },
  {
   "cell_type": "code",
   "execution_count": 31,
   "id": "25612051",
   "metadata": {},
   "outputs": [
    {
     "data": {
      "text/plain": [
       "dtype('int64')"
      ]
     },
     "execution_count": 31,
     "metadata": {},
     "output_type": "execute_result"
    }
   ],
   "source": [
    "veh_Type_Count.dtypes"
   ]
  },
  {
   "cell_type": "code",
   "execution_count": 32,
   "id": "d3c78377",
   "metadata": {},
   "outputs": [
    {
     "data": {
      "text/plain": [
       "'luxury'"
      ]
     },
     "execution_count": 32,
     "metadata": {},
     "output_type": "execute_result"
    }
   ],
   "source": [
    "# Most & least popular vehicle\n",
    "most_popular = veh_Type_Count.idxmax()\n",
    "most_popular"
   ]
  },
  {
   "cell_type": "code",
   "execution_count": 33,
   "id": "3b242900",
   "metadata": {},
   "outputs": [
    {
     "data": {
      "text/plain": [
       "'other'"
      ]
     },
     "execution_count": 33,
     "metadata": {},
     "output_type": "execute_result"
    }
   ],
   "source": [
    "least_popular = veh_Type_Count.idxmin()\n",
    "least_popular"
   ]
  },
  {
   "cell_type": "code",
   "execution_count": 34,
   "id": "457e495f",
   "metadata": {},
   "outputs": [
    {
     "data": {
      "text/plain": [
       "2006    18665\n",
       "1999    18652\n",
       "2005    18380\n",
       "2004    18284\n",
       "2003    18226\n",
       "        ...  \n",
       "1934        1\n",
       "1935        1\n",
       "1928        1\n",
       "1927        1\n",
       "1939        1\n",
       "Name: yearOfRegistration, Length: 91, dtype: int64"
      ]
     },
     "execution_count": 34,
     "metadata": {},
     "output_type": "execute_result"
    }
   ],
   "source": [
    "# Model year most purchased based on the date of registration\n",
    "# convert to numeric\n",
    "df2['yearOfRegistration'] = pd.to_numeric(df2['yearOfRegistration'], errors='coerce')\n",
    "\n",
    "# Counting each model year in the market\n",
    "year_counts = df2['yearOfRegistration'].value_counts() \n",
    "year_counts"
   ]
  },
  {
   "cell_type": "code",
   "execution_count": 35,
   "id": "4d4656f1",
   "metadata": {},
   "outputs": [
    {
     "name": "stdout",
     "output_type": "stream",
     "text": [
      "Least popular car type:  other\n",
      "Most popular car type:  luxury\n",
      "Most purchased model year:  2006\n"
     ]
    }
   ],
   "source": [
    "# Printing the least and most popular car types and the most purchased model year\n",
    "most_purchased_model = year_counts.idxmax()\n",
    "\n",
    "print(\"Least popular car type: \", least_popular)\n",
    "print(\"Most popular car type: \", most_popular)\n",
    "print(\"Most purchased model year: \", most_purchased_model)"
   ]
  },
  {
   "cell_type": "markdown",
   "id": "5253cd11",
   "metadata": {},
   "source": [
    "#### Linregress Year of Registration to price to figure out price trend per model year"
   ]
  },
  {
   "cell_type": "code",
   "execution_count": 36,
   "id": "ddfeba88",
   "metadata": {},
   "outputs": [
    {
     "data": {
      "text/html": [
       "<div>\n",
       "<style scoped>\n",
       "    .dataframe tbody tr th:only-of-type {\n",
       "        vertical-align: middle;\n",
       "    }\n",
       "\n",
       "    .dataframe tbody tr th {\n",
       "        vertical-align: top;\n",
       "    }\n",
       "\n",
       "    .dataframe thead th {\n",
       "        text-align: right;\n",
       "    }\n",
       "</style>\n",
       "<table border=\"1\" class=\"dataframe\">\n",
       "  <thead>\n",
       "    <tr style=\"text-align: right;\">\n",
       "      <th></th>\n",
       "      <th>offeringDate</th>\n",
       "      <th>name</th>\n",
       "      <th>price</th>\n",
       "      <th>vehicleType</th>\n",
       "      <th>yearOfRegistration</th>\n",
       "      <th>model</th>\n",
       "      <th>kilometer</th>\n",
       "      <th>fuelType</th>\n",
       "      <th>brand</th>\n",
       "      <th>lastSeen</th>\n",
       "      <th>priceRange</th>\n",
       "    </tr>\n",
       "  </thead>\n",
       "  <tbody>\n",
       "    <tr>\n",
       "      <th>0</th>\n",
       "      <td>2016-03-14 12:52:21</td>\n",
       "      <td>Jeep_Grand_Cherokee_\"Overland\"</td>\n",
       "      <td>9800</td>\n",
       "      <td>suv</td>\n",
       "      <td>2004</td>\n",
       "      <td>grand</td>\n",
       "      <td>125000</td>\n",
       "      <td>diesel</td>\n",
       "      <td>jeep</td>\n",
       "      <td>2016-04-05 12:47:46</td>\n",
       "      <td>7500+</td>\n",
       "    </tr>\n",
       "    <tr>\n",
       "      <th>1</th>\n",
       "      <td>2016-03-17 16:54:04</td>\n",
       "      <td>GOLF_4_1_4__3TÜRER</td>\n",
       "      <td>1500</td>\n",
       "      <td>sedan</td>\n",
       "      <td>2001</td>\n",
       "      <td>golf</td>\n",
       "      <td>150000</td>\n",
       "      <td>benzin</td>\n",
       "      <td>volkswagen</td>\n",
       "      <td>2016-03-17 17:40:17</td>\n",
       "      <td>&lt;1500</td>\n",
       "    </tr>\n",
       "    <tr>\n",
       "      <th>2</th>\n",
       "      <td>2016-03-31 17:25:20</td>\n",
       "      <td>Skoda_Fabia_1.4_TDI_PD_Classic</td>\n",
       "      <td>3600</td>\n",
       "      <td>sedan</td>\n",
       "      <td>2008</td>\n",
       "      <td>fabia</td>\n",
       "      <td>90000</td>\n",
       "      <td>diesel</td>\n",
       "      <td>skoda</td>\n",
       "      <td>2016-04-06 10:17:21</td>\n",
       "      <td>3000-4500</td>\n",
       "    </tr>\n",
       "    <tr>\n",
       "      <th>3</th>\n",
       "      <td>2016-04-04 17:36:23</td>\n",
       "      <td>BMW_316i___e36_Limousine___Bastlerfahrzeug__Ex...</td>\n",
       "      <td>650</td>\n",
       "      <td>luxury</td>\n",
       "      <td>1995</td>\n",
       "      <td>3er</td>\n",
       "      <td>150000</td>\n",
       "      <td>benzin</td>\n",
       "      <td>bmw</td>\n",
       "      <td>2016-04-06 19:17:07</td>\n",
       "      <td>&lt;1500</td>\n",
       "    </tr>\n",
       "    <tr>\n",
       "      <th>4</th>\n",
       "      <td>2016-04-01 20:48:51</td>\n",
       "      <td>Peugeot_206_CC_110_Platinum</td>\n",
       "      <td>2200</td>\n",
       "      <td>convertable</td>\n",
       "      <td>2004</td>\n",
       "      <td>2_reihe</td>\n",
       "      <td>150000</td>\n",
       "      <td>benzin</td>\n",
       "      <td>peugeot</td>\n",
       "      <td>2016-04-05 18:18:39</td>\n",
       "      <td>1500-3000</td>\n",
       "    </tr>\n",
       "  </tbody>\n",
       "</table>\n",
       "</div>"
      ],
      "text/plain": [
       "          offeringDate                                               name  \\\n",
       "0  2016-03-14 12:52:21                     Jeep_Grand_Cherokee_\"Overland\"   \n",
       "1  2016-03-17 16:54:04                                 GOLF_4_1_4__3TÜRER   \n",
       "2  2016-03-31 17:25:20                     Skoda_Fabia_1.4_TDI_PD_Classic   \n",
       "3  2016-04-04 17:36:23  BMW_316i___e36_Limousine___Bastlerfahrzeug__Ex...   \n",
       "4  2016-04-01 20:48:51                        Peugeot_206_CC_110_Platinum   \n",
       "\n",
       "   price  vehicleType  yearOfRegistration    model  kilometer fuelType  \\\n",
       "0   9800          suv                2004    grand     125000   diesel   \n",
       "1   1500        sedan                2001     golf     150000   benzin   \n",
       "2   3600        sedan                2008    fabia      90000   diesel   \n",
       "3    650       luxury                1995      3er     150000   benzin   \n",
       "4   2200  convertable                2004  2_reihe     150000   benzin   \n",
       "\n",
       "        brand             lastSeen priceRange  \n",
       "0        jeep  2016-04-05 12:47:46      7500+  \n",
       "1  volkswagen  2016-03-17 17:40:17      <1500  \n",
       "2       skoda  2016-04-06 10:17:21  3000-4500  \n",
       "3         bmw  2016-04-06 19:17:07      <1500  \n",
       "4     peugeot  2016-04-05 18:18:39  1500-3000  "
      ]
     },
     "execution_count": 36,
     "metadata": {},
     "output_type": "execute_result"
    }
   ],
   "source": [
    "df2.head()"
   ]
  },
  {
   "cell_type": "code",
   "execution_count": 37,
   "id": "b5177098",
   "metadata": {},
   "outputs": [
    {
     "data": {
      "text/plain": [
       "yearOfRegistration\n",
       "1910     2175.000000\n",
       "1923     8750.000000\n",
       "1927    16500.000000\n",
       "1928     9999.000000\n",
       "1929    18133.333333\n",
       "            ...     \n",
       "2014    19717.630118\n",
       "2015    21693.989116\n",
       "2016    19933.396825\n",
       "2017     4361.461538\n",
       "2018     2766.666667\n",
       "Name: price, Length: 91, dtype: float64"
      ]
     },
     "execution_count": 37,
     "metadata": {},
     "output_type": "execute_result"
    }
   ],
   "source": [
    "# Grouping by year of registration then averaging the price column\n",
    "year_reg_mean = df2.groupby('yearOfRegistration')['price'].mean()\n",
    "year_reg_mean"
   ]
  },
  {
   "cell_type": "code",
   "execution_count": 38,
   "id": "f07e8f38",
   "metadata": {},
   "outputs": [],
   "source": [
    "# Model year is indexed\n",
    "x_values = year_reg_mean.index"
   ]
  },
  {
   "cell_type": "code",
   "execution_count": 39,
   "id": "901915a1",
   "metadata": {},
   "outputs": [],
   "source": [
    "# Assing y values for easier understanding\n",
    "y_values = year_reg_mean"
   ]
  },
  {
   "cell_type": "code",
   "execution_count": 40,
   "id": "210d8f9c",
   "metadata": {},
   "outputs": [],
   "source": [
    "# Writing down equations to determine regression and the slope\n",
    "(slope, intercept, rvalue, pvalue, stderr) = linregress(x_values, y_values)\n",
    "\n",
    "regress_values = x_values * slope + intercept\n",
    "\n",
    "line_eq = \"y = \" + str(round(slope,2)) + \"x + \" + str(round(intercept,2))"
   ]
  },
  {
   "cell_type": "code",
   "execution_count": 41,
   "id": "2880fd84",
   "metadata": {},
   "outputs": [
    {
     "data": {
      "image/png": "[encoded data removed]",
      "text/plain": [
       "<Figure size 640x480 with 1 Axes>"
      ]
     },
     "metadata": {},
     "output_type": "display_data"
    }
   ],
   "source": [
    "# Drawing price trend per model year\n",
    "plt.scatter(x_values,y_values)\n",
    "\n",
    "plt.plot(x_values,regress_values,\"r-\")\n",
    "\n",
    "line_eq = \"y = \" + str(round(slope,2)) + \" X + \" + str(round(intercept,2))\n",
    "plt.annotate(line_eq,(1920,20000),fontsize=15,color=\"red\")\n",
    "\n",
    "plt.title('Average Price per Model Year',color='b',fontsize=20)\n",
    "plt.xlabel('Model Year',color='b',fontsize=15)\n",
    "plt.ylabel('Average Price',color='b',fontsize=15)\n",
    "\n",
    "plt.savefig(\"./image/price trend per model year.png\")\n",
    "\n",
    "plt.show()"
   ]
  },
  {
   "cell_type": "markdown",
   "id": "dfc69e2b",
   "metadata": {},
   "source": [
    "-------------------"
   ]
  },
  {
   "cell_type": "markdown",
   "id": "72da5834",
   "metadata": {},
   "source": [
    "## T test for Registration year per Price"
   ]
  },
  {
   "cell_type": "markdown",
   "id": "157d5e96",
   "metadata": {},
   "source": [
    " Whole population vs sample t test"
   ]
  },
  {
   "cell_type": "code",
   "execution_count": 42,
   "id": "c689a745",
   "metadata": {},
   "outputs": [
    {
     "data": {
      "text/html": [
       "<div>\n",
       "<style scoped>\n",
       "    .dataframe tbody tr th:only-of-type {\n",
       "        vertical-align: middle;\n",
       "    }\n",
       "\n",
       "    .dataframe tbody tr th {\n",
       "        vertical-align: top;\n",
       "    }\n",
       "\n",
       "    .dataframe thead th {\n",
       "        text-align: right;\n",
       "    }\n",
       "</style>\n",
       "<table border=\"1\" class=\"dataframe\">\n",
       "  <thead>\n",
       "    <tr style=\"text-align: right;\">\n",
       "      <th></th>\n",
       "      <th>yearOfRegistration</th>\n",
       "      <th>price</th>\n",
       "    </tr>\n",
       "  </thead>\n",
       "  <tbody>\n",
       "    <tr>\n",
       "      <th>0</th>\n",
       "      <td>2004</td>\n",
       "      <td>9800</td>\n",
       "    </tr>\n",
       "    <tr>\n",
       "      <th>1</th>\n",
       "      <td>2001</td>\n",
       "      <td>1500</td>\n",
       "    </tr>\n",
       "    <tr>\n",
       "      <th>2</th>\n",
       "      <td>2008</td>\n",
       "      <td>3600</td>\n",
       "    </tr>\n",
       "    <tr>\n",
       "      <th>3</th>\n",
       "      <td>1995</td>\n",
       "      <td>650</td>\n",
       "    </tr>\n",
       "    <tr>\n",
       "      <th>4</th>\n",
       "      <td>2004</td>\n",
       "      <td>2200</td>\n",
       "    </tr>\n",
       "  </tbody>\n",
       "</table>\n",
       "</div>"
      ],
      "text/plain": [
       "   yearOfRegistration  price\n",
       "0                2004   9800\n",
       "1                2001   1500\n",
       "2                2008   3600\n",
       "3                1995    650\n",
       "4                2004   2200"
      ]
     },
     "execution_count": 42,
     "metadata": {},
     "output_type": "execute_result"
    }
   ],
   "source": [
    "# A new Data Frame to be easier for us\n",
    "df3 = pd.DataFrame(df2[['yearOfRegistration','price']])\n",
    "df3.head()"
   ]
  },
  {
   "cell_type": "code",
   "execution_count": 43,
   "id": "7df3ee26",
   "metadata": {},
   "outputs": [
    {
     "data": {
      "text/html": [
       "<div>\n",
       "<style scoped>\n",
       "    .dataframe tbody tr th:only-of-type {\n",
       "        vertical-align: middle;\n",
       "    }\n",
       "\n",
       "    .dataframe tbody tr th {\n",
       "        vertical-align: top;\n",
       "    }\n",
       "\n",
       "    .dataframe thead th {\n",
       "        text-align: right;\n",
       "    }\n",
       "</style>\n",
       "<table border=\"1\" class=\"dataframe\">\n",
       "  <thead>\n",
       "    <tr style=\"text-align: right;\">\n",
       "      <th></th>\n",
       "      <th>yearOfRegistration</th>\n",
       "      <th>price</th>\n",
       "    </tr>\n",
       "  </thead>\n",
       "  <tbody>\n",
       "    <tr>\n",
       "      <th>0</th>\n",
       "      <td>2004</td>\n",
       "      <td>9800</td>\n",
       "    </tr>\n",
       "    <tr>\n",
       "      <th>1</th>\n",
       "      <td>2001</td>\n",
       "      <td>1500</td>\n",
       "    </tr>\n",
       "    <tr>\n",
       "      <th>2</th>\n",
       "      <td>2008</td>\n",
       "      <td>3600</td>\n",
       "    </tr>\n",
       "    <tr>\n",
       "      <th>3</th>\n",
       "      <td>1995</td>\n",
       "      <td>650</td>\n",
       "    </tr>\n",
       "    <tr>\n",
       "      <th>4</th>\n",
       "      <td>2004</td>\n",
       "      <td>2200</td>\n",
       "    </tr>\n",
       "  </tbody>\n",
       "</table>\n",
       "</div>"
      ],
      "text/plain": [
       "   yearOfRegistration  price\n",
       "0                2004   9800\n",
       "1                2001   1500\n",
       "2                2008   3600\n",
       "3                1995    650\n",
       "4                2004   2200"
      ]
     },
     "execution_count": 43,
     "metadata": {},
     "output_type": "execute_result"
    }
   ],
   "source": [
    "# We assign the whole poplation\n",
    "population = df3\n",
    "population.head()"
   ]
  },
  {
   "cell_type": "code",
   "execution_count": 44,
   "id": "dfe6a7b9",
   "metadata": {},
   "outputs": [
    {
     "data": {
      "text/plain": [
       "6041.802463494245"
      ]
     },
     "execution_count": 44,
     "metadata": {},
     "output_type": "execute_result"
    }
   ],
   "source": [
    "df3['price'].mean()"
   ]
  },
  {
   "cell_type": "code",
   "execution_count": 45,
   "id": "8a2f481b",
   "metadata": {
    "scrolled": true
   },
   "outputs": [
    {
     "data": {
      "text/plain": [
       "6041.802463494245"
      ]
     },
     "execution_count": 45,
     "metadata": {},
     "output_type": "execute_result"
    }
   ],
   "source": [
    "# Finding the average price of the whole population\n",
    "population.price.mean()"
   ]
  },
  {
   "cell_type": "code",
   "execution_count": 46,
   "id": "5b05e43f",
   "metadata": {},
   "outputs": [
    {
     "data": {
      "text/plain": [
       "6602.8778998124835"
      ]
     },
     "execution_count": 46,
     "metadata": {},
     "output_type": "execute_result"
    }
   ],
   "source": [
    "# Picking sample to be tested with the whole population; we pick here data related to 2006 as a sample\n",
    "sample = df3[df3[\"yearOfRegistration\"] == 2006]\n",
    "sample.price.mean()"
   ]
  },
  {
   "cell_type": "code",
   "execution_count": 47,
   "id": "190dbd34",
   "metadata": {},
   "outputs": [
    {
     "data": {
      "text/plain": [
       "Ttest_indResult(statistic=-16.764944705223098, pvalue=9.82411170424585e-63)"
      ]
     },
     "execution_count": 47,
     "metadata": {},
     "output_type": "execute_result"
    }
   ],
   "source": [
    "# Calculate population and sample t-test\n",
    "st.ttest_ind(population.price, sample.price, equal_var=False)"
   ]
  },
  {
   "cell_type": "markdown",
   "id": "67f902bb",
   "metadata": {},
   "source": [
    "##### According to *pvalue* so the whole population and the sample are *different* therefore null hypothesis is rejected"
   ]
  },
  {
   "cell_type": "code",
   "execution_count": 48,
   "id": "2489959b",
   "metadata": {},
   "outputs": [],
   "source": [
    "# Some data to test with\n",
    "def gendata(population, sample):\n",
    "    \n",
    "    # Scatter Plot of Data\n",
    "    plt.subplot(2, 1, 1)\n",
    "    plt.scatter(range(len(population)), population, label=\"Whole Population\",alpha=0.2)\n",
    "    plt.scatter(range(len(sample)), sample, label=\"2006\",alpha=0.2)\n",
    "    plt.legend()\n",
    "    plt.title('T test and alternate hypothesis',color='b',fontsize=20)\n",
    "\n",
    "    # Histogram Plot of Data\n",
    "    plt.subplot(2, 1, 2)\n",
    "    plt.hist(population, 20, density=True, alpha=0.7, label=\"Whole Population\")\n",
    "    plt.hist(sample, 20, density=True, alpha=0.7, label=\"2006\")\n",
    "    \n",
    "    plt.axvline(population.mean(), color='k', linestyle='dashed', linewidth=1)\n",
    "    plt.axvline(sample.mean(), color='g', linestyle='dashed', linewidth=1)\n",
    "    plt.legend()  \n",
    "    \n",
    "    plt.savefig(\"./image/T test and null hypothesis.png\")\n",
    "    plt.show()\n",
    "    "
   ]
  },
  {
   "cell_type": "markdown",
   "id": "312a1ee3",
   "metadata": {},
   "source": [
    "### Independent T-Tests\n",
    "\n",
    "Independent t-tests will compare the means of 2 independent populations.\n",
    "\n",
    "#### Assumptions\n",
    "\n",
    "1. Data is normally distributed\n",
    "2. Data is independent\n",
    "3. Data is homogenous (The standard deviations are roughly equal)"
   ]
  },
  {
   "cell_type": "code",
   "execution_count": 49,
   "id": "774738a8",
   "metadata": {},
   "outputs": [
    {
     "data": {
      "image/png": "[encoded data removed]",
      "text/plain": [
       "<Figure size 640x480 with 2 Axes>"
      ]
     },
     "metadata": {},
     "output_type": "display_data"
    }
   ],
   "source": [
    "# Generate some data and show the scatter plot\n",
    "gendata(population.price, sample.price)"
   ]
  },
  {
   "cell_type": "code",
   "execution_count": 50,
   "id": "efe24d44",
   "metadata": {},
   "outputs": [
    {
     "data": {
      "text/plain": [
       "Ttest_indResult(statistic=array([-240.86744648,  -16.76494471]), pvalue=array([0.0000000e+00, 9.8241117e-63]))"
      ]
     },
     "execution_count": 50,
     "metadata": {},
     "output_type": "execute_result"
    }
   ],
   "source": [
    "# Note: Setting equal_var=False performs Welch's t-test which does \n",
    "# not assume equal population variance\n",
    "st.ttest_ind(population, sample, equal_var=False)"
   ]
  },
  {
   "cell_type": "code",
   "execution_count": 51,
   "id": "beb43a78",
   "metadata": {},
   "outputs": [
    {
     "data": {
      "text/plain": [
       "Ttest_indResult(statistic=-16.764944705223098, pvalue=9.82411170424585e-63)"
      ]
     },
     "execution_count": 51,
     "metadata": {},
     "output_type": "execute_result"
    }
   ],
   "source": [
    "# Run the t-test on the two population samples. \n",
    "st.ttest_ind(population.price, sample.price, equal_var=False)"
   ]
  },
  {
   "cell_type": "markdown",
   "id": "86ac676f",
   "metadata": {},
   "source": [
    "-------------------------------"
   ]
  },
  {
   "cell_type": "markdown",
   "id": "6c8f6379",
   "metadata": {},
   "source": [
    "## Visualizing Vehicle Type Count"
   ]
  },
  {
   "cell_type": "code",
   "execution_count": 52,
   "id": "53d178a0",
   "metadata": {},
   "outputs": [
    {
     "data": {
      "image/png": "[encoded data removed]",
      "text/plain": [
       "<Figure size 640x480 with 1 Axes>"
      ]
     },
     "metadata": {},
     "output_type": "display_data"
    }
   ],
   "source": [
    "# Using bar plot \n",
    "veh_Type_Count.sort_values(ascending=True).plot.bar()\n",
    "plt.xlabel('Vehicle Type',color='b')\n",
    "plt.ylabel('Count',color='b')\n",
    "plt.title('Count of Each Vehicle Type',fontsize=15,color='b')\n",
    "plt.savefig(\"./image/Count of Each Vehicle Type.png\")\n",
    "plt.show()"
   ]
  },
  {
   "cell_type": "markdown",
   "id": "5b389213",
   "metadata": {},
   "source": [
    "-----------------------------------------------------------"
   ]
  },
  {
   "cell_type": "markdown",
   "id": "4538763f",
   "metadata": {},
   "source": [
    "##  How long does a car stay on the market? \n",
    "   #### - Type of car "
   ]
  },
  {
   "cell_type": "markdown",
   "id": "9b5a95ec",
   "metadata": {},
   "source": [
    "*offeringDate and lastSeen are the columns to be used to determine marketDuration*"
   ]
  },
  {
   "cell_type": "code",
   "execution_count": 53,
   "id": "444c4064",
   "metadata": {},
   "outputs": [
    {
     "name": "stdout",
     "output_type": "stream",
     "text": [
      "Car types stay on market on average vehicleType\n",
      "sedan           8 days 09:04:26.946015732\n",
      "bus             8 days 15:24:16.439436110\n",
      "station wagon   8 days 15:41:36.746632296\n",
      "luxury          8 days 19:47:35.993311349\n",
      "other           8 days 20:48:36.631154499\n",
      "suv             9 days 12:03:18.322022107\n",
      "convertable     9 days 17:05:11.065274540\n",
      "coupe           9 days 20:15:19.177333928\n",
      "Name: marketDuration, dtype: timedelta64[ns]\n"
     ]
    }
   ],
   "source": [
    "# Convert columns to datetime\n",
    "df2['offeringDate'] = pd.to_datetime(df2['offeringDate'])\n",
    "df2['lastSeen'] = pd.to_datetime(df2['lastSeen'])\n",
    "\n",
    "# Calculating duration\n",
    "df2['marketDuration'] = df2['lastSeen'] - df2['offeringDate']\n",
    "\n",
    "# Average duration group by car\n",
    "mkt_Duration_By_Type_mean = df2.groupby('vehicleType')['marketDuration'].mean()\n",
    "\n",
    "print(f\"Car types stay on market on average {mkt_Duration_By_Type_mean.sort_values()}\")"
   ]
  },
  {
   "cell_type": "code",
   "execution_count": 54,
   "id": "f443db5f",
   "metadata": {
    "scrolled": true
   },
   "outputs": [
    {
     "data": {
      "image/png": "[encoded data removed]",
      "text/plain": [
       "<Figure size 500x500 with 1 Axes>"
      ]
     },
     "metadata": {},
     "output_type": "display_data"
    }
   ],
   "source": [
    "# Plotting a pie chart\n",
    "plt.figure(figsize=(5,5))\n",
    "plt.pie(mkt_Duration_By_Type_mean, labels=mkt_Duration_By_Type_mean.index, autopct='%1.1f%%')\n",
    "plt.title('Market Duration Stay Distribution by Car Type',color='b')\n",
    "plt.tight_layout()\n",
    "plt.savefig(\"./image/Market Stay Duration Distribution by Car Type.png\")\n",
    "plt.show()\n",
    "# there is almost similar distribution of market duration for different vehicle types. "
   ]
  },
  {
   "cell_type": "markdown",
   "id": "7b4bec2e",
   "metadata": {},
   "source": [
    "-------------------------------------------------"
   ]
  },
  {
   "cell_type": "markdown",
   "id": "fde0625d",
   "metadata": {},
   "source": [
    "## How much does mileage affect the car price?"
   ]
  },
  {
   "cell_type": "code",
   "execution_count": 55,
   "id": "1ce2c8e0",
   "metadata": {},
   "outputs": [
    {
     "data": {
      "image/png": "[encoded data removed]",
      "text/plain": [
       "<Figure size 640x480 with 1 Axes>"
      ]
     },
     "metadata": {},
     "output_type": "display_data"
    }
   ],
   "source": [
    "# group by kilometer and price. \n",
    "kilometer_grouped_df = df2.groupby('kilometer')['price'].mean()\n",
    "\n",
    "# Mileage vs Average Price Visualized in Line Chart\n",
    "plt.plot(kilometer_grouped_df,linewidth=1, marker='+',color='g')\n",
    "plt.title('mileage affect the car price',fontsize=18,color='b')\n",
    "plt.xlabel('Mileage (km)',fontsize=12,color='b')\n",
    "plt.ylabel('Average Price (USD)',fontsize=12,color='b')\n",
    "plt.vlines(10000,0,22000,alpha=0.5,color='orange',linestyle=':')\n",
    "plt.grid()\n",
    "plt.savefig(\"./image/mileage affect the car price.png\")\n",
    "plt.show()"
   ]
  },
  {
   "cell_type": "markdown",
   "id": "411dab48",
   "metadata": {},
   "source": [
    "----------------"
   ]
  },
  {
   "cell_type": "markdown",
   "id": "5a17c812",
   "metadata": {},
   "source": [
    "## Number of Sales vs Mileage"
   ]
  },
  {
   "cell_type": "code",
   "execution_count": 56,
   "id": "127e886f",
   "metadata": {},
   "outputs": [
    {
     "data": {
      "text/plain": [
       "kilometer\n",
       "5000        2726\n",
       "10000       1353\n",
       "20000       4315\n",
       "30000       5000\n",
       "40000       5516\n",
       "50000       6610\n",
       "60000       7576\n",
       "70000       8487\n",
       "80000       9550\n",
       "90000      10734\n",
       "100000     13029\n",
       "125000     31713\n",
       "150000    184441\n",
       "Name: price, dtype: int64"
      ]
     },
     "execution_count": 56,
     "metadata": {},
     "output_type": "execute_result"
    }
   ],
   "source": [
    "# Counting how many prices for each mileage\n",
    "mileage_Sales_Count = df2.groupby(['kilometer'])['price'].count()\n",
    "mileage_Sales_Count"
   ]
  },
  {
   "cell_type": "code",
   "execution_count": 57,
   "id": "dea89eca",
   "metadata": {},
   "outputs": [
    {
     "data": {
      "text/plain": [
       "Int64Index([  5000,  10000,  20000,  30000,  40000,  50000,  60000,  70000,\n",
       "             80000,  90000, 100000, 125000, 150000],\n",
       "           dtype='int64', name='kilometer')"
      ]
     },
     "execution_count": 57,
     "metadata": {},
     "output_type": "execute_result"
    }
   ],
   "source": [
    "# Assigning keys to x\n",
    "x = mileage_Sales_Count.keys()\n",
    "x"
   ]
  },
  {
   "cell_type": "code",
   "execution_count": 58,
   "id": "91707b63",
   "metadata": {},
   "outputs": [
    {
     "data": {
      "text/plain": [
       "array([  2726,   1353,   4315,   5000,   5516,   6610,   7576,   8487,\n",
       "         9550,  10734,  13029,  31713, 184441], dtype=int64)"
      ]
     },
     "execution_count": 58,
     "metadata": {},
     "output_type": "execute_result"
    }
   ],
   "source": [
    "# Assigning values to y\n",
    "y = mileage_Sales_Count.values\n",
    "y"
   ]
  },
  {
   "cell_type": "code",
   "execution_count": 59,
   "id": "96d6fb65",
   "metadata": {},
   "outputs": [
    {
     "data": {
      "image/png": "[encoded data removed]",
      "text/plain": [
       "<Figure size 640x480 with 1 Axes>"
      ]
     },
     "metadata": {},
     "output_type": "display_data"
    }
   ],
   "source": [
    "# Create a count plot to visualize the number of sales based on mileage\n",
    "plt.scatter(x, y)\n",
    "\n",
    "plt.xlabel('Mileage (in kilometers)',fontsize=15,color='b')\n",
    "plt.ylabel('Number of Sales',fontsize=15,color='b')\n",
    "plt.title('Mileage vs. Number of Sales',fontsize=20,color='b')\n",
    "\n",
    "plt.xticks(rotation=90)  # Rotate x-axis labels if needed\n",
    "\n",
    "plt.savefig(\"./image/Mileage vs. Number of Sales.png\")\n",
    "\n",
    "plt.show()"
   ]
  },
  {
   "cell_type": "code",
   "execution_count": 60,
   "id": "ad5cddfb",
   "metadata": {},
   "outputs": [
    {
     "data": {
      "image/png": "[encoded data removed]",
      "text/plain": [
       "<Figure size 640x480 with 1 Axes>"
      ]
     },
     "metadata": {},
     "output_type": "display_data"
    }
   ],
   "source": [
    "# With Histogram chart is better\n",
    "plt.hist(df2['kilometer'])\n",
    "plt.title('Popularity per Mileage',fontsize=15,color='b')\n",
    "plt.xlabel('Mileage (in kilometers)',fontsize=15,color='b')\n",
    "plt.ylabel('Number of Sales',fontsize=15,color='b')\n",
    "plt.title('Popularity per Mileage',fontsize=20,color='b')\n",
    "\n",
    "plt.xticks(rotation=90)  # Rotate x-axis labels if needed\n",
    "\n",
    "plt.savefig(\"./image/Popularity per Mileage.png\")\n",
    "\n",
    "plt.show()"
   ]
  },
  {
   "cell_type": "markdown",
   "id": "f7f80839",
   "metadata": {},
   "source": [
    "--"
   ]
  },
  {
   "cell_type": "code",
   "execution_count": null,
   "id": "ee4c9e04",
   "metadata": {},
   "outputs": [],
   "source": []
  }
 ],
 "metadata": {
  "kernelspec": {
   "display_name": "PythonData",
   "language": "python",
   "name": "pythondata"
  },
  "language_info": {
   "codemirror_mode": {
    "name": "ipython",
    "version": 3
   },
   "file_extension": ".py",
   "mimetype": "text/x-python",
   "name": "python",
   "nbconvert_exporter": "python",
   "pygments_lexer": "ipython3",
   "version": "3.10.9"
  }
 },
 "nbformat": 4,
 "nbformat_minor": 5
}
