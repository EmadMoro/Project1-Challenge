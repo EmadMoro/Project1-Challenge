{
 "cells": [
  {
   "cell_type": "code",
   "execution_count": 1,
   "id": "44e01058",
   "metadata": {},
   "outputs": [],
   "source": [
    "#dependencies\n",
    "import pandas as pd\n",
    "import matplotlib.pyplot as plt\n",
    "import matplotlib as mpl\n",
    "import numpy as np\n",
    "import sklearn.datasets as dta\n",
    "import scipy.stats as st\n",
    "from scipy.stats import sem"
   ]
  },
  {
   "cell_type": "code",
   "execution_count": 2,
   "id": "c314b200",
   "metadata": {},
   "outputs": [],
   "source": [
    "# reading file content\n",
    "df = pd.read_csv(\"./Resources/cleaned_df.csv\")"
   ]
  },
  {
   "attachments": {},
   "cell_type": "markdown",
   "id": "ac5f21cd",
   "metadata": {},
   "source": [
    "### Exploring the Cleaning"
   ]
  },
  {
   "cell_type": "code",
   "execution_count": 3,
   "id": "4664395d",
   "metadata": {},
   "outputs": [
    {
     "name": "stdout",
     "output_type": "stream",
     "text": [
      "<class 'pandas.core.frame.DataFrame'>\n",
      "RangeIndex: 307122 entries, 0 to 307121\n",
      "Data columns (total 10 columns):\n",
      " #   Column              Non-Null Count   Dtype \n",
      "---  ------              --------------   ----- \n",
      " 0   dateCrawled         307122 non-null  object\n",
      " 1   name                307122 non-null  object\n",
      " 2   price               307122 non-null  int64 \n",
      " 3   vehicleType         307122 non-null  object\n",
      " 4   yearOfRegistration  307122 non-null  int64 \n",
      " 5   model               307122 non-null  object\n",
      " 6   kilometer           307122 non-null  int64 \n",
      " 7   fuelType            307122 non-null  object\n",
      " 8   brand               307122 non-null  object\n",
      " 9   lastSeen            307122 non-null  object\n",
      "dtypes: int64(3), object(7)\n",
      "memory usage: 23.4+ MB\n"
     ]
    }
   ],
   "source": [
    "# The structure of the dataset\n",
    "df.info()\n",
    "# total 10 columns. All non-null, 307122 rows. "
   ]
  },
  {
   "cell_type": "code",
   "execution_count": 4,
   "id": "1c9f6be1",
   "metadata": {},
   "outputs": [
    {
     "data": {
      "text/html": [
       "<div>\n",
       "<style scoped>\n",
       "    .dataframe tbody tr th:only-of-type {\n",
       "        vertical-align: middle;\n",
       "    }\n",
       "\n",
       "    .dataframe tbody tr th {\n",
       "        vertical-align: top;\n",
       "    }\n",
       "\n",
       "    .dataframe thead th {\n",
       "        text-align: right;\n",
       "    }\n",
       "</style>\n",
       "<table border=\"1\" class=\"dataframe\">\n",
       "  <thead>\n",
       "    <tr style=\"text-align: right;\">\n",
       "      <th></th>\n",
       "      <th>price</th>\n",
       "      <th>yearOfRegistration</th>\n",
       "      <th>kilometer</th>\n",
       "    </tr>\n",
       "  </thead>\n",
       "  <tbody>\n",
       "    <tr>\n",
       "      <th>count</th>\n",
       "      <td>3.071220e+05</td>\n",
       "      <td>307122.000000</td>\n",
       "      <td>307122.000000</td>\n",
       "    </tr>\n",
       "    <tr>\n",
       "      <th>mean</th>\n",
       "      <td>9.404320e+03</td>\n",
       "      <td>2002.903706</td>\n",
       "      <td>125391.180052</td>\n",
       "    </tr>\n",
       "    <tr>\n",
       "      <th>std</th>\n",
       "      <td>5.192426e+05</td>\n",
       "      <td>6.597030</td>\n",
       "      <td>39347.308065</td>\n",
       "    </tr>\n",
       "    <tr>\n",
       "      <th>min</th>\n",
       "      <td>0.000000e+00</td>\n",
       "      <td>1910.000000</td>\n",
       "      <td>5000.000000</td>\n",
       "    </tr>\n",
       "    <tr>\n",
       "      <th>25%</th>\n",
       "      <td>1.399000e+03</td>\n",
       "      <td>1999.000000</td>\n",
       "      <td>100000.000000</td>\n",
       "    </tr>\n",
       "    <tr>\n",
       "      <th>50%</th>\n",
       "      <td>3.450000e+03</td>\n",
       "      <td>2003.000000</td>\n",
       "      <td>150000.000000</td>\n",
       "    </tr>\n",
       "    <tr>\n",
       "      <th>75%</th>\n",
       "      <td>7.980000e+03</td>\n",
       "      <td>2007.000000</td>\n",
       "      <td>150000.000000</td>\n",
       "    </tr>\n",
       "    <tr>\n",
       "      <th>max</th>\n",
       "      <td>1.000000e+08</td>\n",
       "      <td>2018.000000</td>\n",
       "      <td>150000.000000</td>\n",
       "    </tr>\n",
       "  </tbody>\n",
       "</table>\n",
       "</div>"
      ],
      "text/plain": [
       "              price  yearOfRegistration      kilometer\n",
       "count  3.071220e+05       307122.000000  307122.000000\n",
       "mean   9.404320e+03         2002.903706  125391.180052\n",
       "std    5.192426e+05            6.597030   39347.308065\n",
       "min    0.000000e+00         1910.000000    5000.000000\n",
       "25%    1.399000e+03         1999.000000  100000.000000\n",
       "50%    3.450000e+03         2003.000000  150000.000000\n",
       "75%    7.980000e+03         2007.000000  150000.000000\n",
       "max    1.000000e+08         2018.000000  150000.000000"
      ]
     },
     "execution_count": 4,
     "metadata": {},
     "output_type": "execute_result"
    }
   ],
   "source": [
    "df.describe()\n",
    "\n",
    "# Interquartile distribution doesn`t seem satisfactory for now."
   ]
  },
  {
   "cell_type": "code",
   "execution_count": 5,
   "id": "1ec2e074",
   "metadata": {},
   "outputs": [
    {
     "data": {
      "text/plain": [
       "(307122, 10)"
      ]
     },
     "execution_count": 5,
     "metadata": {},
     "output_type": "execute_result"
    }
   ],
   "source": [
    "# Getting the dimensions\n",
    "df.shape"
   ]
  },
  {
   "cell_type": "code",
   "execution_count": 6,
   "id": "4f0ce982",
   "metadata": {},
   "outputs": [
    {
     "data": {
      "text/plain": [
       "Index(['offeringDate', 'name', 'price', 'vehicleType', 'yearOfRegistration',\n",
       "       'model', 'kilometer', 'fuelType', 'brand', 'lastSeen'],\n",
       "      dtype='object')"
      ]
     },
     "execution_count": 6,
     "metadata": {},
     "output_type": "execute_result"
    }
   ],
   "source": [
    "# Renaming dateCrawled to offeringDate\n",
    "df.rename(columns={'dateCrawled': 'offeringDate'}, inplace=True)\n",
    "# Listing out the columns\n",
    "df.columns"
   ]
  },
  {
   "cell_type": "code",
   "execution_count": 7,
   "id": "9ca5e2a9",
   "metadata": {},
   "outputs": [
    {
     "data": {
      "text/html": [
       "<div>\n",
       "<style scoped>\n",
       "    .dataframe tbody tr th:only-of-type {\n",
       "        vertical-align: middle;\n",
       "    }\n",
       "\n",
       "    .dataframe tbody tr th {\n",
       "        vertical-align: top;\n",
       "    }\n",
       "\n",
       "    .dataframe thead th {\n",
       "        text-align: right;\n",
       "    }\n",
       "</style>\n",
       "<table border=\"1\" class=\"dataframe\">\n",
       "  <thead>\n",
       "    <tr style=\"text-align: right;\">\n",
       "      <th></th>\n",
       "      <th>offeringDate</th>\n",
       "      <th>name</th>\n",
       "      <th>price</th>\n",
       "      <th>vehicleType</th>\n",
       "      <th>yearOfRegistration</th>\n",
       "      <th>model</th>\n",
       "      <th>kilometer</th>\n",
       "      <th>fuelType</th>\n",
       "      <th>brand</th>\n",
       "      <th>lastSeen</th>\n",
       "    </tr>\n",
       "  </thead>\n",
       "  <tbody>\n",
       "    <tr>\n",
       "      <th>0</th>\n",
       "      <td>2016-03-14 12:52:21</td>\n",
       "      <td>Jeep_Grand_Cherokee_\"Overland\"</td>\n",
       "      <td>9800</td>\n",
       "      <td>suv</td>\n",
       "      <td>2004</td>\n",
       "      <td>grand</td>\n",
       "      <td>125000</td>\n",
       "      <td>diesel</td>\n",
       "      <td>jeep</td>\n",
       "      <td>2016-04-05 12:47:46</td>\n",
       "    </tr>\n",
       "    <tr>\n",
       "      <th>1</th>\n",
       "      <td>2016-03-17 16:54:04</td>\n",
       "      <td>GOLF_4_1_4__3TÜRER</td>\n",
       "      <td>1500</td>\n",
       "      <td>kleinwagen</td>\n",
       "      <td>2001</td>\n",
       "      <td>golf</td>\n",
       "      <td>150000</td>\n",
       "      <td>benzin</td>\n",
       "      <td>volkswagen</td>\n",
       "      <td>2016-03-17 17:40:17</td>\n",
       "    </tr>\n",
       "    <tr>\n",
       "      <th>2</th>\n",
       "      <td>2016-03-31 17:25:20</td>\n",
       "      <td>Skoda_Fabia_1.4_TDI_PD_Classic</td>\n",
       "      <td>3600</td>\n",
       "      <td>kleinwagen</td>\n",
       "      <td>2008</td>\n",
       "      <td>fabia</td>\n",
       "      <td>90000</td>\n",
       "      <td>diesel</td>\n",
       "      <td>skoda</td>\n",
       "      <td>2016-04-06 10:17:21</td>\n",
       "    </tr>\n",
       "    <tr>\n",
       "      <th>3</th>\n",
       "      <td>2016-04-04 17:36:23</td>\n",
       "      <td>BMW_316i___e36_Limousine___Bastlerfahrzeug__Ex...</td>\n",
       "      <td>650</td>\n",
       "      <td>limousine</td>\n",
       "      <td>1995</td>\n",
       "      <td>3er</td>\n",
       "      <td>150000</td>\n",
       "      <td>benzin</td>\n",
       "      <td>bmw</td>\n",
       "      <td>2016-04-06 19:17:07</td>\n",
       "    </tr>\n",
       "    <tr>\n",
       "      <th>4</th>\n",
       "      <td>2016-04-01 20:48:51</td>\n",
       "      <td>Peugeot_206_CC_110_Platinum</td>\n",
       "      <td>2200</td>\n",
       "      <td>cabrio</td>\n",
       "      <td>2004</td>\n",
       "      <td>2_reihe</td>\n",
       "      <td>150000</td>\n",
       "      <td>benzin</td>\n",
       "      <td>peugeot</td>\n",
       "      <td>2016-04-05 18:18:39</td>\n",
       "    </tr>\n",
       "  </tbody>\n",
       "</table>\n",
       "</div>"
      ],
      "text/plain": [
       "          offeringDate                                               name  \\\n",
       "0  2016-03-14 12:52:21                     Jeep_Grand_Cherokee_\"Overland\"   \n",
       "1  2016-03-17 16:54:04                                 GOLF_4_1_4__3TÜRER   \n",
       "2  2016-03-31 17:25:20                     Skoda_Fabia_1.4_TDI_PD_Classic   \n",
       "3  2016-04-04 17:36:23  BMW_316i___e36_Limousine___Bastlerfahrzeug__Ex...   \n",
       "4  2016-04-01 20:48:51                        Peugeot_206_CC_110_Platinum   \n",
       "\n",
       "   price vehicleType  yearOfRegistration    model  kilometer fuelType  \\\n",
       "0   9800         suv                2004    grand     125000   diesel   \n",
       "1   1500  kleinwagen                2001     golf     150000   benzin   \n",
       "2   3600  kleinwagen                2008    fabia      90000   diesel   \n",
       "3    650   limousine                1995      3er     150000   benzin   \n",
       "4   2200      cabrio                2004  2_reihe     150000   benzin   \n",
       "\n",
       "        brand             lastSeen  \n",
       "0        jeep  2016-04-05 12:47:46  \n",
       "1  volkswagen  2016-03-17 17:40:17  \n",
       "2       skoda  2016-04-06 10:17:21  \n",
       "3         bmw  2016-04-06 19:17:07  \n",
       "4     peugeot  2016-04-05 18:18:39  "
      ]
     },
     "execution_count": 7,
     "metadata": {},
     "output_type": "execute_result"
    }
   ],
   "source": [
    "df.head()"
   ]
  },
  {
   "attachments": {},
   "cell_type": "markdown",
   "id": "6178ffee",
   "metadata": {},
   "source": [
    "Some entries for vehicleType are in German, converting them to English. "
   ]
  },
  {
   "cell_type": "code",
   "execution_count": 8,
   "id": "23c2c344",
   "metadata": {},
   "outputs": [
    {
     "data": {
      "text/plain": [
       "array(['suv', 'sedan', 'luxury', 'convertable', 'bus', 'station', 'coupe',\n",
       "       'other'], dtype=object)"
      ]
     },
     "execution_count": 8,
     "metadata": {},
     "output_type": "execute_result"
    }
   ],
   "source": [
    "df['vehicleType'] = df['vehicleType'].replace({'andere' : 'other','kombi' : 'station','kleinwagen': 'sedan',\n",
    "                                               'cabrio': 'convertable','limousine': 'luxury'})\n",
    "df.vehicleType.unique()\n"
   ]
  },
  {
   "cell_type": "code",
   "execution_count": 9,
   "id": "96440f53",
   "metadata": {},
   "outputs": [
    {
     "data": {
      "text/html": [
       "<div>\n",
       "<style scoped>\n",
       "    .dataframe tbody tr th:only-of-type {\n",
       "        vertical-align: middle;\n",
       "    }\n",
       "\n",
       "    .dataframe tbody tr th {\n",
       "        vertical-align: top;\n",
       "    }\n",
       "\n",
       "    .dataframe thead th {\n",
       "        text-align: right;\n",
       "    }\n",
       "</style>\n",
       "<table border=\"1\" class=\"dataframe\">\n",
       "  <thead>\n",
       "    <tr style=\"text-align: right;\">\n",
       "      <th></th>\n",
       "      <th>offeringDate</th>\n",
       "      <th>name</th>\n",
       "      <th>price</th>\n",
       "      <th>vehicleType</th>\n",
       "      <th>yearOfRegistration</th>\n",
       "      <th>model</th>\n",
       "      <th>kilometer</th>\n",
       "      <th>fuelType</th>\n",
       "      <th>brand</th>\n",
       "      <th>lastSeen</th>\n",
       "    </tr>\n",
       "  </thead>\n",
       "  <tbody>\n",
       "    <tr>\n",
       "      <th>129403</th>\n",
       "      <td>2016-03-07 12:00:46</td>\n",
       "      <td>Golf_7_Variant__184_PS__Erstzulassung_2013__53...</td>\n",
       "      <td>10000</td>\n",
       "      <td>station</td>\n",
       "      <td>2013</td>\n",
       "      <td>golf</td>\n",
       "      <td>60000</td>\n",
       "      <td>diesel</td>\n",
       "      <td>volkswagen</td>\n",
       "      <td>2016-03-20 12:49:27</td>\n",
       "    </tr>\n",
       "    <tr>\n",
       "      <th>148340</th>\n",
       "      <td>2016-03-08 18:42:48</td>\n",
       "      <td>Mercedes_Benz_CLK_Coupe_230_Kompressor_Sport</td>\n",
       "      <td>1799</td>\n",
       "      <td>coupe</td>\n",
       "      <td>1999</td>\n",
       "      <td>clk</td>\n",
       "      <td>20000</td>\n",
       "      <td>benzin</td>\n",
       "      <td>mercedes_benz</td>\n",
       "      <td>2016-03-09 09:46:57</td>\n",
       "    </tr>\n",
       "    <tr>\n",
       "      <th>200383</th>\n",
       "      <td>2016-03-28 00:56:10</td>\n",
       "      <td>Suzuki_Ignis</td>\n",
       "      <td>1000</td>\n",
       "      <td>sedan</td>\n",
       "      <td>2002</td>\n",
       "      <td>andere</td>\n",
       "      <td>150000</td>\n",
       "      <td>benzin</td>\n",
       "      <td>suzuki</td>\n",
       "      <td>2016-03-28 08:46:21</td>\n",
       "    </tr>\n",
       "    <tr>\n",
       "      <th>223758</th>\n",
       "      <td>2016-04-03 09:01:15</td>\n",
       "      <td>Mercedes_Benz_CLK_320_W209</td>\n",
       "      <td>4699</td>\n",
       "      <td>coupe</td>\n",
       "      <td>2003</td>\n",
       "      <td>clk</td>\n",
       "      <td>125000</td>\n",
       "      <td>benzin</td>\n",
       "      <td>mercedes_benz</td>\n",
       "      <td>2016-04-07 09:44:54</td>\n",
       "    </tr>\n",
       "    <tr>\n",
       "      <th>282289</th>\n",
       "      <td>2016-03-18 18:46:15</td>\n",
       "      <td>Volkswagen_Passat_Variant_1.9_TDI_Highline</td>\n",
       "      <td>1999</td>\n",
       "      <td>station</td>\n",
       "      <td>2001</td>\n",
       "      <td>passat</td>\n",
       "      <td>150000</td>\n",
       "      <td>diesel</td>\n",
       "      <td>volkswagen</td>\n",
       "      <td>2016-03-18 18:46:15</td>\n",
       "    </tr>\n",
       "  </tbody>\n",
       "</table>\n",
       "</div>"
      ],
      "text/plain": [
       "               offeringDate  \\\n",
       "129403  2016-03-07 12:00:46   \n",
       "148340  2016-03-08 18:42:48   \n",
       "200383  2016-03-28 00:56:10   \n",
       "223758  2016-04-03 09:01:15   \n",
       "282289  2016-03-18 18:46:15   \n",
       "\n",
       "                                                     name  price vehicleType  \\\n",
       "129403  Golf_7_Variant__184_PS__Erstzulassung_2013__53...  10000     station   \n",
       "148340       Mercedes_Benz_CLK_Coupe_230_Kompressor_Sport   1799       coupe   \n",
       "200383                                       Suzuki_Ignis   1000       sedan   \n",
       "223758                         Mercedes_Benz_CLK_320_W209   4699       coupe   \n",
       "282289         Volkswagen_Passat_Variant_1.9_TDI_Highline   1999     station   \n",
       "\n",
       "        yearOfRegistration   model  kilometer fuelType          brand  \\\n",
       "129403                2013    golf      60000   diesel     volkswagen   \n",
       "148340                1999     clk      20000   benzin  mercedes_benz   \n",
       "200383                2002  andere     150000   benzin         suzuki   \n",
       "223758                2003     clk     125000   benzin  mercedes_benz   \n",
       "282289                2001  passat     150000   diesel     volkswagen   \n",
       "\n",
       "                   lastSeen  \n",
       "129403  2016-03-20 12:49:27  \n",
       "148340  2016-03-09 09:46:57  \n",
       "200383  2016-03-28 08:46:21  \n",
       "223758  2016-04-07 09:44:54  \n",
       "282289  2016-03-18 18:46:15  "
      ]
     },
     "execution_count": 9,
     "metadata": {},
     "output_type": "execute_result"
    }
   ],
   "source": [
    "# Duplicates\n",
    " \n",
    "duplicate_rows = df[df.duplicated()]\n",
    "\n",
    "duplicate_rows # I don`t think there is a need to drop as they are not too much. "
   ]
  },
  {
   "attachments": {},
   "cell_type": "markdown",
   "id": "0d2edb27",
   "metadata": {},
   "source": [
    "## Research Questions to Answer"
   ]
  },
  {
   "attachments": {},
   "cell_type": "markdown",
   "id": "7635136d",
   "metadata": {},
   "source": [
    "### - What is the least and most popular car type being sold?\n",
    "#### - Using date of registration, which model year is most purchased."
   ]
  },
  {
   "attachments": {},
   "cell_type": "markdown",
   "id": "17de8ecd",
   "metadata": {},
   "source": [
    "   "
   ]
  },
  {
   "cell_type": "code",
   "execution_count": 10,
   "id": "289ce3df",
   "metadata": {},
   "outputs": [
    {
     "data": {
      "text/plain": [
       "luxury         89153\n",
       "sedan          72663\n",
       "station        62599\n",
       "bus            28348\n",
       "convertable    21076\n",
       "coupe          17157\n",
       "suv            13497\n",
       "other           2629\n",
       "Name: vehicleType, dtype: int64"
      ]
     },
     "execution_count": 10,
     "metadata": {},
     "output_type": "execute_result"
    }
   ],
   "source": [
    "# Storing \"group by vehicleType\" and its count for each vehicleType in vehTypeCount\n",
    "veh_Type_Count = df['vehicleType'].value_counts() # vehicleType: the index & counts: the values\n",
    "veh_Type_Count"
   ]
  },
  {
   "cell_type": "code",
   "execution_count": 11,
   "id": "25612051",
   "metadata": {},
   "outputs": [
    {
     "data": {
      "text/plain": [
       "dtype('int64')"
      ]
     },
     "execution_count": 11,
     "metadata": {},
     "output_type": "execute_result"
    }
   ],
   "source": [
    "veh_Type_Count.dtypes"
   ]
  },
  {
   "cell_type": "code",
   "execution_count": 12,
   "id": "f37a006d",
   "metadata": {},
   "outputs": [
    {
     "data": {
      "text/plain": [
       "other           2629\n",
       "suv            13497\n",
       "coupe          17157\n",
       "convertable    21076\n",
       "bus            28348\n",
       "station        62599\n",
       "sedan          72663\n",
       "luxury         89153\n",
       "Name: vehicleType, dtype: int64"
      ]
     },
     "execution_count": 12,
     "metadata": {},
     "output_type": "execute_result"
    }
   ],
   "source": [
    "# Sorting vehTypeCount in ascending order\n",
    "type_Count_Sorted = veh_Type_Count.sort_values(ascending=True)\n",
    "type_Count_Sorted"
   ]
  },
  {
   "cell_type": "code",
   "execution_count": null,
   "id": "afcf057a",
   "metadata": {},
   "outputs": [],
   "source": []
  },
  {
   "cell_type": "code",
   "execution_count": 13,
   "id": "d3c78377",
   "metadata": {},
   "outputs": [
    {
     "data": {
      "text/plain": [
       "89153"
      ]
     },
     "execution_count": 13,
     "metadata": {},
     "output_type": "execute_result"
    }
   ],
   "source": [
    "# Most & least popular vehicle\n",
    "most_popular = type_Count_Sorted.max()\n",
    "most_popular"
   ]
  },
  {
   "cell_type": "code",
   "execution_count": 14,
   "id": "3b242900",
   "metadata": {},
   "outputs": [
    {
     "data": {
      "text/plain": [
       "2629"
      ]
     },
     "execution_count": 14,
     "metadata": {},
     "output_type": "execute_result"
    }
   ],
   "source": [
    "least_popular = type_Count_Sorted.min()\n",
    "least_popular"
   ]
  },
  {
   "cell_type": "code",
   "execution_count": 15,
   "id": "457e495f",
   "metadata": {},
   "outputs": [
    {
     "data": {
      "text/plain": [
       "1999    20247\n",
       "2006    18872\n",
       "2005    18635\n",
       "2004    18584\n",
       "2003    18542\n",
       "        ...  \n",
       "1939        2\n",
       "1933        2\n",
       "1948        1\n",
       "1919        1\n",
       "1928        1\n",
       "Name: yearOfRegistration, Length: 92, dtype: int64"
      ]
     },
     "execution_count": 15,
     "metadata": {},
     "output_type": "execute_result"
    }
   ],
   "source": [
    "# Model year most purchased based on the date of registration\n",
    "# convert to numeric\n",
    "df['yearOfRegistration'] = pd.to_numeric(df['yearOfRegistration'], errors='coerce')\n",
    "\n",
    "# Group by year and count \n",
    "year_counts = df['yearOfRegistration'].value_counts() \n",
    "year_counts"
   ]
  },
  {
   "cell_type": "code",
   "execution_count": 16,
   "id": "4d4656f1",
   "metadata": {},
   "outputs": [
    {
     "name": "stdout",
     "output_type": "stream",
     "text": [
      "Least popular car type:  2629\n",
      "Most popular car type:  89153\n",
      "Most purchased model year:  20247\n"
     ]
    }
   ],
   "source": [
    "most_purchased_model = year_counts.max()\n",
    "\n",
    "print(\"Least popular car type: \", least_popular)\n",
    "print(\"Most popular car type: \", most_popular)\n",
    "print(\"Most purchased model year: \", most_purchased_model)"
   ]
  },
  {
   "attachments": {},
   "cell_type": "markdown",
   "id": "6c8f6379",
   "metadata": {},
   "source": [
    "##### Visualizing vehicle type count"
   ]
  },
  {
   "cell_type": "code",
   "execution_count": 17,
   "id": "53d178a0",
   "metadata": {},
   "outputs": [
    {
     "data": {
      "image/png": "[encoded data removed]",
      "text/plain": [
       "<Figure size 640x480 with 1 Axes>"
      ]
     },
     "metadata": {},
     "output_type": "display_data"
    }
   ],
   "source": [
    "# Using horizontal bar plot \n",
    "type_Count_Sorted.plot.bar()\n",
    "plt.ylabel('Count')\n",
    "plt.xlabel('Vehicle Type')\n",
    "plt.title('Count of Each Vehicle Type')\n",
    "plt.show()"
   ]
  },
  {
   "cell_type": "code",
   "execution_count": 18,
   "id": "6897cc27",
   "metadata": {},
   "outputs": [
    {
     "data": {
      "text/plain": [
       "0             7500+\n",
       "1             <1500\n",
       "2         3000-4500\n",
       "3             <1500\n",
       "4         1500-3000\n",
       "            ...    \n",
       "307117        <1500\n",
       "307118        <1500\n",
       "307119        7500+\n",
       "307120    3000-4500\n",
       "307121        7500+\n",
       "Name: priceRange, Length: 307122, dtype: category\n",
       "Categories (6, object): ['<1500' < '1500-3000' < '3000-4500' < '4500-6000' < '6000-7500' < '7500+']"
      ]
     },
     "execution_count": 18,
     "metadata": {},
     "output_type": "execute_result"
    }
   ],
   "source": [
    "# Bins\n",
    "bins = [0, 1500, 3000, 4500, 6000, 7500, float('inf')]\n",
    "labels = ['<1500', '1500-3000', '3000-4500', '4500-6000', '6000-7500', '7500+']\n",
    "\n",
    "# Assign range as per bins on price column. \n",
    "# Group by vehicleType & priceRange. Number of sales, typical selling price/each group. \n",
    "df['priceRange'] = pd.cut(df['price'], bins=bins, labels=labels) # range stored in priceRange.\n",
    "df['priceRange']"
   ]
  },
  {
   "cell_type": "code",
   "execution_count": 19,
   "id": "ce9575e8",
   "metadata": {},
   "outputs": [
    {
     "data": {
      "text/html": [
       "<div>\n",
       "<style scoped>\n",
       "    .dataframe tbody tr th:only-of-type {\n",
       "        vertical-align: middle;\n",
       "    }\n",
       "\n",
       "    .dataframe tbody tr th {\n",
       "        vertical-align: top;\n",
       "    }\n",
       "\n",
       "    .dataframe thead th {\n",
       "        text-align: right;\n",
       "    }\n",
       "</style>\n",
       "<table border=\"1\" class=\"dataframe\">\n",
       "  <thead>\n",
       "    <tr style=\"text-align: right;\">\n",
       "      <th></th>\n",
       "      <th>vehicleType</th>\n",
       "      <th>priceRange</th>\n",
       "      <th>salesCount</th>\n",
       "      <th>medianPrice</th>\n",
       "    </tr>\n",
       "  </thead>\n",
       "  <tbody>\n",
       "    <tr>\n",
       "      <th>0</th>\n",
       "      <td>bus</td>\n",
       "      <td>&lt;1500</td>\n",
       "      <td>4045</td>\n",
       "      <td>999.0</td>\n",
       "    </tr>\n",
       "    <tr>\n",
       "      <th>1</th>\n",
       "      <td>bus</td>\n",
       "      <td>1500-3000</td>\n",
       "      <td>5434</td>\n",
       "      <td>2350.0</td>\n",
       "    </tr>\n",
       "    <tr>\n",
       "      <th>2</th>\n",
       "      <td>bus</td>\n",
       "      <td>3000-4500</td>\n",
       "      <td>4334</td>\n",
       "      <td>3800.0</td>\n",
       "    </tr>\n",
       "    <tr>\n",
       "      <th>3</th>\n",
       "      <td>bus</td>\n",
       "      <td>4500-6000</td>\n",
       "      <td>3461</td>\n",
       "      <td>5300.0</td>\n",
       "    </tr>\n",
       "    <tr>\n",
       "      <th>4</th>\n",
       "      <td>bus</td>\n",
       "      <td>6000-7500</td>\n",
       "      <td>2363</td>\n",
       "      <td>6899.0</td>\n",
       "    </tr>\n",
       "    <tr>\n",
       "      <th>5</th>\n",
       "      <td>bus</td>\n",
       "      <td>7500+</td>\n",
       "      <td>8390</td>\n",
       "      <td>12199.5</td>\n",
       "    </tr>\n",
       "    <tr>\n",
       "      <th>6</th>\n",
       "      <td>convertable</td>\n",
       "      <td>&lt;1500</td>\n",
       "      <td>1796</td>\n",
       "      <td>999.0</td>\n",
       "    </tr>\n",
       "    <tr>\n",
       "      <th>7</th>\n",
       "      <td>convertable</td>\n",
       "      <td>1500-3000</td>\n",
       "      <td>3046</td>\n",
       "      <td>2400.0</td>\n",
       "    </tr>\n",
       "    <tr>\n",
       "      <th>8</th>\n",
       "      <td>convertable</td>\n",
       "      <td>3000-4500</td>\n",
       "      <td>2766</td>\n",
       "      <td>3800.0</td>\n",
       "    </tr>\n",
       "    <tr>\n",
       "      <th>9</th>\n",
       "      <td>convertable</td>\n",
       "      <td>4500-6000</td>\n",
       "      <td>2179</td>\n",
       "      <td>5400.0</td>\n",
       "    </tr>\n",
       "    <tr>\n",
       "      <th>10</th>\n",
       "      <td>convertable</td>\n",
       "      <td>6000-7500</td>\n",
       "      <td>1730</td>\n",
       "      <td>6900.0</td>\n",
       "    </tr>\n",
       "    <tr>\n",
       "      <th>11</th>\n",
       "      <td>convertable</td>\n",
       "      <td>7500+</td>\n",
       "      <td>9319</td>\n",
       "      <td>14499.0</td>\n",
       "    </tr>\n",
       "    <tr>\n",
       "      <th>12</th>\n",
       "      <td>coupe</td>\n",
       "      <td>&lt;1500</td>\n",
       "      <td>3079</td>\n",
       "      <td>850.0</td>\n",
       "    </tr>\n",
       "    <tr>\n",
       "      <th>13</th>\n",
       "      <td>coupe</td>\n",
       "      <td>1500-3000</td>\n",
       "      <td>2619</td>\n",
       "      <td>2298.0</td>\n",
       "    </tr>\n",
       "    <tr>\n",
       "      <th>14</th>\n",
       "      <td>coupe</td>\n",
       "      <td>3000-4500</td>\n",
       "      <td>1705</td>\n",
       "      <td>3800.0</td>\n",
       "    </tr>\n",
       "    <tr>\n",
       "      <th>15</th>\n",
       "      <td>coupe</td>\n",
       "      <td>4500-6000</td>\n",
       "      <td>1308</td>\n",
       "      <td>5300.0</td>\n",
       "    </tr>\n",
       "    <tr>\n",
       "      <th>16</th>\n",
       "      <td>coupe</td>\n",
       "      <td>6000-7500</td>\n",
       "      <td>881</td>\n",
       "      <td>6900.0</td>\n",
       "    </tr>\n",
       "    <tr>\n",
       "      <th>17</th>\n",
       "      <td>coupe</td>\n",
       "      <td>7500+</td>\n",
       "      <td>7149</td>\n",
       "      <td>16800.0</td>\n",
       "    </tr>\n",
       "    <tr>\n",
       "      <th>18</th>\n",
       "      <td>luxury</td>\n",
       "      <td>&lt;1500</td>\n",
       "      <td>22415</td>\n",
       "      <td>900.0</td>\n",
       "    </tr>\n",
       "    <tr>\n",
       "      <th>19</th>\n",
       "      <td>luxury</td>\n",
       "      <td>1500-3000</td>\n",
       "      <td>18115</td>\n",
       "      <td>2200.0</td>\n",
       "    </tr>\n",
       "    <tr>\n",
       "      <th>20</th>\n",
       "      <td>luxury</td>\n",
       "      <td>3000-4500</td>\n",
       "      <td>10241</td>\n",
       "      <td>3800.0</td>\n",
       "    </tr>\n",
       "    <tr>\n",
       "      <th>21</th>\n",
       "      <td>luxury</td>\n",
       "      <td>4500-6000</td>\n",
       "      <td>7246</td>\n",
       "      <td>5300.0</td>\n",
       "    </tr>\n",
       "    <tr>\n",
       "      <th>22</th>\n",
       "      <td>luxury</td>\n",
       "      <td>6000-7500</td>\n",
       "      <td>5777</td>\n",
       "      <td>6899.0</td>\n",
       "    </tr>\n",
       "    <tr>\n",
       "      <th>23</th>\n",
       "      <td>luxury</td>\n",
       "      <td>7500+</td>\n",
       "      <td>23780</td>\n",
       "      <td>12500.0</td>\n",
       "    </tr>\n",
       "    <tr>\n",
       "      <th>24</th>\n",
       "      <td>other</td>\n",
       "      <td>&lt;1500</td>\n",
       "      <td>856</td>\n",
       "      <td>800.0</td>\n",
       "    </tr>\n",
       "    <tr>\n",
       "      <th>25</th>\n",
       "      <td>other</td>\n",
       "      <td>1500-3000</td>\n",
       "      <td>555</td>\n",
       "      <td>2200.0</td>\n",
       "    </tr>\n",
       "    <tr>\n",
       "      <th>26</th>\n",
       "      <td>other</td>\n",
       "      <td>3000-4500</td>\n",
       "      <td>339</td>\n",
       "      <td>3888.0</td>\n",
       "    </tr>\n",
       "    <tr>\n",
       "      <th>27</th>\n",
       "      <td>other</td>\n",
       "      <td>4500-6000</td>\n",
       "      <td>212</td>\n",
       "      <td>5200.0</td>\n",
       "    </tr>\n",
       "    <tr>\n",
       "      <th>28</th>\n",
       "      <td>other</td>\n",
       "      <td>6000-7500</td>\n",
       "      <td>121</td>\n",
       "      <td>6900.0</td>\n",
       "    </tr>\n",
       "    <tr>\n",
       "      <th>29</th>\n",
       "      <td>other</td>\n",
       "      <td>7500+</td>\n",
       "      <td>411</td>\n",
       "      <td>11500.0</td>\n",
       "    </tr>\n",
       "    <tr>\n",
       "      <th>30</th>\n",
       "      <td>sedan</td>\n",
       "      <td>&lt;1500</td>\n",
       "      <td>33498</td>\n",
       "      <td>800.0</td>\n",
       "    </tr>\n",
       "    <tr>\n",
       "      <th>31</th>\n",
       "      <td>sedan</td>\n",
       "      <td>1500-3000</td>\n",
       "      <td>15453</td>\n",
       "      <td>2199.0</td>\n",
       "    </tr>\n",
       "    <tr>\n",
       "      <th>32</th>\n",
       "      <td>sedan</td>\n",
       "      <td>3000-4500</td>\n",
       "      <td>8040</td>\n",
       "      <td>3799.0</td>\n",
       "    </tr>\n",
       "    <tr>\n",
       "      <th>33</th>\n",
       "      <td>sedan</td>\n",
       "      <td>4500-6000</td>\n",
       "      <td>5186</td>\n",
       "      <td>5290.0</td>\n",
       "    </tr>\n",
       "    <tr>\n",
       "      <th>34</th>\n",
       "      <td>sedan</td>\n",
       "      <td>6000-7500</td>\n",
       "      <td>3252</td>\n",
       "      <td>6800.0</td>\n",
       "    </tr>\n",
       "    <tr>\n",
       "      <th>35</th>\n",
       "      <td>sedan</td>\n",
       "      <td>7500+</td>\n",
       "      <td>5871</td>\n",
       "      <td>9990.0</td>\n",
       "    </tr>\n",
       "    <tr>\n",
       "      <th>36</th>\n",
       "      <td>station</td>\n",
       "      <td>&lt;1500</td>\n",
       "      <td>15069</td>\n",
       "      <td>900.0</td>\n",
       "    </tr>\n",
       "    <tr>\n",
       "      <th>37</th>\n",
       "      <td>station</td>\n",
       "      <td>1500-3000</td>\n",
       "      <td>12359</td>\n",
       "      <td>2250.0</td>\n",
       "    </tr>\n",
       "    <tr>\n",
       "      <th>38</th>\n",
       "      <td>station</td>\n",
       "      <td>3000-4500</td>\n",
       "      <td>7367</td>\n",
       "      <td>3800.0</td>\n",
       "    </tr>\n",
       "    <tr>\n",
       "      <th>39</th>\n",
       "      <td>station</td>\n",
       "      <td>4500-6000</td>\n",
       "      <td>5317</td>\n",
       "      <td>5300.0</td>\n",
       "    </tr>\n",
       "    <tr>\n",
       "      <th>40</th>\n",
       "      <td>station</td>\n",
       "      <td>6000-7500</td>\n",
       "      <td>4187</td>\n",
       "      <td>6900.0</td>\n",
       "    </tr>\n",
       "    <tr>\n",
       "      <th>41</th>\n",
       "      <td>station</td>\n",
       "      <td>7500+</td>\n",
       "      <td>17200</td>\n",
       "      <td>11999.0</td>\n",
       "    </tr>\n",
       "    <tr>\n",
       "      <th>42</th>\n",
       "      <td>suv</td>\n",
       "      <td>&lt;1500</td>\n",
       "      <td>541</td>\n",
       "      <td>1000.0</td>\n",
       "    </tr>\n",
       "    <tr>\n",
       "      <th>43</th>\n",
       "      <td>suv</td>\n",
       "      <td>1500-3000</td>\n",
       "      <td>1005</td>\n",
       "      <td>2444.0</td>\n",
       "    </tr>\n",
       "    <tr>\n",
       "      <th>44</th>\n",
       "      <td>suv</td>\n",
       "      <td>3000-4500</td>\n",
       "      <td>1073</td>\n",
       "      <td>3850.0</td>\n",
       "    </tr>\n",
       "    <tr>\n",
       "      <th>45</th>\n",
       "      <td>suv</td>\n",
       "      <td>4500-6000</td>\n",
       "      <td>1076</td>\n",
       "      <td>5400.0</td>\n",
       "    </tr>\n",
       "    <tr>\n",
       "      <th>46</th>\n",
       "      <td>suv</td>\n",
       "      <td>6000-7500</td>\n",
       "      <td>917</td>\n",
       "      <td>6850.0</td>\n",
       "    </tr>\n",
       "    <tr>\n",
       "      <th>47</th>\n",
       "      <td>suv</td>\n",
       "      <td>7500+</td>\n",
       "      <td>8739</td>\n",
       "      <td>15500.0</td>\n",
       "    </tr>\n",
       "  </tbody>\n",
       "</table>\n",
       "</div>"
      ],
      "text/plain": [
       "    vehicleType priceRange  salesCount  medianPrice\n",
       "0           bus      <1500        4045        999.0\n",
       "1           bus  1500-3000        5434       2350.0\n",
       "2           bus  3000-4500        4334       3800.0\n",
       "3           bus  4500-6000        3461       5300.0\n",
       "4           bus  6000-7500        2363       6899.0\n",
       "5           bus      7500+        8390      12199.5\n",
       "6   convertable      <1500        1796        999.0\n",
       "7   convertable  1500-3000        3046       2400.0\n",
       "8   convertable  3000-4500        2766       3800.0\n",
       "9   convertable  4500-6000        2179       5400.0\n",
       "10  convertable  6000-7500        1730       6900.0\n",
       "11  convertable      7500+        9319      14499.0\n",
       "12        coupe      <1500        3079        850.0\n",
       "13        coupe  1500-3000        2619       2298.0\n",
       "14        coupe  3000-4500        1705       3800.0\n",
       "15        coupe  4500-6000        1308       5300.0\n",
       "16        coupe  6000-7500         881       6900.0\n",
       "17        coupe      7500+        7149      16800.0\n",
       "18       luxury      <1500       22415        900.0\n",
       "19       luxury  1500-3000       18115       2200.0\n",
       "20       luxury  3000-4500       10241       3800.0\n",
       "21       luxury  4500-6000        7246       5300.0\n",
       "22       luxury  6000-7500        5777       6899.0\n",
       "23       luxury      7500+       23780      12500.0\n",
       "24        other      <1500         856        800.0\n",
       "25        other  1500-3000         555       2200.0\n",
       "26        other  3000-4500         339       3888.0\n",
       "27        other  4500-6000         212       5200.0\n",
       "28        other  6000-7500         121       6900.0\n",
       "29        other      7500+         411      11500.0\n",
       "30        sedan      <1500       33498        800.0\n",
       "31        sedan  1500-3000       15453       2199.0\n",
       "32        sedan  3000-4500        8040       3799.0\n",
       "33        sedan  4500-6000        5186       5290.0\n",
       "34        sedan  6000-7500        3252       6800.0\n",
       "35        sedan      7500+        5871       9990.0\n",
       "36      station      <1500       15069        900.0\n",
       "37      station  1500-3000       12359       2250.0\n",
       "38      station  3000-4500        7367       3800.0\n",
       "39      station  4500-6000        5317       5300.0\n",
       "40      station  6000-7500        4187       6900.0\n",
       "41      station      7500+       17200      11999.0\n",
       "42          suv      <1500         541       1000.0\n",
       "43          suv  1500-3000        1005       2444.0\n",
       "44          suv  3000-4500        1073       3850.0\n",
       "45          suv  4500-6000        1076       5400.0\n",
       "46          suv  6000-7500         917       6850.0\n",
       "47          suv      7500+        8739      15500.0"
      ]
     },
     "execution_count": 19,
     "metadata": {},
     "output_type": "execute_result"
    }
   ],
   "source": [
    "# grouping by price range\n",
    "category_df = df.groupby(['vehicleType', 'priceRange']).agg({'price': ['count', 'median']}).reset_index()\n",
    "#renaming for clarity\n",
    "category_df.columns =  ['vehicleType', 'priceRange', 'salesCount', 'medianPrice']\n",
    "\n",
    "category_df.head(100)"
   ]
  },
  {
   "cell_type": "code",
   "execution_count": 20,
   "id": "d4e3a17a",
   "metadata": {},
   "outputs": [
    {
     "data": {
      "text/plain": [
       "0             bus\n",
       "1             bus\n",
       "2             bus\n",
       "3             bus\n",
       "4             bus\n",
       "5             bus\n",
       "6     convertable\n",
       "7     convertable\n",
       "8     convertable\n",
       "9     convertable\n",
       "10    convertable\n",
       "11    convertable\n",
       "12          coupe\n",
       "13          coupe\n",
       "14          coupe\n",
       "15          coupe\n",
       "16          coupe\n",
       "17          coupe\n",
       "18         luxury\n",
       "19         luxury\n",
       "20         luxury\n",
       "21         luxury\n",
       "22         luxury\n",
       "23         luxury\n",
       "24          other\n",
       "25          other\n",
       "26          other\n",
       "27          other\n",
       "28          other\n",
       "29          other\n",
       "30          sedan\n",
       "31          sedan\n",
       "32          sedan\n",
       "33          sedan\n",
       "34          sedan\n",
       "35          sedan\n",
       "36        station\n",
       "37        station\n",
       "38        station\n",
       "39        station\n",
       "40        station\n",
       "41        station\n",
       "42            suv\n",
       "43            suv\n",
       "44            suv\n",
       "45            suv\n",
       "46            suv\n",
       "47            suv\n",
       "Name: vehicleType, dtype: object"
      ]
     },
     "execution_count": 20,
     "metadata": {},
     "output_type": "execute_result"
    }
   ],
   "source": [
    "rx_axis = category_df['vehicleType']\n",
    "rx_axis"
   ]
  },
  {
   "cell_type": "code",
   "execution_count": 21,
   "id": "f9da6f56",
   "metadata": {},
   "outputs": [
    {
     "data": {
      "text/plain": [
       "0      4045\n",
       "1      5434\n",
       "2      4334\n",
       "3      3461\n",
       "4      2363\n",
       "5      8390\n",
       "6      1796\n",
       "7      3046\n",
       "8      2766\n",
       "9      2179\n",
       "10     1730\n",
       "11     9319\n",
       "12     3079\n",
       "13     2619\n",
       "14     1705\n",
       "15     1308\n",
       "16      881\n",
       "17     7149\n",
       "18    22415\n",
       "19    18115\n",
       "20    10241\n",
       "21     7246\n",
       "22     5777\n",
       "23    23780\n",
       "24      856\n",
       "25      555\n",
       "26      339\n",
       "27      212\n",
       "28      121\n",
       "29      411\n",
       "30    33498\n",
       "31    15453\n",
       "32     8040\n",
       "33     5186\n",
       "34     3252\n",
       "35     5871\n",
       "36    15069\n",
       "37    12359\n",
       "38     7367\n",
       "39     5317\n",
       "40     4187\n",
       "41    17200\n",
       "42      541\n",
       "43     1005\n",
       "44     1073\n",
       "45     1076\n",
       "46      917\n",
       "47     8739\n",
       "Name: salesCount, dtype: int64"
      ]
     },
     "execution_count": 21,
     "metadata": {},
     "output_type": "execute_result"
    }
   ],
   "source": [
    "ry_axis = category_df['salesCount']\n",
    "ry_axis"
   ]
  },
  {
   "cell_type": "code",
   "execution_count": 22,
   "id": "ccc8b8f6",
   "metadata": {},
   "outputs": [
    {
     "data": {
      "text/plain": [
       "[1500, 3000, 4500, 6000, 7500, 100000]"
      ]
     },
     "execution_count": 22,
     "metadata": {},
     "output_type": "execute_result"
    }
   ],
   "source": [
    "labels2 = [1500,3000,4500,6000,7500,100000]\n",
    "color_range = list(labels2)\n",
    "color_range"
   ]
  },
  {
   "cell_type": "code",
   "execution_count": 23,
   "id": "fdb9273d",
   "metadata": {},
   "outputs": [
    {
     "data": {
      "image/png": "[encoded data removed]",
      "text/plain": [
       "<Figure size 640x480 with 1 Axes>"
      ]
     },
     "metadata": {},
     "output_type": "display_data"
    },
    {
     "data": {
      "image/png": "[encoded data removed]",
      "text/plain": [
       "<Figure size 700x100 with 1 Axes>"
      ]
     },
     "metadata": {},
     "output_type": "display_data"
    }
   ],
   "source": [
    "# Bar plot for sales to price \n",
    "\n",
    "fig = plt.figure()\n",
    "my_cmap = plt.colormaps.get_cmap('summer')\n",
    "rescale = lambda y: (ry_axis - min(ry_axis)) / (max(ry_axis) - min(ry_axis))\n",
    "plt.bar(rx_axis, ry_axis, color=my_cmap(rescale(ry_axis)), alpha = .5)\n",
    "plt.title('Number of Sales for Each Car Type within Price Ranges')\n",
    "plt.xlabel('Car Type')\n",
    "plt.ylabel('Number of Sales')\n",
    "plt.xticks(rotation = \"vertical\")\n",
    "\n",
    "fig, ax = plt.subplots(figsize=(7, 1))\n",
    "fig.subplots_adjust(bottom=0.5)\n",
    "\n",
    "cmap = plt.cm.summer\n",
    "bounds = color_range\n",
    "norm = mpl.colors.BoundaryNorm(bounds, cmap.N, extend='both')\n",
    "\n",
    "fig.colorbar(plt.cm.ScalarMappable(norm=norm, cmap=cmap),\n",
    "             cax=ax, orientation='horizontal',\n",
    "             label=\"Price Range\")\n",
    "\n",
    "\n",
    "plt.show()"
   ]
  },
  {
   "cell_type": "code",
   "execution_count": null,
   "id": "ce47e50d",
   "metadata": {},
   "outputs": [],
   "source": []
  }
 ],
 "metadata": {
  "kernelspec": {
   "display_name": "Python 3 (ipykernel)",
   "language": "python",
   "name": "python3"
  },
  "language_info": {
   "codemirror_mode": {
    "name": "ipython",
    "version": 3
   },
   "file_extension": ".py",
   "mimetype": "text/x-python",
   "name": "python",
   "nbconvert_exporter": "python",
   "pygments_lexer": "ipython3",
   "version": "3.10.9"
  }
 },
 "nbformat": 4,
 "nbformat_minor": 5
}
